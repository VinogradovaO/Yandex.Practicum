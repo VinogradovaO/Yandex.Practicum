{
 "cells": [
  {
   "cell_type": "markdown",
   "metadata": {},
   "source": [
    "ФИНАЛЬНЫЙ ПРОЕКТ\n",
    "\n",
    "**ТЕМА:** АНАЛИЗ ОТТОКА КЛИЕНТОВ БАНКА\n",
    "\n",
    "**ЗАДАЧА ПРОЕКТА:** Проанализировать клиентов регионального банка и выделить сегменты клиентов, которые склонны уходить из банка.\n",
    "Заказчиками являются маркетологи, которые занимаются оттком клиентом.\n",
    "\n",
    "**ОПИСАНИЕ ИСХОДНЫХ ДАННЫХ:**\n",
    "\n",
    "Датасет содержит данные о клиентах банка «Метанпром». Банк располагается в Ярославле и областных городах: Ростов Великий и Рыбинск.\n",
    "\n",
    "Датасет включает в себя колонки со следующим содержанием:\n",
    "\n",
    "- `userid` — идентификатор пользователя,\n",
    "- `score` — баллы кредитного скоринга,\n",
    "- `City` — город,\n",
    "- `Gender` — пол,\n",
    "- `Age` — возраст,\n",
    "- `Objects` — количество объектов в собственности \n",
    "- `equity`  — количество баллов собственности\n",
    "- `Balance` — баланс на счёте,\n",
    "- `Products` — количество продуктов, которыми пользуется клиент,\n",
    "- `CreditCard` — есть ли кредитная карта,\n",
    "- `Loyalty` / `last_activity` — активный клиент,\n",
    "- `estimated_salary` — заработная плата клиента,\n",
    "- `Churn` — ушёл или нет.\n",
    "\n",
    "**ПЛАН ИССЛЕДОВАНИЯ:**\n",
    "\n",
    "1. Получить данные и проверить данные на соотствие теме исследования\n",
    "2. Предобработка полученных данных и подготовка их к дальнейшему исследованию:\n",
    "    * Проверка корректности наименования колонок\n",
    "    * Поиск и изучение пропущенных значений\n",
    "    * Исследование типов данных\n",
    "    * Поиск и изучение явных и неявных дубликатов\n",
    "    * Поиск и изучение выбросов и аномалий в данных\n",
    "3. Исследовательский анализ данных:  \n",
    "    * Распределение клиентов в разрезе различных признаков\n",
    "    * Описание портретов клиентов различных сегментов\n",
    "    * Корреляционный анализ по различным признакам\n",
    "    * Выявление основных показателей которые влияют на отток клиентов\n",
    "    * Сегментация на основе показателей\n",
    "4. Проверка статистических гипотез:\n",
    "    * Формулировка гипотез\n",
    "    * Проверка статистической значимости\n",
    "5. Выводы и рекоменадции для отдела маркетинга\n",
    "6. Подготовка презентации на основе проекта\n",
    "    \n"
   ]
  },
  {
   "cell_type": "markdown",
   "metadata": {},
   "source": [
    "<hr style=\"border: 2px solid #425F57;\" />\n",
    "<hr style=\"border: 2px solid #425F57;\" />"
   ]
  },
  {
   "cell_type": "markdown",
   "metadata": {},
   "source": [
    "## Получение данных"
   ]
  },
  {
   "cell_type": "code",
   "execution_count": 1,
   "metadata": {},
   "outputs": [],
   "source": [
    "#Импортируем библиотеки\n",
    "import pandas as pd \n",
    "import datetime as dt\n",
    "import numpy as np\n",
    "import matplotlib.pyplot as plt\n",
    "from pandas.plotting import register_matplotlib_converters\n",
    "pd.options.mode.chained_assignment = None\n",
    "import scipy.stats as stats\n",
    "import plotly.express as px\n",
    "from scipy import stats as st\n",
    "import math as mth\n",
    "import seaborn as sns"
   ]
  },
  {
   "cell_type": "code",
   "execution_count": 2,
   "metadata": {},
   "outputs": [
    {
     "data": {
      "text/html": [
       "<div>\n",
       "<style scoped>\n",
       "    .dataframe tbody tr th:only-of-type {\n",
       "        vertical-align: middle;\n",
       "    }\n",
       "\n",
       "    .dataframe tbody tr th {\n",
       "        vertical-align: top;\n",
       "    }\n",
       "\n",
       "    .dataframe thead th {\n",
       "        text-align: right;\n",
       "    }\n",
       "</style>\n",
       "<table border=\"1\" class=\"dataframe\">\n",
       "  <thead>\n",
       "    <tr style=\"text-align: right;\">\n",
       "      <th></th>\n",
       "      <th>USERID</th>\n",
       "      <th>score</th>\n",
       "      <th>city</th>\n",
       "      <th>gender</th>\n",
       "      <th>age</th>\n",
       "      <th>equity</th>\n",
       "      <th>balance</th>\n",
       "      <th>products</th>\n",
       "      <th>credit_card</th>\n",
       "      <th>last_activity</th>\n",
       "      <th>EST_SALARY</th>\n",
       "      <th>churn</th>\n",
       "    </tr>\n",
       "  </thead>\n",
       "  <tbody>\n",
       "    <tr>\n",
       "      <th>0</th>\n",
       "      <td>183012</td>\n",
       "      <td>850.0</td>\n",
       "      <td>Рыбинск</td>\n",
       "      <td>Ж</td>\n",
       "      <td>25.0</td>\n",
       "      <td>1</td>\n",
       "      <td>59214.82</td>\n",
       "      <td>2</td>\n",
       "      <td>0</td>\n",
       "      <td>1</td>\n",
       "      <td>75719.14</td>\n",
       "      <td>1</td>\n",
       "    </tr>\n",
       "    <tr>\n",
       "      <th>1</th>\n",
       "      <td>146556</td>\n",
       "      <td>861.0</td>\n",
       "      <td>Рыбинск</td>\n",
       "      <td>Ж</td>\n",
       "      <td>37.0</td>\n",
       "      <td>5</td>\n",
       "      <td>850594.33</td>\n",
       "      <td>3</td>\n",
       "      <td>1</td>\n",
       "      <td>0</td>\n",
       "      <td>86621.77</td>\n",
       "      <td>0</td>\n",
       "    </tr>\n",
       "    <tr>\n",
       "      <th>2</th>\n",
       "      <td>120722</td>\n",
       "      <td>892.0</td>\n",
       "      <td>Рыбинск</td>\n",
       "      <td>Ж</td>\n",
       "      <td>30.0</td>\n",
       "      <td>0</td>\n",
       "      <td>NaN</td>\n",
       "      <td>1</td>\n",
       "      <td>1</td>\n",
       "      <td>1</td>\n",
       "      <td>107683.34</td>\n",
       "      <td>0</td>\n",
       "    </tr>\n",
       "    <tr>\n",
       "      <th>3</th>\n",
       "      <td>225363</td>\n",
       "      <td>866.0</td>\n",
       "      <td>Ярославль</td>\n",
       "      <td>Ж</td>\n",
       "      <td>51.0</td>\n",
       "      <td>5</td>\n",
       "      <td>1524746.26</td>\n",
       "      <td>2</td>\n",
       "      <td>0</td>\n",
       "      <td>1</td>\n",
       "      <td>174423.53</td>\n",
       "      <td>1</td>\n",
       "    </tr>\n",
       "    <tr>\n",
       "      <th>4</th>\n",
       "      <td>157978</td>\n",
       "      <td>730.0</td>\n",
       "      <td>Ярославль</td>\n",
       "      <td>М</td>\n",
       "      <td>34.0</td>\n",
       "      <td>5</td>\n",
       "      <td>174.00</td>\n",
       "      <td>1</td>\n",
       "      <td>1</td>\n",
       "      <td>0</td>\n",
       "      <td>67353.16</td>\n",
       "      <td>1</td>\n",
       "    </tr>\n",
       "  </tbody>\n",
       "</table>\n",
       "</div>"
      ],
      "text/plain": [
       "   USERID  score       city gender   age  equity     balance  products  \\\n",
       "0  183012  850.0    Рыбинск      Ж  25.0       1    59214.82         2   \n",
       "1  146556  861.0    Рыбинск      Ж  37.0       5   850594.33         3   \n",
       "2  120722  892.0    Рыбинск      Ж  30.0       0         NaN         1   \n",
       "3  225363  866.0  Ярославль      Ж  51.0       5  1524746.26         2   \n",
       "4  157978  730.0  Ярославль      М  34.0       5      174.00         1   \n",
       "\n",
       "   credit_card  last_activity  EST_SALARY  churn  \n",
       "0            0              1    75719.14      1  \n",
       "1            1              0    86621.77      0  \n",
       "2            1              1   107683.34      0  \n",
       "3            0              1   174423.53      1  \n",
       "4            1              0    67353.16      1  "
      ]
     },
     "metadata": {},
     "output_type": "display_data"
    },
    {
     "name": "stdout",
     "output_type": "stream",
     "text": [
      "<class 'pandas.core.frame.DataFrame'>\n",
      "RangeIndex: 10000 entries, 0 to 9999\n",
      "Data columns (total 12 columns):\n",
      " #   Column         Non-Null Count  Dtype  \n",
      "---  ------         --------------  -----  \n",
      " 0   USERID         10000 non-null  int64  \n",
      " 1   score          10000 non-null  float64\n",
      " 2   city           10000 non-null  object \n",
      " 3   gender         10000 non-null  object \n",
      " 4   age            9974 non-null   float64\n",
      " 5   equity         10000 non-null  int64  \n",
      " 6   balance        7705 non-null   float64\n",
      " 7   products       10000 non-null  int64  \n",
      " 8   credit_card    10000 non-null  int64  \n",
      " 9   last_activity  10000 non-null  int64  \n",
      " 10  EST_SALARY     10000 non-null  float64\n",
      " 11  churn          10000 non-null  int64  \n",
      "dtypes: float64(4), int64(6), object(2)\n",
      "memory usage: 937.6+ KB\n"
     ]
    },
    {
     "data": {
      "text/plain": [
       "None"
      ]
     },
     "metadata": {},
     "output_type": "display_data"
    }
   ],
   "source": [
    "#открытие файла с данными\n",
    "\n",
    "try:\n",
    "    path = 'C:\\\\Users\\\\User\\\\OneDrive\\\\Рабочий стол\\\\проекты\\\\'\n",
    "    df = pd.read_csv(path + 'данные_о_пользователях.csv') \n",
    "except: \n",
    "    path = \"https://drive.google.com/uc?export=download&id=1-U61mhTz_N1ARjy2XSAZ7IlQqGjeqP0F\"\n",
    "    df = pd.read_csv(path) \n",
    "\n",
    "#выводим первые 5 строк датафрйема и общую информацию о нем\n",
    "display(df.head())\n",
    "display(df.info())"
   ]
  },
  {
   "cell_type": "markdown",
   "metadata": {},
   "source": [
    "<div style=\"border-radius: 15px; box-shadow: 4px 4px 4px; border: solid black 2px; padding: 20px\"> <b>Вывод:</b><br>\n",
    "    \n",
    "* При первой визуальной оценке датафрейма видно, что данные подходят к цели нашего исследования и соответсвуют описанию исходных данных\n",
    "* В данных представлена информация о 10 000 клиентах банка\n",
    "* В датафрейме содержится 10 000 строк и 12 столбцов\n",
    "* В датафрейме присутствуют пропуски,необоходимо проверить их отдельно\n",
    "* Названия столбцов соответвуют их содержанию, но не приведены к единому стилю, некоторые требуется переименовать\n",
    "* В датафрейме представлены данные 3 типов данных: object, float64,int64. Содержание столбцов впринципе соответсвует типам данных, но некоторые можно изменить.\n",
    "</div>       \n",
    "<br>"
   ]
  },
  {
   "cell_type": "markdown",
   "metadata": {},
   "source": [
    "<hr style=\"border: 2px solid #425F57;\" />\n",
    "<hr style=\"border: 2px solid #425F57;\" />"
   ]
  },
  {
   "cell_type": "markdown",
   "metadata": {},
   "source": [
    "## Предобработка данных"
   ]
  },
  {
   "cell_type": "markdown",
   "metadata": {},
   "source": [
    "### Наименование колонок"
   ]
  },
  {
   "cell_type": "markdown",
   "metadata": {},
   "source": [
    "При первой визуальной оценке датафрейма, было видно что наименование столбцов не было приведено к единому стилю, поэтому требуется их переименовать:"
   ]
  },
  {
   "cell_type": "code",
   "execution_count": 3,
   "metadata": {},
   "outputs": [
    {
     "name": "stdout",
     "output_type": "stream",
     "text": [
      "Наименования всех столбцов ДО внесения изменений: Index(['USERID', 'score', 'city', 'gender', 'age', 'equity', 'balance',\n",
      "       'products', 'credit_card', 'last_activity', 'EST_SALARY', 'churn'],\n",
      "      dtype='object')\n",
      "\n",
      "Наименования всех столбцов ПОСЛЕ внесения изменений: Index(['user_id', 'score', 'city', 'gender', 'age', 'equity', 'balance',\n",
      "       'products', 'credit_card', 'last_activity', 'est_salary', 'churn'],\n",
      "      dtype='object')\n"
     ]
    }
   ],
   "source": [
    "#выводим названия всех столбцов датафрейма\n",
    "print('Наименования всех столбцов ДО внесения изменений:',df.columns)\n",
    "\n",
    "#приводим названия столбцов к нижнему регистру и доавляем нижнее полчеркивание\n",
    "df.columns = df.columns.str.lower()\n",
    "df=df.rename(columns={'userid': 'user_id'})\n",
    "\n",
    "print('')\n",
    "#проверяем\n",
    "print('Наименования всех столбцов ПОСЛЕ внесения изменений:',df.columns)"
   ]
  },
  {
   "cell_type": "markdown",
   "metadata": {},
   "source": [
    "<div style=\"border-radius: 15px; box-shadow: 4px 4px 4px; border: solid black 2px; padding: 20px\"> <b>Вывод:</b><br>\n",
    "    \n",
    "* В исходных данных столбцы не были приведены к единому стилю, поэтому мы привели данные нижнему регистру и добавили в столбце с номером клиента нижнее подчекивание\n",
    "\n",
    "</div>       \n",
    "<br>"
   ]
  },
  {
   "cell_type": "markdown",
   "metadata": {},
   "source": [
    "### Пропущенные значения"
   ]
  },
  {
   "cell_type": "markdown",
   "metadata": {},
   "source": [
    "В полученных были допущены пропуски, посмотрим подробнее:"
   ]
  },
  {
   "cell_type": "code",
   "execution_count": 4,
   "metadata": {},
   "outputs": [
    {
     "name": "stdout",
     "output_type": "stream",
     "text": [
      "Колличество пропусков в столбцах:\n"
     ]
    },
    {
     "data": {
      "text/plain": [
       "user_id             0\n",
       "score               0\n",
       "city                0\n",
       "gender              0\n",
       "age                26\n",
       "equity              0\n",
       "balance          2295\n",
       "products            0\n",
       "credit_card         0\n",
       "last_activity       0\n",
       "est_salary          0\n",
       "churn               0\n",
       "dtype: int64"
      ]
     },
     "metadata": {},
     "output_type": "display_data"
    },
    {
     "name": "stdout",
     "output_type": "stream",
     "text": [
      "Процент пропусков в столбцах:\n"
     ]
    },
    {
     "data": {
      "text/plain": [
       "user_id           0.00\n",
       "score             0.00\n",
       "city              0.00\n",
       "gender            0.00\n",
       "age               0.26\n",
       "equity            0.00\n",
       "balance          22.95\n",
       "products          0.00\n",
       "credit_card       0.00\n",
       "last_activity     0.00\n",
       "est_salary        0.00\n",
       "churn             0.00\n",
       "dtype: float64"
      ]
     },
     "execution_count": 4,
     "metadata": {},
     "output_type": "execute_result"
    }
   ],
   "source": [
    "#Подсчитываем количество пропусков в каждом столбце\n",
    "print('Колличество пропусков в столбцах:')\n",
    "display(df.isna().sum())\n",
    "\n",
    "#Подсчитываем % пропусков в данных в каждом столбце\n",
    "print('Процент пропусков в столбцах:')\n",
    "((df.isnull().sum ()/ len(df))* 100).round(2)"
   ]
  },
  {
   "cell_type": "markdown",
   "metadata": {},
   "source": [
    "Пропуски допущены в двух столбцах:\"возраст\" и \"баланс\". Пропуски в столбце \"возраст\" можно удалить без критичного процента потери данных (менее 1%), а вот со столбцом \"баланс\" так сделать не получится, т.к. процент потери данных будет слишком большой.  \n",
    "Предположим, что пропуски в данном столбце означают нулевой баланс, для этого сначала проверим, есть ли клиенты у которых баланс равен 0"
   ]
  },
  {
   "cell_type": "code",
   "execution_count": 5,
   "metadata": {},
   "outputs": [
    {
     "data": {
      "text/html": [
       "<div>\n",
       "<style scoped>\n",
       "    .dataframe tbody tr th:only-of-type {\n",
       "        vertical-align: middle;\n",
       "    }\n",
       "\n",
       "    .dataframe tbody tr th {\n",
       "        vertical-align: top;\n",
       "    }\n",
       "\n",
       "    .dataframe thead th {\n",
       "        text-align: right;\n",
       "    }\n",
       "</style>\n",
       "<table border=\"1\" class=\"dataframe\">\n",
       "  <thead>\n",
       "    <tr style=\"text-align: right;\">\n",
       "      <th></th>\n",
       "      <th>user_id</th>\n",
       "      <th>score</th>\n",
       "      <th>city</th>\n",
       "      <th>gender</th>\n",
       "      <th>age</th>\n",
       "      <th>equity</th>\n",
       "      <th>balance</th>\n",
       "      <th>products</th>\n",
       "      <th>credit_card</th>\n",
       "      <th>last_activity</th>\n",
       "      <th>est_salary</th>\n",
       "      <th>churn</th>\n",
       "    </tr>\n",
       "  </thead>\n",
       "  <tbody>\n",
       "    <tr>\n",
       "      <th>3900</th>\n",
       "      <td>179831</td>\n",
       "      <td>730.0</td>\n",
       "      <td>Ярославль</td>\n",
       "      <td>М</td>\n",
       "      <td>18.0</td>\n",
       "      <td>0</td>\n",
       "      <td>0.0</td>\n",
       "      <td>2</td>\n",
       "      <td>1</td>\n",
       "      <td>1</td>\n",
       "      <td>64548.33</td>\n",
       "      <td>0</td>\n",
       "    </tr>\n",
       "    <tr>\n",
       "      <th>6757</th>\n",
       "      <td>148456</td>\n",
       "      <td>813.0</td>\n",
       "      <td>Ярославль</td>\n",
       "      <td>М</td>\n",
       "      <td>20.0</td>\n",
       "      <td>2</td>\n",
       "      <td>0.0</td>\n",
       "      <td>2</td>\n",
       "      <td>1</td>\n",
       "      <td>0</td>\n",
       "      <td>23876.51</td>\n",
       "      <td>0</td>\n",
       "    </tr>\n",
       "  </tbody>\n",
       "</table>\n",
       "</div>"
      ],
      "text/plain": [
       "      user_id  score       city gender   age  equity  balance  products  \\\n",
       "3900   179831  730.0  Ярославль      М  18.0       0      0.0         2   \n",
       "6757   148456  813.0  Ярославль      М  20.0       2      0.0         2   \n",
       "\n",
       "      credit_card  last_activity  est_salary  churn  \n",
       "3900            1              1    64548.33      0  \n",
       "6757            1              0    23876.51      0  "
      ]
     },
     "execution_count": 5,
     "metadata": {},
     "output_type": "execute_result"
    }
   ],
   "source": [
    "#делаем срез по клиентам у которых баланс равен 0\n",
    "df.query('balance == 0')"
   ]
  },
  {
   "cell_type": "markdown",
   "metadata": {},
   "source": [
    "Таких клиентов всего два и у обоих из них есть кредитные карты, возможно на балансе клиентов просто нет свох средств и они пользуются кредитными.  \n",
    "Исходя из этого считаю логичными, замена пропусков в столбце \"баланс\" на 0"
   ]
  },
  {
   "cell_type": "code",
   "execution_count": 6,
   "metadata": {},
   "outputs": [
    {
     "data": {
      "text/plain": [
       "user_id          0\n",
       "score            0\n",
       "city             0\n",
       "gender           0\n",
       "age              0\n",
       "equity           0\n",
       "balance          0\n",
       "products         0\n",
       "credit_card      0\n",
       "last_activity    0\n",
       "est_salary       0\n",
       "churn            0\n",
       "dtype: int64"
      ]
     },
     "metadata": {},
     "output_type": "display_data"
    }
   ],
   "source": [
    "#удаляем пропуски в столбце \"возраст\" и заменяем остальные пропуски (т.е. в столбце \"баланс\") на 0\n",
    "df=df.dropna(subset=['age']).fillna(0)\n",
    "\n",
    "#проверяем количество пропусков\n",
    "display(df.isna().sum())"
   ]
  },
  {
   "cell_type": "markdown",
   "metadata": {},
   "source": [
    "<div style=\"border-radius: 15px; box-shadow: 4px 4px 4px; border: solid black 2px; padding: 20px\"> <b>Вывод:</b><br>\n",
    "    \n",
    "* Пропуски были допущены в двух столбцах \"возраст\" и \"баланс\"\n",
    "* т.к.колчичество пропусков в столбце \"возраст\" было незначительно мы их удалили, а в столбце \"баланс\" заменили на 0\n",
    "* Общая потеря данных составила менее 1%\n",
    "\n",
    "</div>       \n",
    "<br>"
   ]
  },
  {
   "cell_type": "markdown",
   "metadata": {},
   "source": [
    "### Изменение типов данных"
   ]
  },
  {
   "cell_type": "markdown",
   "metadata": {},
   "source": [
    "Для дальнейшего анализа также лучше проверить типы данных, чтобы можно было корректно строить метрики и делать выводы.\n",
    "Повторно выведем на экран информацию с типами данных в столбцах датафрейма:"
   ]
  },
  {
   "cell_type": "code",
   "execution_count": 7,
   "metadata": {},
   "outputs": [
    {
     "data": {
      "text/plain": [
       "user_id            int64\n",
       "score            float64\n",
       "city              object\n",
       "gender            object\n",
       "age              float64\n",
       "equity             int64\n",
       "balance          float64\n",
       "products           int64\n",
       "credit_card        int64\n",
       "last_activity      int64\n",
       "est_salary       float64\n",
       "churn              int64\n",
       "dtype: object"
      ]
     },
     "execution_count": 7,
     "metadata": {},
     "output_type": "execute_result"
    }
   ],
   "source": [
    "df.dtypes"
   ]
  },
  {
   "cell_type": "markdown",
   "metadata": {},
   "source": [
    "Из всех столбцов поменять типы данных лучшее в следующих:\n",
    "\n",
    "* `score`-скоринговый балл клиента, т.к. это трёхзначное число, обычно от 1 до 999 и не может быть дробным, поэтому логичнее заменить тип данных на int\n",
    "* `age`- возраст клиента, т.к. в десятичных значениях врядли указывают возраст и скорее всего в расчет берут целые года. Также изменим тип данных на int"
   ]
  },
  {
   "cell_type": "code",
   "execution_count": 8,
   "metadata": {},
   "outputs": [
    {
     "data": {
      "text/plain": [
       "user_id            int64\n",
       "score              int64\n",
       "city              object\n",
       "gender            object\n",
       "age                int64\n",
       "equity             int64\n",
       "balance          float64\n",
       "products           int64\n",
       "credit_card        int64\n",
       "last_activity      int64\n",
       "est_salary       float64\n",
       "churn              int64\n",
       "dtype: object"
      ]
     },
     "execution_count": 8,
     "metadata": {},
     "output_type": "execute_result"
    }
   ],
   "source": [
    "#меняем тип данных в столбцах\n",
    "df[['score', 'age']] = df[['score', 'age']].astype(int)\n",
    "#проверяем\n",
    "df.dtypes"
   ]
  },
  {
   "cell_type": "markdown",
   "metadata": {},
   "source": [
    "<div style=\"border-radius: 15px; box-shadow: 4px 4px 4px; border: solid black 2px; padding: 20px\"> <b>Вывод:</b><br>\n",
    "    \n",
    "* Типы данных изменили в двух столбцах \"скоринговый балл\" и \"возраст\" с дробного на целое число\n",
    "\n",
    "</div>       \n",
    "<br>"
   ]
  },
  {
   "cell_type": "markdown",
   "metadata": {},
   "source": [
    "### Дубликаты"
   ]
  },
  {
   "cell_type": "markdown",
   "metadata": {},
   "source": [
    "Проверим данные на наличие явных и неявных дубликатов:"
   ]
  },
  {
   "cell_type": "code",
   "execution_count": 9,
   "metadata": {},
   "outputs": [
    {
     "data": {
      "text/plain": [
       "0"
      ]
     },
     "execution_count": 9,
     "metadata": {},
     "output_type": "execute_result"
    }
   ],
   "source": [
    "#проверяем явные дубликаты\n",
    "df.duplicated().sum()"
   ]
  },
  {
   "cell_type": "markdown",
   "metadata": {},
   "source": [
    "Явных дубликатов в данных не выявлено.\n",
    "\n",
    "Из всего датафрейма неявные дублкаты могут появится только в столбце user_id. Проверим это: "
   ]
  },
  {
   "cell_type": "code",
   "execution_count": 10,
   "metadata": {},
   "outputs": [
    {
     "data": {
      "text/plain": [
       "50"
      ]
     },
     "execution_count": 10,
     "metadata": {},
     "output_type": "execute_result"
    }
   ],
   "source": [
    "df.duplicated(['user_id']).sum()"
   ]
  },
  {
   "cell_type": "code",
   "execution_count": 11,
   "metadata": {},
   "outputs": [
    {
     "data": {
      "text/plain": [
       "120258    2\n",
       "217643    2\n",
       "199312    2\n",
       "170312    2\n",
       "200863    2\n",
       "         ..\n",
       "181682    1\n",
       "179637    1\n",
       "173494    1\n",
       "175543    1\n",
       "215039    1\n",
       "Name: user_id, Length: 9924, dtype: int64"
      ]
     },
     "execution_count": 11,
     "metadata": {},
     "output_type": "execute_result"
    }
   ],
   "source": [
    "df['user_id'].value_counts(ascending=False)"
   ]
  },
  {
   "cell_type": "markdown",
   "metadata": {},
   "source": [
    "В данных есть 50 неявных дубликатов в столбце с номером клиента. Они встречаются в данных максимум 2 раза. Предположительно,это клиенты которые обслуживаются в этом банке, но в разных городах. Т.к города представленые в датафрейме находятся в одной области это вполне возможно. Проверим это, найдя количество дубликатов по двум столбцам:"
   ]
  },
  {
   "cell_type": "code",
   "execution_count": 12,
   "metadata": {},
   "outputs": [
    {
     "data": {
      "text/plain": [
       "0"
      ]
     },
     "execution_count": 12,
     "metadata": {},
     "output_type": "execute_result"
    }
   ],
   "source": [
    "df.duplicated(['user_id','city']).sum()"
   ]
  },
  {
   "cell_type": "markdown",
   "metadata": {},
   "source": [
    "Наше предположение подтвердилось, поэтому эти дублкикаты мы удалями не будем"
   ]
  },
  {
   "cell_type": "markdown",
   "metadata": {},
   "source": [
    "<div style=\"border-radius: 15px; box-shadow: 4px 4px 4px; border: solid black 2px; padding: 20px\"> <b>Вывод:</b><br>\n",
    "    \n",
    "* В датафрейме нет явных дубликатов\n",
    "* Присутствуют неявные дубли по столбце c номеров клиента, но скорее всего это клиенты которые обслуживаются в двух городах одновременно\n",
    "\n",
    "</div>       \n",
    "<br>"
   ]
  },
  {
   "cell_type": "markdown",
   "metadata": {},
   "source": [
    "### Выбросы и аномалии"
   ]
  },
  {
   "cell_type": "markdown",
   "metadata": {},
   "source": [
    "Проверим данные на аномальные знчения или выбросы:"
   ]
  },
  {
   "cell_type": "code",
   "execution_count": 13,
   "metadata": {},
   "outputs": [
    {
     "data": {
      "text/html": [
       "<div>\n",
       "<style scoped>\n",
       "    .dataframe tbody tr th:only-of-type {\n",
       "        vertical-align: middle;\n",
       "    }\n",
       "\n",
       "    .dataframe tbody tr th {\n",
       "        vertical-align: top;\n",
       "    }\n",
       "\n",
       "    .dataframe thead th {\n",
       "        text-align: right;\n",
       "    }\n",
       "</style>\n",
       "<table border=\"1\" class=\"dataframe\">\n",
       "  <thead>\n",
       "    <tr style=\"text-align: right;\">\n",
       "      <th></th>\n",
       "      <th>user_id</th>\n",
       "      <th>score</th>\n",
       "      <th>age</th>\n",
       "      <th>equity</th>\n",
       "      <th>balance</th>\n",
       "      <th>products</th>\n",
       "      <th>credit_card</th>\n",
       "      <th>last_activity</th>\n",
       "      <th>est_salary</th>\n",
       "      <th>churn</th>\n",
       "    </tr>\n",
       "  </thead>\n",
       "  <tbody>\n",
       "    <tr>\n",
       "      <th>count</th>\n",
       "      <td>9974.000000</td>\n",
       "      <td>9974.000000</td>\n",
       "      <td>9974.000000</td>\n",
       "      <td>9974.000000</td>\n",
       "      <td>9.974000e+03</td>\n",
       "      <td>9974.000000</td>\n",
       "      <td>9974.000000</td>\n",
       "      <td>9974.000000</td>\n",
       "      <td>9.974000e+03</td>\n",
       "      <td>9974.000000</td>\n",
       "    </tr>\n",
       "    <tr>\n",
       "      <th>mean</th>\n",
       "      <td>171755.218669</td>\n",
       "      <td>848.682575</td>\n",
       "      <td>42.734409</td>\n",
       "      <td>2.630840</td>\n",
       "      <td>6.382249e+05</td>\n",
       "      <td>1.871466</td>\n",
       "      <td>0.680168</td>\n",
       "      <td>0.522859</td>\n",
       "      <td>1.477868e+05</td>\n",
       "      <td>0.182374</td>\n",
       "    </tr>\n",
       "    <tr>\n",
       "      <th>std</th>\n",
       "      <td>33695.527126</td>\n",
       "      <td>65.399720</td>\n",
       "      <td>12.179971</td>\n",
       "      <td>1.979965</td>\n",
       "      <td>1.773745e+06</td>\n",
       "      <td>0.792729</td>\n",
       "      <td>0.466435</td>\n",
       "      <td>0.499502</td>\n",
       "      <td>1.392855e+05</td>\n",
       "      <td>0.386172</td>\n",
       "    </tr>\n",
       "    <tr>\n",
       "      <th>min</th>\n",
       "      <td>94561.000000</td>\n",
       "      <td>642.000000</td>\n",
       "      <td>18.000000</td>\n",
       "      <td>0.000000</td>\n",
       "      <td>0.000000e+00</td>\n",
       "      <td>0.000000</td>\n",
       "      <td>0.000000</td>\n",
       "      <td>0.000000</td>\n",
       "      <td>2.546300e+03</td>\n",
       "      <td>0.000000</td>\n",
       "    </tr>\n",
       "    <tr>\n",
       "      <th>25%</th>\n",
       "      <td>142760.000000</td>\n",
       "      <td>802.000000</td>\n",
       "      <td>33.000000</td>\n",
       "      <td>0.000000</td>\n",
       "      <td>6.280320e+04</td>\n",
       "      <td>1.000000</td>\n",
       "      <td>0.000000</td>\n",
       "      <td>0.000000</td>\n",
       "      <td>7.525166e+04</td>\n",
       "      <td>0.000000</td>\n",
       "    </tr>\n",
       "    <tr>\n",
       "      <th>50%</th>\n",
       "      <td>172643.000000</td>\n",
       "      <td>853.000000</td>\n",
       "      <td>40.000000</td>\n",
       "      <td>3.000000</td>\n",
       "      <td>3.762536e+05</td>\n",
       "      <td>2.000000</td>\n",
       "      <td>1.000000</td>\n",
       "      <td>1.000000</td>\n",
       "      <td>1.196268e+05</td>\n",
       "      <td>0.000000</td>\n",
       "    </tr>\n",
       "    <tr>\n",
       "      <th>75%</th>\n",
       "      <td>201163.750000</td>\n",
       "      <td>900.000000</td>\n",
       "      <td>51.000000</td>\n",
       "      <td>4.000000</td>\n",
       "      <td>8.042563e+05</td>\n",
       "      <td>2.000000</td>\n",
       "      <td>1.000000</td>\n",
       "      <td>1.000000</td>\n",
       "      <td>1.744998e+05</td>\n",
       "      <td>0.000000</td>\n",
       "    </tr>\n",
       "    <tr>\n",
       "      <th>max</th>\n",
       "      <td>229145.000000</td>\n",
       "      <td>1000.000000</td>\n",
       "      <td>86.000000</td>\n",
       "      <td>9.000000</td>\n",
       "      <td>1.191136e+08</td>\n",
       "      <td>5.000000</td>\n",
       "      <td>1.000000</td>\n",
       "      <td>1.000000</td>\n",
       "      <td>1.395064e+06</td>\n",
       "      <td>1.000000</td>\n",
       "    </tr>\n",
       "  </tbody>\n",
       "</table>\n",
       "</div>"
      ],
      "text/plain": [
       "             user_id        score          age       equity       balance  \\\n",
       "count    9974.000000  9974.000000  9974.000000  9974.000000  9.974000e+03   \n",
       "mean   171755.218669   848.682575    42.734409     2.630840  6.382249e+05   \n",
       "std     33695.527126    65.399720    12.179971     1.979965  1.773745e+06   \n",
       "min     94561.000000   642.000000    18.000000     0.000000  0.000000e+00   \n",
       "25%    142760.000000   802.000000    33.000000     0.000000  6.280320e+04   \n",
       "50%    172643.000000   853.000000    40.000000     3.000000  3.762536e+05   \n",
       "75%    201163.750000   900.000000    51.000000     4.000000  8.042563e+05   \n",
       "max    229145.000000  1000.000000    86.000000     9.000000  1.191136e+08   \n",
       "\n",
       "          products  credit_card  last_activity    est_salary        churn  \n",
       "count  9974.000000  9974.000000    9974.000000  9.974000e+03  9974.000000  \n",
       "mean      1.871466     0.680168       0.522859  1.477868e+05     0.182374  \n",
       "std       0.792729     0.466435       0.499502  1.392855e+05     0.386172  \n",
       "min       0.000000     0.000000       0.000000  2.546300e+03     0.000000  \n",
       "25%       1.000000     0.000000       0.000000  7.525166e+04     0.000000  \n",
       "50%       2.000000     1.000000       1.000000  1.196268e+05     0.000000  \n",
       "75%       2.000000     1.000000       1.000000  1.744998e+05     0.000000  \n",
       "max       5.000000     1.000000       1.000000  1.395064e+06     1.000000  "
      ]
     },
     "execution_count": 13,
     "metadata": {},
     "output_type": "execute_result"
    }
   ],
   "source": [
    "df.describe()"
   ]
  },
  {
   "cell_type": "markdown",
   "metadata": {},
   "source": [
    "Исходя из полученных данных можно сказать следующее:\n",
    "* в столбце `user_id` не может быть аномальных значений, т.к. там храняться уникальные номера клиентов\n",
    "* в столбце `equity` выбросов нет, т.к. там присутствуют значения от 0 до 9, что соответствует описаню исходных данных\n",
    "* в столбце `products` также нет выбросов, количество продуктов у клиентов варьируется от 0 до 5, что вполне реально\n",
    "* в столбцах `credit_card`,`last_activity`,`churn` аномалий также нет, т.к. там хрянятся 0 или 1, что соотвествует описанию исходных данных\n",
    "* в столбце `age` данные о возрасте клиента, минимальный возраст 18 лет, максимальный 86, медианное значение равно 40 годам. Данные вполне реальные для клиентов банка, аномальных значений нет\n",
    "* в столбце `score`, выбросов нет, данные варьируются от 642 до 1000, что вполне подходит к описанию оценки скорингового балла(он может быть от 1 до 1000)\n",
    "* в столбцах `balance`,`est_salary` данные стоить посмотреть подробнее"
   ]
  },
  {
   "cell_type": "code",
   "execution_count": 14,
   "metadata": {},
   "outputs": [
    {
     "name": "stdout",
     "output_type": "stream",
     "text": [
      "Персентили: [1839745.14 4295525.26]\n"
     ]
    },
    {
     "data": {
      "text/html": [
       "<div>\n",
       "<style scoped>\n",
       "    .dataframe tbody tr th:only-of-type {\n",
       "        vertical-align: middle;\n",
       "    }\n",
       "\n",
       "    .dataframe tbody tr th {\n",
       "        vertical-align: top;\n",
       "    }\n",
       "\n",
       "    .dataframe thead th {\n",
       "        text-align: right;\n",
       "    }\n",
       "</style>\n",
       "<table border=\"1\" class=\"dataframe\">\n",
       "  <thead>\n",
       "    <tr style=\"text-align: right;\">\n",
       "      <th></th>\n",
       "      <th>user_id</th>\n",
       "      <th>score</th>\n",
       "      <th>city</th>\n",
       "      <th>gender</th>\n",
       "      <th>age</th>\n",
       "      <th>equity</th>\n",
       "      <th>balance</th>\n",
       "      <th>products</th>\n",
       "      <th>credit_card</th>\n",
       "      <th>last_activity</th>\n",
       "      <th>est_salary</th>\n",
       "      <th>churn</th>\n",
       "    </tr>\n",
       "  </thead>\n",
       "  <tbody>\n",
       "    <tr>\n",
       "      <th>107</th>\n",
       "      <td>134358</td>\n",
       "      <td>985</td>\n",
       "      <td>Рыбинск</td>\n",
       "      <td>Ж</td>\n",
       "      <td>41</td>\n",
       "      <td>4</td>\n",
       "      <td>6749773.07</td>\n",
       "      <td>2</td>\n",
       "      <td>1</td>\n",
       "      <td>0</td>\n",
       "      <td>698013.27</td>\n",
       "      <td>0</td>\n",
       "    </tr>\n",
       "    <tr>\n",
       "      <th>125</th>\n",
       "      <td>227092</td>\n",
       "      <td>1000</td>\n",
       "      <td>Ярославль</td>\n",
       "      <td>М</td>\n",
       "      <td>32</td>\n",
       "      <td>5</td>\n",
       "      <td>19757180.85</td>\n",
       "      <td>2</td>\n",
       "      <td>1</td>\n",
       "      <td>1</td>\n",
       "      <td>1024626.50</td>\n",
       "      <td>0</td>\n",
       "    </tr>\n",
       "    <tr>\n",
       "      <th>143</th>\n",
       "      <td>198181</td>\n",
       "      <td>958</td>\n",
       "      <td>Ярославль</td>\n",
       "      <td>М</td>\n",
       "      <td>34</td>\n",
       "      <td>3</td>\n",
       "      <td>5763239.76</td>\n",
       "      <td>2</td>\n",
       "      <td>1</td>\n",
       "      <td>1</td>\n",
       "      <td>920730.06</td>\n",
       "      <td>1</td>\n",
       "    </tr>\n",
       "    <tr>\n",
       "      <th>215</th>\n",
       "      <td>214262</td>\n",
       "      <td>971</td>\n",
       "      <td>Ярославль</td>\n",
       "      <td>Ж</td>\n",
       "      <td>35</td>\n",
       "      <td>7</td>\n",
       "      <td>4554977.52</td>\n",
       "      <td>1</td>\n",
       "      <td>1</td>\n",
       "      <td>1</td>\n",
       "      <td>266571.08</td>\n",
       "      <td>1</td>\n",
       "    </tr>\n",
       "    <tr>\n",
       "      <th>248</th>\n",
       "      <td>180899</td>\n",
       "      <td>930</td>\n",
       "      <td>Ярославль</td>\n",
       "      <td>М</td>\n",
       "      <td>32</td>\n",
       "      <td>4</td>\n",
       "      <td>5527695.02</td>\n",
       "      <td>3</td>\n",
       "      <td>0</td>\n",
       "      <td>1</td>\n",
       "      <td>360963.15</td>\n",
       "      <td>0</td>\n",
       "    </tr>\n",
       "    <tr>\n",
       "      <th>324</th>\n",
       "      <td>221077</td>\n",
       "      <td>925</td>\n",
       "      <td>Ярославль</td>\n",
       "      <td>Ж</td>\n",
       "      <td>51</td>\n",
       "      <td>5</td>\n",
       "      <td>5049319.16</td>\n",
       "      <td>3</td>\n",
       "      <td>0</td>\n",
       "      <td>1</td>\n",
       "      <td>224310.01</td>\n",
       "      <td>0</td>\n",
       "    </tr>\n",
       "    <tr>\n",
       "      <th>517</th>\n",
       "      <td>206059</td>\n",
       "      <td>977</td>\n",
       "      <td>Рыбинск</td>\n",
       "      <td>Ж</td>\n",
       "      <td>66</td>\n",
       "      <td>4</td>\n",
       "      <td>6177830.43</td>\n",
       "      <td>1</td>\n",
       "      <td>1</td>\n",
       "      <td>1</td>\n",
       "      <td>278020.40</td>\n",
       "      <td>0</td>\n",
       "    </tr>\n",
       "    <tr>\n",
       "      <th>634</th>\n",
       "      <td>141301</td>\n",
       "      <td>952</td>\n",
       "      <td>Ярославль</td>\n",
       "      <td>М</td>\n",
       "      <td>35</td>\n",
       "      <td>5</td>\n",
       "      <td>6673219.33</td>\n",
       "      <td>4</td>\n",
       "      <td>1</td>\n",
       "      <td>0</td>\n",
       "      <td>406287.12</td>\n",
       "      <td>1</td>\n",
       "    </tr>\n",
       "    <tr>\n",
       "      <th>833</th>\n",
       "      <td>161159</td>\n",
       "      <td>973</td>\n",
       "      <td>Ярославль</td>\n",
       "      <td>М</td>\n",
       "      <td>40</td>\n",
       "      <td>5</td>\n",
       "      <td>4595105.40</td>\n",
       "      <td>2</td>\n",
       "      <td>0</td>\n",
       "      <td>0</td>\n",
       "      <td>620784.52</td>\n",
       "      <td>0</td>\n",
       "    </tr>\n",
       "    <tr>\n",
       "      <th>869</th>\n",
       "      <td>210662</td>\n",
       "      <td>962</td>\n",
       "      <td>Ярославль</td>\n",
       "      <td>Ж</td>\n",
       "      <td>54</td>\n",
       "      <td>5</td>\n",
       "      <td>5069231.39</td>\n",
       "      <td>1</td>\n",
       "      <td>1</td>\n",
       "      <td>1</td>\n",
       "      <td>955144.85</td>\n",
       "      <td>1</td>\n",
       "    </tr>\n",
       "  </tbody>\n",
       "</table>\n",
       "</div>"
      ],
      "text/plain": [
       "     user_id  score       city gender  age  equity      balance  products  \\\n",
       "107   134358    985    Рыбинск      Ж   41       4   6749773.07         2   \n",
       "125   227092   1000  Ярославль      М   32       5  19757180.85         2   \n",
       "143   198181    958  Ярославль      М   34       3   5763239.76         2   \n",
       "215   214262    971  Ярославль      Ж   35       7   4554977.52         1   \n",
       "248   180899    930  Ярославль      М   32       4   5527695.02         3   \n",
       "324   221077    925  Ярославль      Ж   51       5   5049319.16         3   \n",
       "517   206059    977    Рыбинск      Ж   66       4   6177830.43         1   \n",
       "634   141301    952  Ярославль      М   35       5   6673219.33         4   \n",
       "833   161159    973  Ярославль      М   40       5   4595105.40         2   \n",
       "869   210662    962  Ярославль      Ж   54       5   5069231.39         1   \n",
       "\n",
       "     credit_card  last_activity  est_salary  churn  \n",
       "107            1              0   698013.27      0  \n",
       "125            1              1  1024626.50      0  \n",
       "143            1              1   920730.06      1  \n",
       "215            1              1   266571.08      1  \n",
       "248            0              1   360963.15      0  \n",
       "324            0              1   224310.01      0  \n",
       "517            1              1   278020.40      0  \n",
       "634            1              0   406287.12      1  \n",
       "833            0              0   620784.52      0  \n",
       "869            1              1   955144.85      1  "
      ]
     },
     "execution_count": 14,
     "metadata": {},
     "output_type": "execute_result"
    },
    {
     "data": {
      "image/png": "[encoded data removed]",
      "text/plain": [
       "<Figure size 1080x216 with 1 Axes>"
      ]
     },
     "metadata": {
      "needs_background": "light"
     },
     "output_type": "display_data"
    }
   ],
   "source": [
    "#построим \"ящик с усами\" по столбцу \"balance\"\n",
    "df.boxplot(column='balance',figsize=(15,3),vert=False)\n",
    "plt.show\n",
    "plt.title('\"Ящики с усами\" по столбцу \"balance\"')\n",
    "plt.xlabel('Баланс');\n",
    "#выведем 95 и 99 пересентили\n",
    "print('Персентили:',np.percentile(df['balance'], [95, 99]).round(2))\n",
    "\n",
    "#запишем значение 99 пересентили в отдельную переменную для среза\n",
    "percentile_99=np.percentile(df['balance'],99).round(2)\n",
    "\n",
    "#делаем срез и выводим на экран\n",
    "df_cost=df.query('balance>=@percentile_99')\n",
    "#df_cost.head()\n",
    "df_cost.head(10)"
   ]
  },
  {
   "cell_type": "markdown",
   "metadata": {},
   "source": [
    "По графику видно, что клиенты с балансом больше 20 млн единичны, а больше 40 млн вообще всего 3. \n",
    "У 1% клиентов баланс превышет 4,2 млн. Если посмотреть на этих клиентов, то видно что клиенту имеют достаточное количество объектов недвижимости в собственности и уровень их заработной платы также высокий. Можно сделать вывод, что это премиум клиенты банка, а не аномальные значения."
   ]
  },
  {
   "cell_type": "code",
   "execution_count": 15,
   "metadata": {},
   "outputs": [
    {
     "name": "stdout",
     "output_type": "stream",
     "text": [
      "Персентили: [316360.58 886322.53]\n"
     ]
    },
    {
     "data": {
      "text/html": [
       "<div>\n",
       "<style scoped>\n",
       "    .dataframe tbody tr th:only-of-type {\n",
       "        vertical-align: middle;\n",
       "    }\n",
       "\n",
       "    .dataframe tbody tr th {\n",
       "        vertical-align: top;\n",
       "    }\n",
       "\n",
       "    .dataframe thead th {\n",
       "        text-align: right;\n",
       "    }\n",
       "</style>\n",
       "<table border=\"1\" class=\"dataframe\">\n",
       "  <thead>\n",
       "    <tr style=\"text-align: right;\">\n",
       "      <th></th>\n",
       "      <th>user_id</th>\n",
       "      <th>score</th>\n",
       "      <th>city</th>\n",
       "      <th>gender</th>\n",
       "      <th>age</th>\n",
       "      <th>equity</th>\n",
       "      <th>balance</th>\n",
       "      <th>products</th>\n",
       "      <th>credit_card</th>\n",
       "      <th>last_activity</th>\n",
       "      <th>est_salary</th>\n",
       "      <th>churn</th>\n",
       "    </tr>\n",
       "  </thead>\n",
       "  <tbody>\n",
       "    <tr>\n",
       "      <th>30</th>\n",
       "      <td>155730</td>\n",
       "      <td>946</td>\n",
       "      <td>Ярославль</td>\n",
       "      <td>Ж</td>\n",
       "      <td>47</td>\n",
       "      <td>0</td>\n",
       "      <td>0.00</td>\n",
       "      <td>2</td>\n",
       "      <td>1</td>\n",
       "      <td>1</td>\n",
       "      <td>660015.85</td>\n",
       "      <td>0</td>\n",
       "    </tr>\n",
       "    <tr>\n",
       "      <th>44</th>\n",
       "      <td>210313</td>\n",
       "      <td>935</td>\n",
       "      <td>Ярославль</td>\n",
       "      <td>М</td>\n",
       "      <td>41</td>\n",
       "      <td>5</td>\n",
       "      <td>3781118.22</td>\n",
       "      <td>2</td>\n",
       "      <td>1</td>\n",
       "      <td>0</td>\n",
       "      <td>761349.20</td>\n",
       "      <td>0</td>\n",
       "    </tr>\n",
       "    <tr>\n",
       "      <th>59</th>\n",
       "      <td>227642</td>\n",
       "      <td>930</td>\n",
       "      <td>Ярославль</td>\n",
       "      <td>Ж</td>\n",
       "      <td>36</td>\n",
       "      <td>0</td>\n",
       "      <td>0.00</td>\n",
       "      <td>2</td>\n",
       "      <td>1</td>\n",
       "      <td>0</td>\n",
       "      <td>359081.73</td>\n",
       "      <td>0</td>\n",
       "    </tr>\n",
       "    <tr>\n",
       "      <th>107</th>\n",
       "      <td>134358</td>\n",
       "      <td>985</td>\n",
       "      <td>Рыбинск</td>\n",
       "      <td>Ж</td>\n",
       "      <td>41</td>\n",
       "      <td>4</td>\n",
       "      <td>6749773.07</td>\n",
       "      <td>2</td>\n",
       "      <td>1</td>\n",
       "      <td>0</td>\n",
       "      <td>698013.27</td>\n",
       "      <td>0</td>\n",
       "    </tr>\n",
       "    <tr>\n",
       "      <th>124</th>\n",
       "      <td>192966</td>\n",
       "      <td>686</td>\n",
       "      <td>Рыбинск</td>\n",
       "      <td>Ж</td>\n",
       "      <td>33</td>\n",
       "      <td>0</td>\n",
       "      <td>0.00</td>\n",
       "      <td>1</td>\n",
       "      <td>1</td>\n",
       "      <td>1</td>\n",
       "      <td>518488.59</td>\n",
       "      <td>0</td>\n",
       "    </tr>\n",
       "    <tr>\n",
       "      <th>125</th>\n",
       "      <td>227092</td>\n",
       "      <td>1000</td>\n",
       "      <td>Ярославль</td>\n",
       "      <td>М</td>\n",
       "      <td>32</td>\n",
       "      <td>5</td>\n",
       "      <td>19757180.85</td>\n",
       "      <td>2</td>\n",
       "      <td>1</td>\n",
       "      <td>1</td>\n",
       "      <td>1024626.50</td>\n",
       "      <td>0</td>\n",
       "    </tr>\n",
       "    <tr>\n",
       "      <th>137</th>\n",
       "      <td>163907</td>\n",
       "      <td>761</td>\n",
       "      <td>Ярославль</td>\n",
       "      <td>М</td>\n",
       "      <td>31</td>\n",
       "      <td>0</td>\n",
       "      <td>0.00</td>\n",
       "      <td>1</td>\n",
       "      <td>1</td>\n",
       "      <td>0</td>\n",
       "      <td>999177.17</td>\n",
       "      <td>0</td>\n",
       "    </tr>\n",
       "    <tr>\n",
       "      <th>138</th>\n",
       "      <td>173386</td>\n",
       "      <td>915</td>\n",
       "      <td>Ярославль</td>\n",
       "      <td>Ж</td>\n",
       "      <td>48</td>\n",
       "      <td>0</td>\n",
       "      <td>0.00</td>\n",
       "      <td>2</td>\n",
       "      <td>0</td>\n",
       "      <td>0</td>\n",
       "      <td>800733.72</td>\n",
       "      <td>0</td>\n",
       "    </tr>\n",
       "    <tr>\n",
       "      <th>139</th>\n",
       "      <td>195558</td>\n",
       "      <td>927</td>\n",
       "      <td>Ярославль</td>\n",
       "      <td>М</td>\n",
       "      <td>32</td>\n",
       "      <td>0</td>\n",
       "      <td>0.00</td>\n",
       "      <td>1</td>\n",
       "      <td>1</td>\n",
       "      <td>1</td>\n",
       "      <td>469062.08</td>\n",
       "      <td>0</td>\n",
       "    </tr>\n",
       "    <tr>\n",
       "      <th>143</th>\n",
       "      <td>198181</td>\n",
       "      <td>958</td>\n",
       "      <td>Ярославль</td>\n",
       "      <td>М</td>\n",
       "      <td>34</td>\n",
       "      <td>3</td>\n",
       "      <td>5763239.76</td>\n",
       "      <td>2</td>\n",
       "      <td>1</td>\n",
       "      <td>1</td>\n",
       "      <td>920730.06</td>\n",
       "      <td>1</td>\n",
       "    </tr>\n",
       "    <tr>\n",
       "      <th>149</th>\n",
       "      <td>218801</td>\n",
       "      <td>958</td>\n",
       "      <td>Ярославль</td>\n",
       "      <td>М</td>\n",
       "      <td>34</td>\n",
       "      <td>0</td>\n",
       "      <td>0.00</td>\n",
       "      <td>1</td>\n",
       "      <td>1</td>\n",
       "      <td>0</td>\n",
       "      <td>1292825.74</td>\n",
       "      <td>0</td>\n",
       "    </tr>\n",
       "    <tr>\n",
       "      <th>178</th>\n",
       "      <td>226887</td>\n",
       "      <td>890</td>\n",
       "      <td>Ярославль</td>\n",
       "      <td>М</td>\n",
       "      <td>49</td>\n",
       "      <td>4</td>\n",
       "      <td>3956103.10</td>\n",
       "      <td>2</td>\n",
       "      <td>1</td>\n",
       "      <td>0</td>\n",
       "      <td>1120528.70</td>\n",
       "      <td>0</td>\n",
       "    </tr>\n",
       "  </tbody>\n",
       "</table>\n",
       "</div>"
      ],
      "text/plain": [
       "     user_id  score       city gender  age  equity      balance  products  \\\n",
       "30    155730    946  Ярославль      Ж   47       0         0.00         2   \n",
       "44    210313    935  Ярославль      М   41       5   3781118.22         2   \n",
       "59    227642    930  Ярославль      Ж   36       0         0.00         2   \n",
       "107   134358    985    Рыбинск      Ж   41       4   6749773.07         2   \n",
       "124   192966    686    Рыбинск      Ж   33       0         0.00         1   \n",
       "125   227092   1000  Ярославль      М   32       5  19757180.85         2   \n",
       "137   163907    761  Ярославль      М   31       0         0.00         1   \n",
       "138   173386    915  Ярославль      Ж   48       0         0.00         2   \n",
       "139   195558    927  Ярославль      М   32       0         0.00         1   \n",
       "143   198181    958  Ярославль      М   34       3   5763239.76         2   \n",
       "149   218801    958  Ярославль      М   34       0         0.00         1   \n",
       "178   226887    890  Ярославль      М   49       4   3956103.10         2   \n",
       "\n",
       "     credit_card  last_activity  est_salary  churn  \n",
       "30             1              1   660015.85      0  \n",
       "44             1              0   761349.20      0  \n",
       "59             1              0   359081.73      0  \n",
       "107            1              0   698013.27      0  \n",
       "124            1              1   518488.59      0  \n",
       "125            1              1  1024626.50      0  \n",
       "137            1              0   999177.17      0  \n",
       "138            0              0   800733.72      0  \n",
       "139            1              1   469062.08      0  \n",
       "143            1              1   920730.06      1  \n",
       "149            1              0  1292825.74      0  \n",
       "178            1              0  1120528.70      0  "
      ]
     },
     "execution_count": 15,
     "metadata": {},
     "output_type": "execute_result"
    },
    {
     "data": {
      "image/png": "[encoded data removed]",
      "text/plain": [
       "<Figure size 1080x216 with 1 Axes>"
      ]
     },
     "metadata": {
      "needs_background": "light"
     },
     "output_type": "display_data"
    }
   ],
   "source": [
    "#построим \"ящик с усами\" по столбцу \"est_salary\"\n",
    "df.boxplot(column='est_salary',figsize=(15,3),vert=False)\n",
    "plt.show\n",
    "plt.title('\"Ящики с усами\" по столбцу \"est_salary\"')\n",
    "plt.xlabel('Заработная плата');\n",
    "#выведем 95 и 99 пересентили\n",
    "print('Персентили:',np.percentile(df['est_salary'], [95, 99]).round(2))\n",
    "\n",
    "#запишем значение 99 пересентили в отдельную переменную для среза\n",
    "percentile_95_salary=np.percentile(df['est_salary'],95).round(2)\n",
    "\n",
    "#делаем срез и выводим на экран\n",
    "df_salary_cost=df.query('est_salary>=@percentile_95_salary')\n",
    "df_salary_cost.head(12)"
   ]
  },
  {
   "cell_type": "markdown",
   "metadata": {},
   "source": [
    "При анализе заработной платы, также видны высокие значения у некоторых клиентов. У 5% клиентов уровень заработной платы более 316 т.р., а у 1% клиентов более 886 т.р. При этом в этот же список попали клиенты с большими остатками на счетах, а у остальных на счетах 0.  \n",
    "\n",
    "Можно предположить что у тех клиентов, которые не хранят средства на счетах, но при этом имеют крупные зачисления, это средства зачислились разово в рамках премии, либо от какой-либо крупной сделки, также же в этот список могут попасть так называемые \"обнальщики\".\n",
    "\n",
    "Клиентов которые имеют большие остатки и зачисления, выделим в отдельный список и назовем их \"Премиум клиенты\". При дальнейшем анализе при необоходимости будем делать срез без них, чтобы не искажать данные"
   ]
  },
  {
   "cell_type": "code",
   "execution_count": 16,
   "metadata": {},
   "outputs": [],
   "source": [
    "#список с премиум-клиентами\n",
    "premium_clients=df.query('balance>=@percentile_99')"
   ]
  },
  {
   "cell_type": "markdown",
   "metadata": {},
   "source": [
    "<div style=\"border-radius: 15px; box-shadow: 4px 4px 4px; border: solid black 2px; padding: 20px\"> <b>Вывод:</b><br>\n",
    "    \n",
    "* В общем сильных аномалий в данных нет. Есть единичные выбросы в столбце с балансом и заработной платой, но они также объяснимы.\n",
    "\n",
    "</div>       \n",
    "<br>"
   ]
  },
  {
   "cell_type": "markdown",
   "metadata": {},
   "source": [
    "<div style=\"border-radius: 15px; box-shadow: 4px 4px 4px; border: solid black 2px; padding: 20px\"> <b>ОБЩИЙ ВЫВОД ПО ПРЕДОБРАБОТКЕ:</b><br>\n",
    "    \n",
    "* Привели названия столбцов к единому стилю\n",
    "* Удалили пропуски в столбце \"возраст\" , и заменили пропуски в столбце \"баланс\" на 0\n",
    "* Изменили тип данных в столбцах \"score\" и \"age\" на int\n",
    "* Явных дубликатов в данных не выявлено, Неявные присутствуют в столбце с номером клиента, но это объясняется тем что клиент может осблуживаться в разных городах\n",
    "* Аномалий в данных не выявлено\n",
    "</div>       \n",
    "<br>"
   ]
  },
  {
   "cell_type": "markdown",
   "metadata": {},
   "source": [
    "<hr style=\"border: 2px solid #425F57;\" />\n",
    "<hr style=\"border: 2px solid #425F57;\" />"
   ]
  },
  {
   "cell_type": "markdown",
   "metadata": {},
   "source": [
    "## Исследовательский анализ данных"
   ]
  },
  {
   "cell_type": "markdown",
   "metadata": {},
   "source": [
    "### Распределение клиентов в разрезе различных признаков"
   ]
  },
  {
   "cell_type": "markdown",
   "metadata": {},
   "source": [
    "В датасете есть различные признакм у каждого клиента. Рассмотрим как распределяются клиенты банка в разрезе каждого из них:"
   ]
  },
  {
   "cell_type": "code",
   "execution_count": 17,
   "metadata": {},
   "outputs": [
    {
     "data": {
      "image/png": "[encoded data removed]",
      "text/plain": [
       "<Figure size 720x504 with 1 Axes>"
      ]
     },
     "metadata": {
      "needs_background": "light"
     },
     "output_type": "display_data"
    }
   ],
   "source": [
    "#делаем срез без премиуем-клиентов\n",
    "df_new=df.query('balance<=@percentile_99')\n",
    "colors=sns.set_palette(\"crest\")\n",
    "\n",
    "#cтроим график по столбцу balance. Делаем срез по балансу на основании ранее построенного боксплота,чтобы график был читаемый\n",
    "plt.figure(figsize=(10,7))\n",
    "sns.histplot(data=df_new.query('balance<2000000 and balance>0'), x='balance',palette=\"crest\")\n",
    "plt.title('Распределение клиентов по признаку balance', fontsize = 15)\n",
    "plt.show();"
   ]
  },
  {
   "cell_type": "code",
   "execution_count": 18,
   "metadata": {},
   "outputs": [
    {
     "data": {
      "image/png": "[encoded data removed]",
      "text/plain": [
       "<Figure size 720x504 with 1 Axes>"
      ]
     },
     "metadata": {
      "needs_background": "light"
     },
     "output_type": "display_data"
    }
   ],
   "source": [
    "#cтроим график по столбцу score.\n",
    "plt.figure(figsize=(10,7))\n",
    "sns.histplot(data=df_new, x='score',palette=\"crest\")\n",
    "plt.title('Распределение клиентов по признаку score', fontsize = 15)\n",
    "plt.show();"
   ]
  },
  {
   "cell_type": "code",
   "execution_count": 19,
   "metadata": {},
   "outputs": [
    {
     "data": {
      "image/png": "[encoded data removed]",
      "text/plain": [
       "<Figure size 720x504 with 1 Axes>"
      ]
     },
     "metadata": {
      "needs_background": "light"
     },
     "output_type": "display_data"
    }
   ],
   "source": [
    "#cтроим график по столбцу est_salary. Делаем срез по балансу на основании ранее построенного боксплота,чтобы график был читаемый\n",
    "plt.figure(figsize=(10,7))\n",
    "sns.histplot(data=df_new.query('est_salary<1000000'), x='est_salary',palette=\"crest\")\n",
    "plt.title('Распределение клиентов по признаку est_salary', fontsize = 15)\n",
    "plt.show();"
   ]
  },
  {
   "cell_type": "code",
   "execution_count": 20,
   "metadata": {},
   "outputs": [
    {
     "data": {
      "image/png": "[encoded data removed]",
      "text/plain": [
       "<Figure size 1152x504 with 1 Axes>"
      ]
     },
     "metadata": {
      "needs_background": "light"
     },
     "output_type": "display_data"
    }
   ],
   "source": [
    "#строим график распределения по возрасту\n",
    "colors=sns.set_palette(\"crest\")\n",
    "plt.figure(figsize=(16,7))\n",
    "sns.countplot(data=df, x='age',palette=\"crest\");\n",
    "plt.title('Распределение клиентов по признаку age', fontsize = 16, color = 'black')\n",
    "plt.show()"
   ]
  },
  {
   "cell_type": "code",
   "execution_count": 21,
   "metadata": {
    "scrolled": true
   },
   "outputs": [
    {
     "data": {
      "image/png": "[encoded data removed]",
      "text/plain": [
       "<Figure size 432x288 with 1 Axes>"
      ]
     },
     "metadata": {
      "needs_background": "light"
     },
     "output_type": "display_data"
    },
    {
     "data": {
      "image/png": "[encoded data removed]",
      "text/plain": [
       "<Figure size 432x288 with 1 Axes>"
      ]
     },
     "metadata": {
      "needs_background": "light"
     },
     "output_type": "display_data"
    },
    {
     "data": {
      "image/png": "[encoded data removed]",
      "text/plain": [
       "<Figure size 432x288 with 1 Axes>"
      ]
     },
     "metadata": {
      "needs_background": "light"
     },
     "output_type": "display_data"
    },
    {
     "data": {
      "image/png": "[encoded data removed]",
      "text/plain": [
       "<Figure size 432x288 with 1 Axes>"
      ]
     },
     "metadata": {
      "needs_background": "light"
     },
     "output_type": "display_data"
    },
    {
     "data": {
      "image/png": "[encoded data removed]",
      "text/plain": [
       "<Figure size 432x288 with 1 Axes>"
      ]
     },
     "metadata": {
      "needs_background": "light"
     },
     "output_type": "display_data"
    },
    {
     "data": {
      "image/png": "[encoded data removed]",
      "text/plain": [
       "<Figure size 432x288 with 1 Axes>"
      ]
     },
     "metadata": {
      "needs_background": "light"
     },
     "output_type": "display_data"
    },
    {
     "data": {
      "image/png": "[encoded data removed]",
      "text/plain": [
       "<Figure size 432x288 with 1 Axes>"
      ]
     },
     "metadata": {
      "needs_background": "light"
     },
     "output_type": "display_data"
    }
   ],
   "source": [
    "#строим графики распределения по городу, полу, наличию недв-ти, количества продуктов, наличия кредитной карты\n",
    "for i in ['city','gender','equity','products','credit_card','last_activity','churn']:\n",
    "    counts = df[i].value_counts().sort_values(ascending=False)\n",
    "    #ax = plt.subplot(3, 2)\n",
    "    ax=sns.countplot(data=df_new, x=i,order=counts.index,palette=\"crest\");\n",
    "    plt.title(f'Распределение клиентов по признаку {i}', fontsize = 15)\n",
    "    plt.show()"
   ]
  },
  {
   "cell_type": "markdown",
   "metadata": {},
   "source": [
    "<div style=\"border-radius: 15px; box-shadow: 4px 4px 4px; border: solid black 2px; padding: 20px\"> <b>Вывод:</b><br>\n",
    "    Рассмотрев распределение клиентов в разрезе различных признаков можно сказать следующее:\n",
    "    \n",
    "* `возраст`-в датасете представлены данные о клиентах с 18 до 86 лет. Большинство клиентов от 32 до 37 лет. Клиентов начиная с 38 лет становится меньше. Возможно банку стоит обратить внимание на привлечение клиентов с возрастов от 38 лет и больше\n",
    "* `город`- больше всего клиентов из Ярославля, затем идет Рыбинск и на 3 месте Ростов\n",
    "* `пол`-мужчин и менщин практически одинаковое кол-во\n",
    "* `объекты собственности`-в большинства клиентов нет недвижимости, также много клиентов у которых от 3 до 5 объектов недвижимости (что странно, потому что это достаточно большое кол-во),1-2 объекта уже у меньшего кол-ва, а больше 6 уже редкость\n",
    "* `продукты`-большинство клиентов имеют 1 или 2 продукта в банке,большое 2 уже гораздо реже\n",
    "* `кредитные карты`-есть практичеси у 70% клиентов\n",
    "* `скоринг`-у большинства клиентов высокий скоринговый балл, с низким скоринговым баллом клиентов мало\n",
    "* `баланс`- у большинства клиентов на балансе есть сумма от 50 т.р. до 200 т.р.\n",
    "* `уровень зп`-у большинства клиентов уровень зп от 50 т.р. до 200 т.р.\n",
    "* `активность клиента`-чуть больше половины клиентов активно пользуются продуктами\n",
    "* `отток`-около 20% клиентов ушли из банка\n",
    "</div>       \n",
    "<br>"
   ]
  },
  {
   "cell_type": "markdown",
   "metadata": {},
   "source": [
    "### Описание портрета клиента склонного к оттоку"
   ]
  },
  {
   "cell_type": "markdown",
   "metadata": {},
   "source": [
    "Т.к цель нашего исследования выявить сегменты клиентов которые склонны уходить из банка, прпонализируем клиентов которые ушли из банка в разрезе различных признаков и составим примерный портрет:"
   ]
  },
  {
   "cell_type": "code",
   "execution_count": 22,
   "metadata": {},
   "outputs": [
    {
     "data": {
      "image/png": "[encoded data removed]",
      "text/plain": [
       "<Figure size 576x576 with 1 Axes>"
      ]
     },
     "metadata": {},
     "output_type": "display_data"
    }
   ],
   "source": [
    "churn= df.groupby('churn')['churn'].count().plot(kind = 'pie', y ='count', autopct='%1.1f%%', figsize= (8,8))\n",
    "plt.title('Доля клиентов в разрезе признака оттока', fontsize = 16)\n",
    "plt.legend(['остались в банке', 'ушли из банка'])\n",
    "plt.show()"
   ]
  },
  {
   "cell_type": "markdown",
   "metadata": {},
   "source": [
    "В разрезе оттока 81.8% клиентов остаются в банке,18.2% уходят"
   ]
  },
  {
   "cell_type": "code",
   "execution_count": 23,
   "metadata": {
    "scrolled": false
   },
   "outputs": [
    {
     "data": {
      "image/png": "[encoded data removed]",
      "text/plain": [
       "<Figure size 720x504 with 1 Axes>"
      ]
     },
     "metadata": {
      "needs_background": "light"
     },
     "output_type": "display_data"
    },
    {
     "data": {
      "image/png": "[encoded data removed]",
      "text/plain": [
       "<Figure size 720x504 with 1 Axes>"
      ]
     },
     "metadata": {
      "needs_background": "light"
     },
     "output_type": "display_data"
    },
    {
     "data": {
      "image/png": "[encoded data removed]",
      "text/plain": [
       "<Figure size 720x504 with 1 Axes>"
      ]
     },
     "metadata": {
      "needs_background": "light"
     },
     "output_type": "display_data"
    },
    {
     "data": {
      "image/png": "[encoded data removed]",
      "text/plain": [
       "<Figure size 720x504 with 1 Axes>"
      ]
     },
     "metadata": {
      "needs_background": "light"
     },
     "output_type": "display_data"
    }
   ],
   "source": [
    "#чтобы сделать графики читаемыми обрежем \"хвосты\"\n",
    "df_new=df.query('balance<2000000 and balance>0 and est_salary<600000')\n",
    "\n",
    "#строим графики по признакам age,balance,score,est_salary разрезе оттока\n",
    "for i in ['age','score','balance','est_salary']:\n",
    "    plt.figure(figsize=(10,7))\n",
    "    ax=sns.histplot(data = df_new[df_new['churn'] == 1][i], color = '#FFFF00',alpha = 0.5, stat = 'density', common_norm =False) \n",
    "    ax2=sns.histplot(data = df_new[df_new['churn'] == 0][i], color = '#006400',alpha = 0.5, stat = 'density', common_norm =False)\n",
    "    ax=ax2\n",
    "    plt.legend(['ушли из банка', 'остались в банке']) \n",
    "    plt.title(f'Распределение клиентов по признаку {i}', fontsize = 15)\n",
    "    plt.show()"
   ]
  },
  {
   "cell_type": "markdown",
   "metadata": {},
   "source": [
    "По данныи графикам можно сказать следующее:\n",
    "   * В разрезе возраста больше уходят из банка клиенты в возрасте от 25 до 40 и от 50 до 60. Остаются чаще от 40 до 50 и старше 60\n",
    "   * В разрезе признака скоринговго балла чаще уходят из банка клиенты с высоким скорингом: от 850 до 950, остаются со средним и низким: ниже 850\n",
    "   * В разрезе признака баланса чаще уходят из банка клиенты с балансом выше 750 т.р., а остаются с балансом от 0 до 750 т.р.\n",
    "   * В разрезе признака зарплаты чаще уходят клиенты от 100 т.р и выше, остаются клиенты с зп до 100 т.р."
   ]
  },
  {
   "cell_type": "code",
   "execution_count": 24,
   "metadata": {
    "scrolled": false
   },
   "outputs": [
    {
     "data": {
      "image/png": "[encoded data removed]",
      "text/plain": [
       "<Figure size 720x432 with 1 Axes>"
      ]
     },
     "metadata": {
      "needs_background": "light"
     },
     "output_type": "display_data"
    },
    {
     "data": {
      "image/png": "[encoded data removed]",
      "text/plain": [
       "<Figure size 720x432 with 1 Axes>"
      ]
     },
     "metadata": {
      "needs_background": "light"
     },
     "output_type": "display_data"
    },
    {
     "data": {
      "image/png": "[encoded data removed]",
      "text/plain": [
       "<Figure size 720x432 with 1 Axes>"
      ]
     },
     "metadata": {
      "needs_background": "light"
     },
     "output_type": "display_data"
    },
    {
     "data": {
      "image/png": "[encoded data removed]",
      "text/plain": [
       "<Figure size 720x432 with 1 Axes>"
      ]
     },
     "metadata": {
      "needs_background": "light"
     },
     "output_type": "display_data"
    },
    {
     "data": {
      "image/png": "[encoded data removed]",
      "text/plain": [
       "<Figure size 720x432 with 1 Axes>"
      ]
     },
     "metadata": {
      "needs_background": "light"
     },
     "output_type": "display_data"
    },
    {
     "data": {
      "image/png": "[encoded data removed]",
      "text/plain": [
       "<Figure size 720x432 with 1 Axes>"
      ]
     },
     "metadata": {
      "needs_background": "light"
     },
     "output_type": "display_data"
    }
   ],
   "source": [
    "#строим графики по признакам 'city','gender','equity','products','credit_card','last_activity в разрезе оттока\n",
    "for i in ['city','gender','equity','products','credit_card','last_activity']:\n",
    "    plt.figure(figsize=(10,6))\n",
    "    sns.countplot(data=df, x=i, hue='churn')\n",
    "    #sns.histplot(data=df,x=i,hue=\"churn\");\n",
    "    plt.title(f'Распределение клиентов по признаку {i}', fontsize = 15)\n",
    "    plt.legend(['остались в банке','ушли из банка'])\n",
    "    plt.show()\n",
    "    "
   ]
  },
  {
   "cell_type": "markdown",
   "metadata": {},
   "source": [
    "По данныи графикам можно сказать следующее:\n",
    "   * `город`-больше всего оттока в Ярославле\n",
    "   * `пол`- больше всего оттока у мужчин\n",
    "   * `недвижимость в сосбственности`-больше уходят клиенты в соственности которых 3-5 объектов нед-ти\n",
    "   * `продукты`-больше уходят клиенты у которых есть 2 продукта банка\n",
    "   * `кредитная карта`-у большинства клиентов была кредитная карта\n",
    "   * `активность`-чаще уходят активные клиенты банка"
   ]
  },
  {
   "cell_type": "markdown",
   "metadata": {},
   "source": [
    "<div style=\"border-radius: 15px; box-shadow: 4px 4px 4px; border: solid black 2px; padding: 20px\"> <b>Вывод:</b><br>\n",
    "    После анализа клиентов которые ушли из банка, можно сложить портрет клиента склонного к оттоку:\n",
    "    \n",
    "* В разрезе оттока 81.8% клиентов остаются в банке,18.2% уходят   \n",
    "* клиент в возрасте от 31 до 37 лет, а также кленты предпенсионного возраста от 52 до 58 лет\n",
    "* проживающее в Ярославле\n",
    "* в большей степени мужчины\n",
    "* клиенты имеющие 3-5 объектов недвижимости в собственности\n",
    "* с 2 открытыми банковскими продуктами\n",
    "* у большинства клиентов была кредитная карта\n",
    "* с балансом на счете от 200 т.р. до 1 млн\n",
    "* с Высоким скориноговым баллом\n",
    "* уровень зп от 50 т.р. до 200 т.р.\n",
    "\n",
    "</div>       \n",
    "<br>"
   ]
  },
  {
   "cell_type": "markdown",
   "metadata": {},
   "source": [
    "### Корреляция признаков"
   ]
  },
  {
   "cell_type": "markdown",
   "metadata": {},
   "source": [
    "Чтобы выяснить имею ли признаки взаимосвязь между собой, расчитаем корреляцию между ними и построим матрицу.  \n",
    "\n",
    "Т.к. столбец `user_id` не является как таковым признаком, сделаем срез данных без этого столбца.  \n",
    "\n",
    "Данные о корреляции проанализируем по шкале Чеддока (слабая — от 0,1 до 0,3; умеренная — от 0,3 до 0,5; заметная — от 0,5 до 0,7; высокая — от 0,7 до 0,9; весьма высокая (сильная) — от 0,9 до 1,0\n",
    "\n"
   ]
  },
  {
   "cell_type": "code",
   "execution_count": 25,
   "metadata": {},
   "outputs": [
    {
     "data": {
      "image/png": "[encoded data removed]",
      "text/plain": [
       "<Figure size 720x720 with 2 Axes>"
      ]
     },
     "metadata": {
      "needs_background": "light"
     },
     "output_type": "display_data"
    }
   ],
   "source": [
    "#строим матрицу коррелляций\n",
    "corr = df.loc[:, df.columns !='user_id'].corr()\n",
    "\n",
    "#визуализируем матрицу корреляций\n",
    "plt.figure(figsize=(10,10))\n",
    "sns.heatmap(corr, annot=True, square=True,cmap=\"crest\",fmt=\".0%\")\n",
    "plt.title('Корреляция в разрезе признаков', fontsize = 20)\n",
    "plt.show()"
   ]
  },
  {
   "cell_type": "markdown",
   "metadata": {},
   "source": [
    "Также отдельно построим корреляцию признака оттока клиентов, с остальными признаками:"
   ]
  },
  {
   "cell_type": "code",
   "execution_count": 26,
   "metadata": {},
   "outputs": [
    {
     "data": {
      "image/png": "[encoded data removed]",
      "text/plain": [
       "<Figure size 432x288 with 2 Axes>"
      ]
     },
     "metadata": {
      "needs_background": "light"
     },
     "output_type": "display_data"
    }
   ],
   "source": [
    "#корреляция признака оттока с другими признаками\n",
    "sns.heatmap(df.loc[:, df.columns !='user_id'].corr().loc[:,['churn']].drop('churn').sort_values('churn'),annot=True,fmt=\".0%\",cmap=\"crest\")\n",
    "plt.title('Корреляция признака оттока с другими признаками', fontsize = 14);"
   ]
  },
  {
   "cell_type": "markdown",
   "metadata": {},
   "source": [
    "<div style=\"border-radius: 15px; box-shadow: 4px 4px 4px; border: solid black 2px; padding: 20px\"> <b>Вывод:</b><br>\n",
    "    \n",
    "* Разброс коэффициентов корреляции от 20 до 43%, поэтому можно сделать вывод о том, что сильной корреляции между признаками нет.\n",
    "* Признак оттока наиболее коррелирует с признаком количества продуктов, но все равно корреляция не сильная (30%)\n",
    "</div>       \n",
    "<br>"
   ]
  },
  {
   "cell_type": "markdown",
   "metadata": {},
   "source": [
    "### Сегментация на основе показателей"
   ]
  },
  {
   "cell_type": "markdown",
   "metadata": {},
   "source": [
    "На основе портрета клиента сколонного к отоку можно выделить несколько признаков в которых отток выше среднего и объединить их в сегменты:  \n",
    "\n",
    "   1. Мужчины из Ярославля без кредитной карты\n",
    "   2. Клиентов с балансом от 1 млн.р. и заработной платой от 50 до 200 т.р имеющих 2 продукта в банке\n",
    "   3. Активных клиентов банка с высоким кредитным рейтингом \n",
    " \n",
    "Для более обобщенных сегментов сделаем каегории клиентов на основе вышеполученных графиков и данных БКИ.\n",
    "И далее посмотрим данные сегменты клиентов подробнее."
   ]
  },
  {
   "cell_type": "code",
   "execution_count": 27,
   "metadata": {},
   "outputs": [],
   "source": [
    "##добавляем столбец с типом скориногового балла\n",
    "def score_type(score):\n",
    "    if score['score'] >=891:\n",
    "        return 'Очень высокий'\n",
    "    elif (score['score'] <=890)& (score['score']>=809):\n",
    "        return 'Высокий'\n",
    "    elif (score['score'] <=808)& (score['score']>=711):\n",
    "        return 'Средний'\n",
    "    else:\n",
    "        return 'Низкий'\n",
    "df['score_type'] = df.apply(score_type, axis=1)\n",
    "\n",
    "#добавляем столбец с типо баланса\n",
    "def balance_type(balance):\n",
    "    if balance['balance'] >=1000001:\n",
    "        return 'Очень высокий'\n",
    "    elif (balance['balance'] <=1000000)& (balance['balance']>=200001):\n",
    "        return 'Высокий'\n",
    "    elif (balance['balance'] <=200000)& (balance['balance']>=50000):\n",
    "        return 'Средний'\n",
    "    else:\n",
    "        return 'Низкий'\n",
    "df['balance_type'] = df.apply(balance_type, axis=1)\n",
    "\n",
    "#добавляем столбец с\n",
    "def est_salary_type(est_salary):\n",
    "    if est_salary['est_salary'] >=1000001:\n",
    "        return 'Очень высокая'\n",
    "    elif (est_salary['est_salary'] <=1000000)& (est_salary['est_salary']>=200001):\n",
    "        return 'Высокая'\n",
    "    elif (est_salary['est_salary'] <=200000)& (est_salary['est_salary']>=50000):\n",
    "        return 'Средняя'\n",
    "    else:\n",
    "        return 'Низкая'\n",
    "df['est_salary_type'] = df.apply(est_salary_type, axis=1)"
   ]
  },
  {
   "cell_type": "code",
   "execution_count": 28,
   "metadata": {},
   "outputs": [
    {
     "name": "stdout",
     "output_type": "stream",
     "text": [
      "Количество клиентов в сегменте: 638\n",
      "% от общего количества клиентов: 6.4\n"
     ]
    },
    {
     "data": {
      "image/png": "[encoded data removed]",
      "text/plain": [
       "<Figure size 432x432 with 1 Axes>"
      ]
     },
     "metadata": {},
     "output_type": "display_data"
    }
   ],
   "source": [
    "segment_1=df.query(\"gender == 'М'and city=='Ярославль' and credit_card==0\")\n",
    "segment_1.groupby('churn')['churn'].count().plot(kind = 'pie', y ='count', autopct='%1.1f%%', figsize= (6,6)\\\n",
    "                                                 ,labels=['Не ушли из банка','Ушли из банка'])\n",
    "plt.title('Доля клиентов в сегменте 1 в разрезе признака оттока', fontsize = 15)\n",
    "print('Количество клиентов в сегменте:',len(segment_1))\n",
    "print('% от общего количества клиентов:',round((len(segment_1)/len(df))*100,2))"
   ]
  },
  {
   "cell_type": "code",
   "execution_count": 29,
   "metadata": {},
   "outputs": [
    {
     "name": "stdout",
     "output_type": "stream",
     "text": [
      "Количество клиентов в сегменте: 756\n",
      "% от общего количества клиентов: 7.58\n"
     ]
    },
    {
     "data": {
      "image/png": "[encoded data removed]",
      "text/plain": [
       "<Figure size 432x432 with 1 Axes>"
      ]
     },
     "metadata": {},
     "output_type": "display_data"
    }
   ],
   "source": [
    "segment_2=df.query(\"balance >1000000 and est_salary_type=='Средняя' and products==2\")\n",
    "segment_2.groupby('churn')['churn'].count().plot(kind = 'pie', y ='count', autopct='%1.1f%%', figsize= (6,6)\\\n",
    "                                                 ,labels=['Не ушли из банка','Ушли из банка'])\n",
    "plt.title('Доля клиентов в сегменте 2 в разрезе признака оттока', fontsize = 15)\n",
    "print('Количество клиентов в сегменте:',len(segment_2))\n",
    "print('% от общего количества клиентов:',round((len(segment_2)/len(df))*100,2))"
   ]
  },
  {
   "cell_type": "code",
   "execution_count": 30,
   "metadata": {},
   "outputs": [
    {
     "name": "stdout",
     "output_type": "stream",
     "text": [
      "Количество клиентов в сегменте: 638\n",
      "% от общего количества клиентов: 20.76\n"
     ]
    },
    {
     "data": {
      "image/png": "[encoded data removed]",
      "text/plain": [
       "<Figure size 432x432 with 1 Axes>"
      ]
     },
     "metadata": {},
     "output_type": "display_data"
    }
   ],
   "source": [
    "segment_3=df.query(\"score_type =='Высокий' and last_activity==1\")\n",
    "segment_3.groupby('churn')['churn'].count().plot(kind = 'pie', y ='count', autopct='%1.1f%%', figsize= (6,6)\\\n",
    "                                                 ,labels=['Не ушли из банка','Ушли из банка'])\n",
    "plt.title('Доля клиентов в сегменте 3 в разрезе признака оттока', fontsize = 15)\n",
    "print('Количество клиентов в сегменте:',len(segment_1))\n",
    "print('% от общего количества клиентов:',round((len(segment_3)/len(df))*100,2))"
   ]
  },
  {
   "cell_type": "markdown",
   "metadata": {},
   "source": [
    "<div style=\"border-radius: 15px; box-shadow: 4px 4px 4px; border: solid black 2px; padding: 20px\"> <b>Вывод:</b><br>\n",
    "    \n",
    "* Среди мужчин из Ярославля без кредитной карты отток составляет 40%\n",
    "* Среди клиент у которых на счетах остатки от 1 млн р, с заработной платой от 50 до 200 т.р. и имеющим 2 продукта в банке уровень оттока составляет 32,4%\n",
    "* Среди клиентов активных клиентов с высоким скоринговым баллом уровень оттока составляет 35%\n",
    "\n",
    "\n",
    "</div>       \n",
    "<br>"
   ]
  },
  {
   "cell_type": "markdown",
   "metadata": {},
   "source": [
    "<hr style=\"border: 2px solid #425F57;\" />\n",
    "<hr style=\"border: 2px solid #425F57;\" />"
   ]
  },
  {
   "cell_type": "markdown",
   "metadata": {},
   "source": [
    "## Проверка статистических гипотез:"
   ]
  },
  {
   "cell_type": "markdown",
   "metadata": {},
   "source": [
    "### Формулировка гипотез"
   ]
  },
  {
   "cell_type": "markdown",
   "metadata": {},
   "source": [
    "***Сформулируем 2 гипотезы:***"
   ]
  },
  {
   "cell_type": "markdown",
   "metadata": {},
   "source": [
    "**1 гипотеза:**\n",
    "\n",
    "`H_0`: Доход между клиентами которые ушли и которые остались различается  \n",
    "`Н_1`: Доход между клиентами которые ушли и которые остались не различается\n",
    "\n",
    "*alpha* = 0.05\n"
   ]
  },
  {
   "cell_type": "markdown",
   "metadata": {},
   "source": [
    "**2 гипотеза:**\n",
    "\n",
    "`H_0`: Средний коринговый балл у клиентов которые ушли и которые остались различается  \n",
    "`Н_1`: Средний скоринговый балл у клиентов которые ушли и которые остались не различается\n",
    "\n",
    "*alpha* = 0.05"
   ]
  },
  {
   "cell_type": "markdown",
   "metadata": {},
   "source": [
    "### Проверка статистической значимости"
   ]
  },
  {
   "cell_type": "code",
   "execution_count": 31,
   "metadata": {},
   "outputs": [
    {
     "name": "stdout",
     "output_type": "stream",
     "text": [
      "_______________________________________________________________\n",
      "Проверка гипотезы №1\n",
      "p-значение:  0.8515799588935961\n",
      "0.8515799588935961 Не получилось отвергнуть нулевую гипотезу\n",
      "_______________________________________________________________\n",
      "Проверка гипотезы №2\n",
      "p-значение:  8.60332714629934e-38\n",
      "8.60332714629934e-38 Отвергаем нулевую гипотезу\n"
     ]
    }
   ],
   "source": [
    "print('_______________________________________________________________')\n",
    "print('Проверка гипотезы №1')\n",
    "churn_ttest = df[df['churn']==0]['est_salary']\n",
    "churn_out_ttest = df[df['churn']==1]['est_salary']\n",
    "results = st.ttest_ind(churn_ttest, churn_out_ttest, equal_var=False)\n",
    "alpha = 0.05\n",
    "# вывод значения p-value на экран \n",
    "print('p-значение: ', results.pvalue)\n",
    "#вывод ответа\n",
    "if results.pvalue<alpha:\n",
    "    print(results.pvalue,'Отвергаем нулевую гипотезу')\n",
    "else:\n",
    "    print(results.pvalue,'Не получилось отвергнуть нулевую гипотезу')\n",
    "    \n",
    "print('_______________________________________________________________')\n",
    "\n",
    "print('Проверка гипотезы №2')\n",
    "churn_ttest = df[df['churn']==0]['score']\n",
    "churn_out_ttest = df[df['churn']==1]['score']\n",
    "results = st.ttest_ind(churn_ttest, churn_out_ttest, equal_var=False)\n",
    "alpha = 0.05\n",
    "# вывод значения p-value на экран \n",
    "print('p-значение: ', results.pvalue)\n",
    "#вывод ответа\n",
    "if results.pvalue<alpha:\n",
    "    print(results.pvalue,'Отвергаем нулевую гипотезу')\n",
    "else:\n",
    "    print(results.pvalue,'Не получилось отвергнуть нулевую гипотезу')"
   ]
  },
  {
   "cell_type": "markdown",
   "metadata": {},
   "source": [
    "<div style=\"border-radius: 15px; box-shadow: 4px 4px 4px; border: solid black 2px; padding: 20px\"> <b>Вывод:</b><br>\n",
    "    \n",
    "* Гипотезу о том, что доход между клиентами которые ушли и которые остались различается опровергнуть не получилось, следовательно доходы различаются\n",
    "* Гипотезу о том, что средний коринговый балл у клиентов которые ушли и которые остались различается получилось отвергнуть,следовательно скоринговый балл похож\n",
    "\n",
    "\n",
    "</div>       \n",
    "<br>"
   ]
  },
  {
   "cell_type": "markdown",
   "metadata": {},
   "source": [
    "<div class=\"alert alert-success\">\n",
    "<b>👍 Успех:</b> Все верно!\n",
    "</div>"
   ]
  },
  {
   "cell_type": "markdown",
   "metadata": {},
   "source": [
    "<hr style=\"border: 2px solid #425F57;\" />\n",
    "<hr style=\"border: 2px solid #425F57;\" />"
   ]
  },
  {
   "cell_type": "markdown",
   "metadata": {},
   "source": [
    "## Общий вывод и рекомендации"
   ]
  },
  {
   "cell_type": "markdown",
   "metadata": {},
   "source": [
    "Нами был проведен анализ клиентов регионального банка, а также выделить сегменты клиентов, которые склонны уходить из банка. \n",
    "На основе проведенного исследрвания можно сделать следюущие выводы:\n",
    "\n",
    "   *1. В разрезе признаков по всем клиентам банка складывается следующая картина:*\n",
    "* `возраст`-в датасете представлены данные о клиентах с 18 до 86 лет. Большинство клиентов от 32 до 37 лет. Клиентов начиная с 38 лет становится меньше. Возможно банку стоит обратить внимание на привлечение клиентов с возрастов от 38 лет и больше\n",
    "* `город`- больше всего клиентов из Ярославля, затем идет Рыбинск и на 3 месте Ростов\n",
    "* `пол`-мужчин и менщин практически одинаковое кол-во\n",
    "* `объекты собственности`-в большинства клиентов нет недвижимости, также много клиентов у которых от 3 до 5 объектов недвижимости (что странно, потому что это достаточно большое кол-во),1-2 объекта уже у меньшего кол-ва, а больше 6 уже редкость\n",
    "* `продукты`-большинство клиентов имеют 1 или 2 продукта в банке,большое 2 уже гораздо реже\n",
    "* `кредитные карты`-есть практичеси у 70% клиентов\n",
    "* `скоринг`-у большинства клиентов высокий скоринговый балл, с низким скоринговым баллом клиентов мало\n",
    "* `баланс`- у большинства клиентов на балансе есть сумма от 50 т.р. до 200 т.р.\n",
    "* `уровень зп`-у большинства клиентов уровень зп от 50 т.р. до 200 т.р.\n",
    "* `активность клиента`-чуть больше половины клиентов активно пользуются продуктами\n",
    "* `отток`-около 20% клиентов ушли из банка\n",
    "\n",
    "*2. 18,2% клиентов банка являются отточными. Среди таких клиентов пробладают следующие признаки :*  \n",
    "    \n",
    "* клиент в возрасте от 31 до 37 лет, а также кленты предпенсионного возраста от 52 до 58 лет\n",
    "* проживающее в Ярославле\n",
    "* в большей степени мужчины\n",
    "* клиенты имеющие 3-5 объектов недвижимости в собственности\n",
    "* с 2 открытыми банковскими продуктами\n",
    "* у большинства клиентов была кредитная карта\n",
    "* с балансом на счете от 200 т.р. до 1 млн\n",
    "* с Высоким скориноговым баллом\n",
    "* уровень зп от 50 т.р. до 200 т.р.\n",
    "\n",
    "*3. Выявлено 3 сегмента наиболее склонных к оттоку:*\n",
    "\n",
    "* Мужчины из Ярославля без кредитной карты. Отток по таким клиента составляет 40%.  \n",
    "`Рекомендация`-провести дополнительный анализ трат клиентов данного сегмента, в каких категориях и в каких объемах совершаются покупки, и предложить таким клиентам бесплатную кредитную карту с длительным льготным периодом для трат в определенных категориях\n",
    "* Клиенты с балансом от 1 млн.р. и заработной платой от 50 до 200 т.р имеющих 2 продукта в банке. Отток по таким клиентам составляет 32.4%  \n",
    "`Рекомендация`-предложить таким клиентам премиум обслуживание, на более выгодных условиях. Повысить ставки по накопительным счетам или вкладам, добавить инвестиционные предложения, выделить персональных менеджеров.\n",
    "* Активных клиентов банка с высоким кредитным рейтингом. Отток по таким клиентам составляет 35%  \n",
    "`Рекомендация`- Предложить акционные предложения по потребительским кредитам или ипотеке.\n",
    "\n",
    "  "
   ]
  },
  {
   "cell_type": "markdown",
   "metadata": {},
   "source": [
    "# Презентация https://disk.yandex.ru/i/UqTtiIfRwAa4XA"
   ]
  },
  {
   "cell_type": "code",
   "execution_count": null,
   "metadata": {},
   "outputs": [],
   "source": []
  }
 ],
 "metadata": {
  "ExecuteTimeLog": [
   {
    "duration": 159,
    "start_time": "2023-05-29T17:58:13.533Z"
   },
   {
    "duration": 1136,
    "start_time": "2023-05-29T17:58:53.715Z"
   },
   {
    "duration": 3492,
    "start_time": "2023-05-29T17:59:09.856Z"
   },
   {
    "duration": 6,
    "start_time": "2023-05-29T18:00:17.306Z"
   },
   {
    "duration": 13,
    "start_time": "2023-05-29T18:00:48.165Z"
   },
   {
    "duration": 13,
    "start_time": "2023-05-29T18:01:06.312Z"
   },
   {
    "duration": 105,
    "start_time": "2023-05-29T18:05:05.026Z"
   },
   {
    "duration": 49,
    "start_time": "2023-05-29T18:06:08.165Z"
   },
   {
    "duration": 12,
    "start_time": "2023-05-29T18:06:11.683Z"
   },
   {
    "duration": 13,
    "start_time": "2023-05-29T18:06:16.607Z"
   },
   {
    "duration": 13,
    "start_time": "2023-05-29T18:08:02.482Z"
   },
   {
    "duration": 16,
    "start_time": "2023-05-29T18:08:09.212Z"
   },
   {
    "duration": 15,
    "start_time": "2023-05-29T18:09:17.709Z"
   },
   {
    "duration": 5,
    "start_time": "2023-05-29T18:09:45.594Z"
   },
   {
    "duration": 12,
    "start_time": "2023-05-29T18:10:54.462Z"
   },
   {
    "duration": 9,
    "start_time": "2023-05-29T18:12:55.380Z"
   },
   {
    "duration": 10,
    "start_time": "2023-05-29T18:13:20.839Z"
   },
   {
    "duration": 1149,
    "start_time": "2023-05-29T18:13:32.610Z"
   },
   {
    "duration": 3921,
    "start_time": "2023-05-29T18:13:33.760Z"
   },
   {
    "duration": 6,
    "start_time": "2023-05-29T18:13:37.683Z"
   },
   {
    "duration": 18,
    "start_time": "2023-05-29T18:13:37.691Z"
   },
   {
    "duration": 14,
    "start_time": "2023-05-29T18:13:37.711Z"
   },
   {
    "duration": 116,
    "start_time": "2023-05-29T18:13:37.727Z"
   },
   {
    "duration": 19,
    "start_time": "2023-05-29T18:15:52.857Z"
   },
   {
    "duration": 5,
    "start_time": "2023-05-29T18:16:04.380Z"
   },
   {
    "duration": 12,
    "start_time": "2023-05-29T18:16:17.312Z"
   },
   {
    "duration": 9,
    "start_time": "2023-05-29T18:16:50.147Z"
   },
   {
    "duration": 12,
    "start_time": "2023-05-29T18:19:38.733Z"
   },
   {
    "duration": 13,
    "start_time": "2023-05-29T18:19:53.067Z"
   },
   {
    "duration": 10,
    "start_time": "2023-05-29T18:19:58.983Z"
   },
   {
    "duration": 1192,
    "start_time": "2023-05-29T18:20:11.287Z"
   },
   {
    "duration": 3757,
    "start_time": "2023-05-29T18:20:12.481Z"
   },
   {
    "duration": 5,
    "start_time": "2023-05-29T18:20:16.240Z"
   },
   {
    "duration": 15,
    "start_time": "2023-05-29T18:20:16.246Z"
   },
   {
    "duration": 12,
    "start_time": "2023-05-29T18:20:16.263Z"
   },
   {
    "duration": 10,
    "start_time": "2023-05-29T18:20:16.276Z"
   },
   {
    "duration": 10,
    "start_time": "2023-05-29T18:21:17.830Z"
   },
   {
    "duration": 10,
    "start_time": "2023-05-29T18:28:04.477Z"
   },
   {
    "duration": 93,
    "start_time": "2023-05-29T18:30:36.632Z"
   },
   {
    "duration": 5,
    "start_time": "2023-05-29T18:30:44.356Z"
   },
   {
    "duration": 7,
    "start_time": "2023-05-29T18:38:12.497Z"
   },
   {
    "duration": 17,
    "start_time": "2023-05-29T18:38:28.299Z"
   },
   {
    "duration": 6,
    "start_time": "2023-05-29T18:39:02.093Z"
   },
   {
    "duration": 10,
    "start_time": "2023-05-29T18:46:54.080Z"
   },
   {
    "duration": 8,
    "start_time": "2023-05-29T18:48:42.325Z"
   },
   {
    "duration": 5,
    "start_time": "2023-05-29T18:48:49.117Z"
   },
   {
    "duration": 11,
    "start_time": "2023-05-29T18:49:14.983Z"
   },
   {
    "duration": 6,
    "start_time": "2023-05-29T18:51:07.442Z"
   },
   {
    "duration": 7,
    "start_time": "2023-05-29T18:51:19.907Z"
   },
   {
    "duration": 8,
    "start_time": "2023-05-29T18:55:14.945Z"
   },
   {
    "duration": 9,
    "start_time": "2023-05-29T18:57:05.116Z"
   },
   {
    "duration": 5,
    "start_time": "2023-05-29T19:06:28.483Z"
   },
   {
    "duration": 5392,
    "start_time": "2023-05-29T19:27:13.591Z"
   },
   {
    "duration": 5496,
    "start_time": "2023-05-29T19:27:44.155Z"
   },
   {
    "duration": 135,
    "start_time": "2023-05-29T19:31:07.462Z"
   },
   {
    "duration": 102,
    "start_time": "2023-05-29T19:33:54.550Z"
   },
   {
    "duration": 333,
    "start_time": "2023-05-29T19:34:57.011Z"
   },
   {
    "duration": 351,
    "start_time": "2023-05-29T19:35:57.491Z"
   },
   {
    "duration": 106,
    "start_time": "2023-05-29T19:36:14.327Z"
   },
   {
    "duration": 105,
    "start_time": "2023-05-29T19:36:36.899Z"
   },
   {
    "duration": 111,
    "start_time": "2023-05-29T19:36:48.579Z"
   },
   {
    "duration": 131,
    "start_time": "2023-05-29T19:48:04.815Z"
   },
   {
    "duration": 43,
    "start_time": "2023-05-29T19:51:25.587Z"
   },
   {
    "duration": 118,
    "start_time": "2023-05-29T20:15:07.351Z"
   },
   {
    "duration": 8,
    "start_time": "2023-05-29T20:18:52.235Z"
   },
   {
    "duration": 14,
    "start_time": "2023-05-29T20:19:17.071Z"
   },
   {
    "duration": 11,
    "start_time": "2023-05-29T20:19:33.656Z"
   },
   {
    "duration": 8,
    "start_time": "2023-05-29T20:19:39.843Z"
   },
   {
    "duration": 106,
    "start_time": "2023-05-29T20:22:15.158Z"
   },
   {
    "duration": 110,
    "start_time": "2023-05-29T20:23:23.327Z"
   },
   {
    "duration": 119,
    "start_time": "2023-05-29T20:25:10.661Z"
   },
   {
    "duration": 144,
    "start_time": "2023-05-29T20:25:47.992Z"
   },
   {
    "duration": 6,
    "start_time": "2023-05-29T20:44:51.693Z"
   },
   {
    "duration": 14,
    "start_time": "2023-05-29T20:45:04.031Z"
   },
   {
    "duration": 12,
    "start_time": "2023-05-29T20:45:09.712Z"
   },
   {
    "duration": 13,
    "start_time": "2023-05-29T20:46:30.246Z"
   },
   {
    "duration": 14,
    "start_time": "2023-05-29T20:47:27.997Z"
   },
   {
    "duration": 1181,
    "start_time": "2023-05-29T20:47:55.098Z"
   },
   {
    "duration": 954,
    "start_time": "2023-05-29T20:47:56.281Z"
   },
   {
    "duration": 8,
    "start_time": "2023-05-29T20:47:57.236Z"
   },
   {
    "duration": 29,
    "start_time": "2023-05-29T20:47:57.246Z"
   },
   {
    "duration": 33,
    "start_time": "2023-05-29T20:47:57.276Z"
   },
   {
    "duration": 15,
    "start_time": "2023-05-29T20:47:57.310Z"
   },
   {
    "duration": 25,
    "start_time": "2023-05-29T20:47:57.326Z"
   },
   {
    "duration": 8,
    "start_time": "2023-05-29T20:47:57.352Z"
   },
   {
    "duration": 11,
    "start_time": "2023-05-29T20:47:57.362Z"
   },
   {
    "duration": 4,
    "start_time": "2023-05-29T20:47:57.375Z"
   },
   {
    "duration": 13,
    "start_time": "2023-05-29T20:47:57.381Z"
   },
   {
    "duration": 7,
    "start_time": "2023-05-29T20:47:57.395Z"
   },
   {
    "duration": 38,
    "start_time": "2023-05-29T20:47:57.404Z"
   },
   {
    "duration": 142,
    "start_time": "2023-05-29T20:47:57.443Z"
   },
   {
    "duration": 159,
    "start_time": "2023-05-29T20:47:57.586Z"
   },
   {
    "duration": 25,
    "start_time": "2023-05-29T20:48:06.609Z"
   },
   {
    "duration": 14,
    "start_time": "2023-05-29T20:48:25.856Z"
   },
   {
    "duration": 10,
    "start_time": "2023-05-29T20:50:33.550Z"
   },
   {
    "duration": 21,
    "start_time": "2023-05-29T20:50:52.339Z"
   },
   {
    "duration": 150,
    "start_time": "2023-05-29T21:03:43.720Z"
   },
   {
    "duration": 124,
    "start_time": "2023-05-29T21:10:03.843Z"
   },
   {
    "duration": 112,
    "start_time": "2023-05-29T21:11:04.996Z"
   },
   {
    "duration": 155,
    "start_time": "2023-05-29T21:13:35.411Z"
   },
   {
    "duration": 178,
    "start_time": "2023-05-29T21:15:01.808Z"
   },
   {
    "duration": 130,
    "start_time": "2023-05-29T21:15:14.435Z"
   },
   {
    "duration": 173,
    "start_time": "2023-05-29T21:15:43.674Z"
   },
   {
    "duration": 124,
    "start_time": "2023-05-29T21:16:22.385Z"
   },
   {
    "duration": 135,
    "start_time": "2023-05-29T21:16:26.996Z"
   },
   {
    "duration": 131,
    "start_time": "2023-05-29T21:16:48.036Z"
   },
   {
    "duration": 5,
    "start_time": "2023-05-29T21:32:59.138Z"
   },
   {
    "duration": 140,
    "start_time": "2023-05-29T21:37:01.819Z"
   },
   {
    "duration": 18,
    "start_time": "2023-05-29T21:38:42.406Z"
   },
   {
    "duration": 1091,
    "start_time": "2023-05-29T21:39:19.717Z"
   },
   {
    "duration": 1058,
    "start_time": "2023-05-29T21:39:20.810Z"
   },
   {
    "duration": 6,
    "start_time": "2023-05-29T21:39:21.870Z"
   },
   {
    "duration": 15,
    "start_time": "2023-05-29T21:39:21.878Z"
   },
   {
    "duration": 13,
    "start_time": "2023-05-29T21:39:21.895Z"
   },
   {
    "duration": 10,
    "start_time": "2023-05-29T21:39:21.910Z"
   },
   {
    "duration": 5,
    "start_time": "2023-05-29T21:39:21.921Z"
   },
   {
    "duration": 14,
    "start_time": "2023-05-29T21:39:21.927Z"
   },
   {
    "duration": 24,
    "start_time": "2023-05-29T21:39:21.942Z"
   },
   {
    "duration": 5,
    "start_time": "2023-05-29T21:39:21.968Z"
   },
   {
    "duration": 21,
    "start_time": "2023-05-29T21:39:21.975Z"
   },
   {
    "duration": 8,
    "start_time": "2023-05-29T21:39:21.998Z"
   },
   {
    "duration": 39,
    "start_time": "2023-05-29T21:39:22.007Z"
   },
   {
    "duration": 141,
    "start_time": "2023-05-29T21:39:22.047Z"
   },
   {
    "duration": 137,
    "start_time": "2023-05-29T21:39:22.189Z"
   },
   {
    "duration": 17,
    "start_time": "2023-05-29T21:39:22.327Z"
   },
   {
    "duration": 4,
    "start_time": "2023-05-29T21:40:39.226Z"
   },
   {
    "duration": 12,
    "start_time": "2023-05-29T21:41:52.370Z"
   },
   {
    "duration": 12,
    "start_time": "2023-05-29T21:42:00.071Z"
   },
   {
    "duration": 26,
    "start_time": "2023-05-29T21:43:26.061Z"
   },
   {
    "duration": 1375,
    "start_time": "2023-05-30T18:21:02.565Z"
   },
   {
    "duration": 1227,
    "start_time": "2023-05-30T18:21:03.943Z"
   },
   {
    "duration": 6,
    "start_time": "2023-05-30T18:21:05.172Z"
   },
   {
    "duration": 17,
    "start_time": "2023-05-30T18:21:05.180Z"
   },
   {
    "duration": 14,
    "start_time": "2023-05-30T18:21:05.199Z"
   },
   {
    "duration": 44,
    "start_time": "2023-05-30T18:21:05.214Z"
   },
   {
    "duration": 7,
    "start_time": "2023-05-30T18:21:05.260Z"
   },
   {
    "duration": 10,
    "start_time": "2023-05-30T18:21:05.268Z"
   },
   {
    "duration": 8,
    "start_time": "2023-05-30T18:21:05.280Z"
   },
   {
    "duration": 7,
    "start_time": "2023-05-30T18:21:05.290Z"
   },
   {
    "duration": 9,
    "start_time": "2023-05-30T18:21:05.298Z"
   },
   {
    "duration": 9,
    "start_time": "2023-05-30T18:21:05.308Z"
   },
   {
    "duration": 62,
    "start_time": "2023-05-30T18:21:05.319Z"
   },
   {
    "duration": 168,
    "start_time": "2023-05-30T18:21:05.383Z"
   },
   {
    "duration": 150,
    "start_time": "2023-05-30T18:21:05.553Z"
   },
   {
    "duration": 3,
    "start_time": "2023-05-30T18:21:05.705Z"
   },
   {
    "duration": 23,
    "start_time": "2023-05-30T18:21:05.709Z"
   },
   {
    "duration": 139,
    "start_time": "2023-05-30T18:21:47.885Z"
   },
   {
    "duration": 151,
    "start_time": "2023-05-30T18:22:17.350Z"
   },
   {
    "duration": 143,
    "start_time": "2023-05-30T18:22:21.398Z"
   },
   {
    "duration": 180,
    "start_time": "2023-05-30T18:25:54.080Z"
   },
   {
    "duration": 139,
    "start_time": "2023-05-30T18:29:38.271Z"
   },
   {
    "duration": 197,
    "start_time": "2023-05-30T18:29:47.369Z"
   },
   {
    "duration": 146,
    "start_time": "2023-05-30T18:29:50.127Z"
   },
   {
    "duration": 155,
    "start_time": "2023-05-30T18:38:46.139Z"
   },
   {
    "duration": 243,
    "start_time": "2023-05-30T18:45:06.726Z"
   },
   {
    "duration": 4,
    "start_time": "2023-05-30T18:45:32.825Z"
   },
   {
    "duration": 6,
    "start_time": "2023-05-30T18:45:41.483Z"
   },
   {
    "duration": 5,
    "start_time": "2023-05-30T18:46:35.445Z"
   },
   {
    "duration": 104,
    "start_time": "2023-05-30T19:01:26.438Z"
   },
   {
    "duration": 19,
    "start_time": "2023-05-30T19:04:14.299Z"
   },
   {
    "duration": 102,
    "start_time": "2023-05-30T19:07:38.864Z"
   },
   {
    "duration": 414158,
    "start_time": "2023-05-30T19:07:48.024Z"
   },
   {
    "duration": 2454,
    "start_time": "2023-05-30T19:14:42.184Z"
   },
   {
    "duration": 1569,
    "start_time": "2023-05-30T19:20:57.548Z"
   },
   {
    "duration": 579,
    "start_time": "2023-05-30T19:26:30.372Z"
   },
   {
    "duration": 566,
    "start_time": "2023-05-30T19:27:14.919Z"
   },
   {
    "duration": 112,
    "start_time": "2023-05-30T19:27:50.492Z"
   },
   {
    "duration": 547,
    "start_time": "2023-05-30T19:29:55.984Z"
   },
   {
    "duration": 923,
    "start_time": "2023-05-30T19:33:44.705Z"
   },
   {
    "duration": 892,
    "start_time": "2023-05-30T19:34:02.689Z"
   },
   {
    "duration": 11,
    "start_time": "2023-05-30T19:36:05.548Z"
   },
   {
    "duration": 654,
    "start_time": "2023-05-30T19:36:14.242Z"
   },
   {
    "duration": 13,
    "start_time": "2023-05-30T19:39:34.161Z"
   },
   {
    "duration": 605,
    "start_time": "2023-05-30T19:39:43.793Z"
   },
   {
    "duration": 895,
    "start_time": "2023-05-30T19:40:29.720Z"
   },
   {
    "duration": 541,
    "start_time": "2023-05-30T19:40:43.296Z"
   },
   {
    "duration": 546,
    "start_time": "2023-05-30T19:41:17.446Z"
   },
   {
    "duration": 773,
    "start_time": "2023-05-30T19:43:22.643Z"
   },
   {
    "duration": 837,
    "start_time": "2023-05-30T19:43:34.313Z"
   },
   {
    "duration": 452,
    "start_time": "2023-05-30T19:44:31.735Z"
   },
   {
    "duration": 560,
    "start_time": "2023-05-30T19:44:50.010Z"
   },
   {
    "duration": 592,
    "start_time": "2023-05-30T19:45:07.641Z"
   },
   {
    "duration": 464,
    "start_time": "2023-05-30T19:55:29.851Z"
   },
   {
    "duration": 894,
    "start_time": "2023-05-30T19:56:32.885Z"
   },
   {
    "duration": 2338,
    "start_time": "2023-05-30T19:56:46.121Z"
   },
   {
    "duration": 573,
    "start_time": "2023-05-30T20:00:05.586Z"
   },
   {
    "duration": 573,
    "start_time": "2023-05-30T20:01:30.757Z"
   },
   {
    "duration": 1264,
    "start_time": "2023-05-30T20:02:51.852Z"
   },
   {
    "duration": 1693,
    "start_time": "2023-05-30T20:02:53.118Z"
   },
   {
    "duration": 6,
    "start_time": "2023-05-30T20:02:54.812Z"
   },
   {
    "duration": 16,
    "start_time": "2023-05-30T20:02:54.819Z"
   },
   {
    "duration": 16,
    "start_time": "2023-05-30T20:02:54.837Z"
   },
   {
    "duration": 10,
    "start_time": "2023-05-30T20:02:54.855Z"
   },
   {
    "duration": 5,
    "start_time": "2023-05-30T20:02:54.867Z"
   },
   {
    "duration": 8,
    "start_time": "2023-05-30T20:02:54.874Z"
   },
   {
    "duration": 12,
    "start_time": "2023-05-30T20:02:54.884Z"
   },
   {
    "duration": 5,
    "start_time": "2023-05-30T20:02:54.898Z"
   },
   {
    "duration": 47,
    "start_time": "2023-05-30T20:02:54.904Z"
   },
   {
    "duration": 8,
    "start_time": "2023-05-30T20:02:54.953Z"
   },
   {
    "duration": 38,
    "start_time": "2023-05-30T20:02:54.963Z"
   },
   {
    "duration": 185,
    "start_time": "2023-05-30T20:02:55.003Z"
   },
   {
    "duration": 154,
    "start_time": "2023-05-30T20:02:55.190Z"
   },
   {
    "duration": 5,
    "start_time": "2023-05-30T20:02:55.350Z"
   },
   {
    "duration": 13,
    "start_time": "2023-05-30T20:02:55.357Z"
   },
   {
    "duration": 225,
    "start_time": "2023-05-30T20:02:55.372Z"
   },
   {
    "duration": 637,
    "start_time": "2023-05-30T20:03:10.848Z"
   },
   {
    "duration": 574,
    "start_time": "2023-05-30T20:04:19.623Z"
   },
   {
    "duration": 557,
    "start_time": "2023-05-30T20:05:51.880Z"
   },
   {
    "duration": 663,
    "start_time": "2023-05-30T20:06:55.525Z"
   },
   {
    "duration": 11,
    "start_time": "2023-05-30T20:15:31.846Z"
   },
   {
    "duration": 117,
    "start_time": "2023-05-30T20:15:57.857Z"
   },
   {
    "duration": 35784,
    "start_time": "2023-05-30T20:16:15.652Z"
   },
   {
    "duration": 110001,
    "start_time": "2023-05-30T20:17:41.805Z"
   },
   {
    "duration": 109869,
    "start_time": "2023-05-30T20:23:18.984Z"
   },
   {
    "duration": 432,
    "start_time": "2023-05-30T20:37:12.564Z"
   },
   {
    "duration": 69,
    "start_time": "2023-05-30T20:40:56.381Z"
   },
   {
    "duration": 63,
    "start_time": "2023-05-30T20:41:52.591Z"
   },
   {
    "duration": 58,
    "start_time": "2023-05-30T20:42:05.675Z"
   },
   {
    "duration": 96,
    "start_time": "2023-05-30T20:44:13.320Z"
   },
   {
    "duration": 58,
    "start_time": "2023-05-30T20:44:28.963Z"
   },
   {
    "duration": 56,
    "start_time": "2023-05-30T20:45:08.617Z"
   },
   {
    "duration": 72,
    "start_time": "2023-05-30T20:48:34.596Z"
   },
   {
    "duration": 271,
    "start_time": "2023-05-30T20:48:41.493Z"
   },
   {
    "duration": 244,
    "start_time": "2023-05-30T20:48:57.258Z"
   },
   {
    "duration": 276,
    "start_time": "2023-05-30T20:54:44.358Z"
   },
   {
    "duration": 1192,
    "start_time": "2023-05-30T20:57:51.725Z"
   },
   {
    "duration": 1766,
    "start_time": "2023-05-30T20:57:52.919Z"
   },
   {
    "duration": 6,
    "start_time": "2023-05-30T20:57:54.686Z"
   },
   {
    "duration": 14,
    "start_time": "2023-05-30T20:57:54.694Z"
   },
   {
    "duration": 13,
    "start_time": "2023-05-30T20:57:54.711Z"
   },
   {
    "duration": 14,
    "start_time": "2023-05-30T20:57:54.749Z"
   },
   {
    "duration": 5,
    "start_time": "2023-05-30T20:57:54.765Z"
   },
   {
    "duration": 8,
    "start_time": "2023-05-30T20:57:54.771Z"
   },
   {
    "duration": 10,
    "start_time": "2023-05-30T20:57:54.780Z"
   },
   {
    "duration": 5,
    "start_time": "2023-05-30T20:57:54.791Z"
   },
   {
    "duration": 10,
    "start_time": "2023-05-30T20:57:54.797Z"
   },
   {
    "duration": 22,
    "start_time": "2023-05-30T20:57:54.808Z"
   },
   {
    "duration": 53,
    "start_time": "2023-05-30T20:57:54.831Z"
   },
   {
    "duration": 165,
    "start_time": "2023-05-30T20:57:54.887Z"
   },
   {
    "duration": 149,
    "start_time": "2023-05-30T20:57:55.054Z"
   },
   {
    "duration": 5,
    "start_time": "2023-05-30T20:57:55.205Z"
   },
   {
    "duration": 20,
    "start_time": "2023-05-30T20:57:55.212Z"
   },
   {
    "duration": 582,
    "start_time": "2023-05-30T20:57:55.234Z"
   },
   {
    "duration": 693,
    "start_time": "2023-05-30T20:57:55.818Z"
   },
   {
    "duration": 2188,
    "start_time": "2023-05-30T21:05:00.739Z"
   },
   {
    "duration": 76,
    "start_time": "2023-05-31T21:40:32.465Z"
   },
   {
    "duration": 1332,
    "start_time": "2023-05-31T21:40:39.418Z"
   },
   {
    "duration": 3647,
    "start_time": "2023-05-31T21:40:40.752Z"
   },
   {
    "duration": 14,
    "start_time": "2023-05-31T21:40:44.405Z"
   },
   {
    "duration": 15,
    "start_time": "2023-05-31T21:40:44.422Z"
   },
   {
    "duration": 14,
    "start_time": "2023-05-31T21:40:44.440Z"
   },
   {
    "duration": 26,
    "start_time": "2023-05-31T21:40:44.455Z"
   },
   {
    "duration": 21,
    "start_time": "2023-05-31T21:40:44.482Z"
   },
   {
    "duration": 13,
    "start_time": "2023-05-31T21:40:44.509Z"
   },
   {
    "duration": 14,
    "start_time": "2023-05-31T21:40:44.523Z"
   },
   {
    "duration": 11,
    "start_time": "2023-05-31T21:40:44.538Z"
   },
   {
    "duration": 11,
    "start_time": "2023-05-31T21:40:44.551Z"
   },
   {
    "duration": 6,
    "start_time": "2023-05-31T21:40:44.563Z"
   },
   {
    "duration": 57,
    "start_time": "2023-05-31T21:40:44.570Z"
   },
   {
    "duration": 186,
    "start_time": "2023-05-31T21:40:44.630Z"
   },
   {
    "duration": 206,
    "start_time": "2023-05-31T21:40:44.818Z"
   },
   {
    "duration": 5,
    "start_time": "2023-05-31T21:40:45.026Z"
   },
   {
    "duration": 19,
    "start_time": "2023-05-31T21:40:45.033Z"
   },
   {
    "duration": 1108,
    "start_time": "2023-05-31T21:40:45.053Z"
   },
   {
    "duration": 763,
    "start_time": "2023-05-31T21:40:46.163Z"
   },
   {
    "duration": 2,
    "start_time": "2023-05-31T21:40:46.931Z"
   },
   {
    "duration": 178,
    "start_time": "2023-05-31T21:40:46.935Z"
   },
   {
    "duration": 301,
    "start_time": "2023-05-31T21:48:02.308Z"
   },
   {
    "duration": 1751,
    "start_time": "2023-05-31T21:49:17.719Z"
   },
   {
    "duration": 2235,
    "start_time": "2023-05-31T21:49:38.612Z"
   },
   {
    "duration": 13,
    "start_time": "2023-05-31T21:50:21.211Z"
   },
   {
    "duration": 2143,
    "start_time": "2023-05-31T21:50:31.023Z"
   },
   {
    "duration": 164,
    "start_time": "2023-05-31T21:52:28.140Z"
   },
   {
    "duration": 149,
    "start_time": "2023-05-31T21:56:08.805Z"
   },
   {
    "duration": 8,
    "start_time": "2023-05-31T21:56:16.611Z"
   },
   {
    "duration": 9,
    "start_time": "2023-05-31T21:56:25.961Z"
   },
   {
    "duration": 14508,
    "start_time": "2023-05-31T21:56:45.926Z"
   },
   {
    "duration": 192,
    "start_time": "2023-05-31T21:58:03.160Z"
   },
   {
    "duration": 521,
    "start_time": "2023-05-31T22:00:46.944Z"
   },
   {
    "duration": 203,
    "start_time": "2023-05-31T22:01:46.230Z"
   },
   {
    "duration": 15,
    "start_time": "2023-05-31T22:02:05.226Z"
   },
   {
    "duration": 673,
    "start_time": "2023-05-31T22:02:11.805Z"
   },
   {
    "duration": 9,
    "start_time": "2023-05-31T22:02:35.413Z"
   },
   {
    "duration": 56543,
    "start_time": "2023-05-31T22:11:22.708Z"
   },
   {
    "duration": 1429,
    "start_time": "2023-06-01T17:56:39.492Z"
   },
   {
    "duration": 1366,
    "start_time": "2023-06-01T17:56:40.923Z"
   },
   {
    "duration": 7,
    "start_time": "2023-06-01T17:56:42.291Z"
   },
   {
    "duration": 19,
    "start_time": "2023-06-01T17:56:42.300Z"
   },
   {
    "duration": 21,
    "start_time": "2023-06-01T17:56:42.321Z"
   },
   {
    "duration": 12,
    "start_time": "2023-06-01T17:56:42.344Z"
   },
   {
    "duration": 31,
    "start_time": "2023-06-01T17:56:42.357Z"
   },
   {
    "duration": 8,
    "start_time": "2023-06-01T17:56:42.390Z"
   },
   {
    "duration": 14,
    "start_time": "2023-06-01T17:56:42.400Z"
   },
   {
    "duration": 14,
    "start_time": "2023-06-01T17:56:42.417Z"
   },
   {
    "duration": 6,
    "start_time": "2023-06-01T17:56:42.433Z"
   },
   {
    "duration": 7,
    "start_time": "2023-06-01T17:56:42.441Z"
   },
   {
    "duration": 61,
    "start_time": "2023-06-01T17:56:42.450Z"
   },
   {
    "duration": 157,
    "start_time": "2023-06-01T17:56:42.512Z"
   },
   {
    "duration": 165,
    "start_time": "2023-06-01T17:56:42.677Z"
   },
   {
    "duration": 5,
    "start_time": "2023-06-01T17:56:42.843Z"
   },
   {
    "duration": 15,
    "start_time": "2023-06-01T17:56:42.850Z"
   },
   {
    "duration": 945,
    "start_time": "2023-06-01T17:56:42.867Z"
   },
   {
    "duration": 798,
    "start_time": "2023-06-01T17:56:43.814Z"
   },
   {
    "duration": 531,
    "start_time": "2023-06-01T17:56:44.614Z"
   },
   {
    "duration": 51669,
    "start_time": "2023-06-01T17:56:45.146Z"
   },
   {
    "duration": 71,
    "start_time": "2023-06-01T17:59:37.790Z"
   },
   {
    "duration": 236,
    "start_time": "2023-06-01T17:59:43.060Z"
   },
   {
    "duration": 79,
    "start_time": "2023-06-01T18:02:11.320Z"
   },
   {
    "duration": 90,
    "start_time": "2023-06-01T18:02:25.908Z"
   },
   {
    "duration": 112788,
    "start_time": "2023-06-01T18:02:31.728Z"
   },
   {
    "duration": 74,
    "start_time": "2023-06-01T18:16:27.466Z"
   },
   {
    "duration": 128,
    "start_time": "2023-06-01T18:19:16.371Z"
   },
   {
    "duration": 123,
    "start_time": "2023-06-01T18:19:25.701Z"
   },
   {
    "duration": 155,
    "start_time": "2023-06-01T18:24:50.758Z"
   },
   {
    "duration": 293,
    "start_time": "2023-06-01T18:25:41.595Z"
   },
   {
    "duration": 289,
    "start_time": "2023-06-01T18:32:28.808Z"
   },
   {
    "duration": 417,
    "start_time": "2023-06-01T18:33:06.963Z"
   },
   {
    "duration": 367,
    "start_time": "2023-06-01T18:34:30.095Z"
   },
   {
    "duration": 353,
    "start_time": "2023-06-01T18:38:02.497Z"
   },
   {
    "duration": 387,
    "start_time": "2023-06-01T18:41:09.862Z"
   },
   {
    "duration": 348,
    "start_time": "2023-06-01T18:41:25.003Z"
   },
   {
    "duration": 339,
    "start_time": "2023-06-01T18:43:22.104Z"
   },
   {
    "duration": 440,
    "start_time": "2023-06-01T18:43:54.094Z"
   },
   {
    "duration": 363,
    "start_time": "2023-06-01T18:44:19.198Z"
   },
   {
    "duration": 376,
    "start_time": "2023-06-01T18:45:07.903Z"
   },
   {
    "duration": 408,
    "start_time": "2023-06-01T18:52:25.223Z"
   },
   {
    "duration": 386,
    "start_time": "2023-06-01T18:52:34.855Z"
   },
   {
    "duration": 358,
    "start_time": "2023-06-01T18:52:51.974Z"
   },
   {
    "duration": 419,
    "start_time": "2023-06-01T18:53:41.745Z"
   },
   {
    "duration": 12,
    "start_time": "2023-06-01T19:02:31.111Z"
   },
   {
    "duration": 15,
    "start_time": "2023-06-01T19:02:39.172Z"
   },
   {
    "duration": 10,
    "start_time": "2023-06-01T19:03:12.558Z"
   },
   {
    "duration": 14,
    "start_time": "2023-06-01T19:03:31.577Z"
   },
   {
    "duration": 978,
    "start_time": "2023-06-01T19:24:40.538Z"
   },
   {
    "duration": 1083,
    "start_time": "2023-06-01T19:25:13.339Z"
   },
   {
    "duration": 1605,
    "start_time": "2023-06-01T19:32:30.021Z"
   },
   {
    "duration": 1538,
    "start_time": "2023-06-01T19:32:55.590Z"
   },
   {
    "duration": 1279,
    "start_time": "2023-06-01T19:34:57.534Z"
   },
   {
    "duration": 186,
    "start_time": "2023-06-01T19:39:30.110Z"
   },
   {
    "duration": 993,
    "start_time": "2023-06-01T19:39:42.030Z"
   },
   {
    "duration": 890,
    "start_time": "2023-06-01T19:41:34.304Z"
   },
   {
    "duration": 8,
    "start_time": "2023-06-01T20:30:33.358Z"
   },
   {
    "duration": 7,
    "start_time": "2023-06-01T20:30:50.598Z"
   },
   {
    "duration": 7,
    "start_time": "2023-06-01T20:31:15.232Z"
   },
   {
    "duration": 8,
    "start_time": "2023-06-01T20:31:20.597Z"
   },
   {
    "duration": 920,
    "start_time": "2023-06-01T20:32:13.895Z"
   },
   {
    "duration": 1222,
    "start_time": "2023-06-01T20:32:52.373Z"
   },
   {
    "duration": 1163,
    "start_time": "2023-06-01T20:34:24.302Z"
   },
   {
    "duration": 8,
    "start_time": "2023-06-01T20:40:51.431Z"
   },
   {
    "duration": 1057,
    "start_time": "2023-06-01T20:40:53.208Z"
   },
   {
    "duration": 7,
    "start_time": "2023-06-01T20:41:03.003Z"
   },
   {
    "duration": 835,
    "start_time": "2023-06-01T20:41:04.582Z"
   },
   {
    "duration": 108,
    "start_time": "2023-06-02T16:13:44.325Z"
   },
   {
    "duration": 40,
    "start_time": "2023-06-02T16:19:59.313Z"
   },
   {
    "duration": 1080,
    "start_time": "2023-06-02T16:34:09.960Z"
   },
   {
    "duration": 1145,
    "start_time": "2023-06-02T16:34:11.042Z"
   },
   {
    "duration": 5,
    "start_time": "2023-06-02T16:34:12.189Z"
   },
   {
    "duration": 37,
    "start_time": "2023-06-02T16:34:12.196Z"
   },
   {
    "duration": 13,
    "start_time": "2023-06-02T16:34:12.234Z"
   },
   {
    "duration": 38,
    "start_time": "2023-06-02T16:34:12.248Z"
   },
   {
    "duration": 22,
    "start_time": "2023-06-02T16:34:12.288Z"
   },
   {
    "duration": 27,
    "start_time": "2023-06-02T16:34:12.312Z"
   },
   {
    "duration": 12,
    "start_time": "2023-06-02T16:34:12.341Z"
   },
   {
    "duration": 5,
    "start_time": "2023-06-02T16:34:12.356Z"
   },
   {
    "duration": 11,
    "start_time": "2023-06-02T16:34:12.363Z"
   },
   {
    "duration": 15,
    "start_time": "2023-06-02T16:34:12.376Z"
   },
   {
    "duration": 47,
    "start_time": "2023-06-02T16:34:12.393Z"
   },
   {
    "duration": 180,
    "start_time": "2023-06-02T16:34:12.442Z"
   },
   {
    "duration": 155,
    "start_time": "2023-06-02T16:34:12.623Z"
   },
   {
    "duration": 4,
    "start_time": "2023-06-02T16:34:12.780Z"
   },
   {
    "duration": 370,
    "start_time": "2023-06-02T16:34:12.786Z"
   },
   {
    "duration": 809,
    "start_time": "2023-06-02T16:34:13.157Z"
   },
   {
    "duration": 1097,
    "start_time": "2023-06-02T16:34:13.967Z"
   },
   {
    "duration": 6,
    "start_time": "2023-06-02T16:34:15.065Z"
   },
   {
    "duration": 726,
    "start_time": "2023-06-02T16:34:15.073Z"
   },
   {
    "duration": 1046,
    "start_time": "2023-06-02T16:34:15.801Z"
   },
   {
    "duration": 852,
    "start_time": "2023-06-02T16:34:16.849Z"
   },
   {
    "duration": 986,
    "start_time": "2023-06-02T16:34:17.703Z"
   },
   {
    "duration": 801,
    "start_time": "2023-06-02T16:34:34.013Z"
   },
   {
    "duration": 827,
    "start_time": "2023-06-02T16:42:28.657Z"
   },
   {
    "duration": 796,
    "start_time": "2023-06-02T16:42:38.323Z"
   },
   {
    "duration": 77,
    "start_time": "2023-06-02T16:43:46.994Z"
   },
   {
    "duration": 72,
    "start_time": "2023-06-02T20:07:04.364Z"
   },
   {
    "duration": 1515,
    "start_time": "2023-06-02T20:07:11.079Z"
   },
   {
    "duration": 3989,
    "start_time": "2023-06-02T20:07:12.596Z"
   },
   {
    "duration": 7,
    "start_time": "2023-06-02T20:07:16.587Z"
   },
   {
    "duration": 28,
    "start_time": "2023-06-02T20:07:16.596Z"
   },
   {
    "duration": 17,
    "start_time": "2023-06-02T20:07:16.626Z"
   },
   {
    "duration": 43,
    "start_time": "2023-06-02T20:07:16.645Z"
   },
   {
    "duration": 9,
    "start_time": "2023-06-02T20:07:16.690Z"
   },
   {
    "duration": 18,
    "start_time": "2023-06-02T20:07:16.703Z"
   },
   {
    "duration": 14,
    "start_time": "2023-06-02T20:07:16.723Z"
   },
   {
    "duration": 7,
    "start_time": "2023-06-02T20:07:16.741Z"
   },
   {
    "duration": 30,
    "start_time": "2023-06-02T20:07:16.749Z"
   },
   {
    "duration": 12,
    "start_time": "2023-06-02T20:07:16.780Z"
   },
   {
    "duration": 53,
    "start_time": "2023-06-02T20:07:16.796Z"
   },
   {
    "duration": 200,
    "start_time": "2023-06-02T20:07:16.852Z"
   },
   {
    "duration": 175,
    "start_time": "2023-06-02T20:07:17.054Z"
   },
   {
    "duration": 6,
    "start_time": "2023-06-02T20:07:17.231Z"
   },
   {
    "duration": 522,
    "start_time": "2023-06-02T20:07:17.239Z"
   },
   {
    "duration": 968,
    "start_time": "2023-06-02T20:07:17.763Z"
   },
   {
    "duration": 1477,
    "start_time": "2023-06-02T20:07:18.732Z"
   },
   {
    "duration": 9,
    "start_time": "2023-06-02T20:07:20.211Z"
   },
   {
    "duration": 842,
    "start_time": "2023-06-02T20:07:20.221Z"
   },
   {
    "duration": 1155,
    "start_time": "2023-06-02T20:07:21.065Z"
   },
   {
    "duration": 835,
    "start_time": "2023-06-02T20:07:22.222Z"
   },
   {
    "duration": 80,
    "start_time": "2023-06-02T20:07:23.059Z"
   },
   {
    "duration": 111,
    "start_time": "2023-06-02T20:10:21.553Z"
   },
   {
    "duration": 143,
    "start_time": "2023-06-02T20:10:27.471Z"
   },
   {
    "duration": 172,
    "start_time": "2023-06-02T20:10:33.937Z"
   },
   {
    "duration": 33,
    "start_time": "2023-06-02T20:14:49.934Z"
   },
   {
    "duration": 164,
    "start_time": "2023-06-02T20:14:56.791Z"
   },
   {
    "duration": 264,
    "start_time": "2023-06-02T20:17:25.721Z"
   },
   {
    "duration": 357,
    "start_time": "2023-06-02T20:18:55.574Z"
   },
   {
    "duration": 367,
    "start_time": "2023-06-02T20:19:08.882Z"
   },
   {
    "duration": 500,
    "start_time": "2023-06-02T20:19:19.296Z"
   },
   {
    "duration": 114,
    "start_time": "2023-06-02T20:20:14.189Z"
   },
   {
    "duration": 814,
    "start_time": "2023-06-02T20:20:29.011Z"
   },
   {
    "duration": 55,
    "start_time": "2023-06-03T09:17:28.085Z"
   },
   {
    "duration": 10,
    "start_time": "2023-06-03T09:17:43.854Z"
   },
   {
    "duration": 1487,
    "start_time": "2023-06-03T09:17:57.107Z"
   },
   {
    "duration": 3716,
    "start_time": "2023-06-03T09:17:58.597Z"
   },
   {
    "duration": 8,
    "start_time": "2023-06-03T09:18:02.315Z"
   },
   {
    "duration": 55,
    "start_time": "2023-06-03T09:18:02.326Z"
   },
   {
    "duration": 18,
    "start_time": "2023-06-03T09:18:02.383Z"
   },
   {
    "duration": 23,
    "start_time": "2023-06-03T09:18:02.403Z"
   },
   {
    "duration": 16,
    "start_time": "2023-06-03T09:18:02.428Z"
   },
   {
    "duration": 26,
    "start_time": "2023-06-03T09:18:02.446Z"
   },
   {
    "duration": 31,
    "start_time": "2023-06-03T09:18:02.475Z"
   },
   {
    "duration": 12,
    "start_time": "2023-06-03T09:18:02.509Z"
   },
   {
    "duration": 23,
    "start_time": "2023-06-03T09:18:02.523Z"
   },
   {
    "duration": 10,
    "start_time": "2023-06-03T09:18:02.548Z"
   },
   {
    "duration": 46,
    "start_time": "2023-06-03T09:18:02.559Z"
   },
   {
    "duration": 163,
    "start_time": "2023-06-03T09:18:02.607Z"
   },
   {
    "duration": 187,
    "start_time": "2023-06-03T09:18:02.776Z"
   },
   {
    "duration": 13,
    "start_time": "2023-06-03T09:18:02.965Z"
   },
   {
    "duration": 411,
    "start_time": "2023-06-03T09:18:02.979Z"
   },
   {
    "duration": 983,
    "start_time": "2023-06-03T09:18:03.391Z"
   },
   {
    "duration": 1241,
    "start_time": "2023-06-03T09:18:04.375Z"
   },
   {
    "duration": 8,
    "start_time": "2023-06-03T09:18:05.619Z"
   },
   {
    "duration": 917,
    "start_time": "2023-06-03T09:18:05.629Z"
   },
   {
    "duration": 1109,
    "start_time": "2023-06-03T09:18:06.548Z"
   },
   {
    "duration": 846,
    "start_time": "2023-06-03T09:18:07.658Z"
   },
   {
    "duration": 1996,
    "start_time": "2023-06-03T09:18:08.506Z"
   },
   {
    "duration": 752,
    "start_time": "2023-06-03T09:18:10.504Z"
   },
   {
    "duration": 1913,
    "start_time": "2023-06-03T09:23:41.580Z"
   },
   {
    "duration": 1928,
    "start_time": "2023-06-03T09:25:43.248Z"
   },
   {
    "duration": 73,
    "start_time": "2023-06-03T09:52:23.276Z"
   },
   {
    "duration": 346,
    "start_time": "2023-06-03T10:23:05.435Z"
   },
   {
    "duration": 57,
    "start_time": "2023-06-03T10:23:24.195Z"
   },
   {
    "duration": 81,
    "start_time": "2023-06-03T10:23:37.051Z"
   },
   {
    "duration": 151,
    "start_time": "2023-06-03T10:23:45.899Z"
   },
   {
    "duration": 1142,
    "start_time": "2023-06-03T10:24:28.043Z"
   },
   {
    "duration": 128,
    "start_time": "2023-06-03T11:08:41.081Z"
   },
   {
    "duration": 29,
    "start_time": "2023-06-03T11:08:54.776Z"
   },
   {
    "duration": 31,
    "start_time": "2023-06-03T11:09:14.148Z"
   },
   {
    "duration": 30,
    "start_time": "2023-06-03T11:09:28.743Z"
   },
   {
    "duration": 32,
    "start_time": "2023-06-03T11:09:53.767Z"
   },
   {
    "duration": 8,
    "start_time": "2023-06-03T11:14:38.510Z"
   },
   {
    "duration": 47,
    "start_time": "2023-06-03T11:16:20.904Z"
   },
   {
    "duration": 12,
    "start_time": "2023-06-03T11:18:27.172Z"
   },
   {
    "duration": 93,
    "start_time": "2023-06-03T11:19:46.192Z"
   },
   {
    "duration": 87,
    "start_time": "2023-06-03T11:21:38.887Z"
   },
   {
    "duration": 6,
    "start_time": "2023-06-03T11:23:12.807Z"
   },
   {
    "duration": 7,
    "start_time": "2023-06-03T11:23:18.308Z"
   },
   {
    "duration": 137,
    "start_time": "2023-06-03T11:23:56.240Z"
   },
   {
    "duration": 180,
    "start_time": "2023-06-03T11:26:17.034Z"
   },
   {
    "duration": 7,
    "start_time": "2023-06-03T11:28:00.711Z"
   },
   {
    "duration": 238,
    "start_time": "2023-06-03T11:28:07.489Z"
   },
   {
    "duration": 8,
    "start_time": "2023-06-03T11:28:23.548Z"
   },
   {
    "duration": 130,
    "start_time": "2023-06-03T11:28:24.766Z"
   },
   {
    "duration": 8,
    "start_time": "2023-06-03T11:29:09.190Z"
   },
   {
    "duration": 139,
    "start_time": "2023-06-03T11:29:09.896Z"
   },
   {
    "duration": 63,
    "start_time": "2023-06-03T11:30:53.063Z"
   },
   {
    "duration": 91,
    "start_time": "2023-06-03T11:30:58.963Z"
   },
   {
    "duration": 92,
    "start_time": "2023-06-03T11:31:18.657Z"
   },
   {
    "duration": 96,
    "start_time": "2023-06-03T11:31:55.666Z"
   },
   {
    "duration": 194,
    "start_time": "2023-06-03T11:33:14.807Z"
   },
   {
    "duration": 97,
    "start_time": "2023-06-03T11:34:34.120Z"
   },
   {
    "duration": 117,
    "start_time": "2023-06-03T11:34:55.899Z"
   },
   {
    "duration": 131,
    "start_time": "2023-06-03T11:37:11.501Z"
   },
   {
    "duration": 26,
    "start_time": "2023-06-03T11:38:08.891Z"
   },
   {
    "duration": 30,
    "start_time": "2023-06-03T11:38:26.778Z"
   },
   {
    "duration": 24,
    "start_time": "2023-06-03T11:38:39.287Z"
   },
   {
    "duration": 1187,
    "start_time": "2023-06-03T11:38:46.902Z"
   },
   {
    "duration": 938,
    "start_time": "2023-06-03T11:38:48.091Z"
   },
   {
    "duration": 6,
    "start_time": "2023-06-03T11:38:49.030Z"
   },
   {
    "duration": 20,
    "start_time": "2023-06-03T11:38:49.037Z"
   },
   {
    "duration": 22,
    "start_time": "2023-06-03T11:38:49.059Z"
   },
   {
    "duration": 12,
    "start_time": "2023-06-03T11:38:49.082Z"
   },
   {
    "duration": 5,
    "start_time": "2023-06-03T11:38:49.095Z"
   },
   {
    "duration": 10,
    "start_time": "2023-06-03T11:38:49.102Z"
   },
   {
    "duration": 16,
    "start_time": "2023-06-03T11:38:49.113Z"
   },
   {
    "duration": 6,
    "start_time": "2023-06-03T11:38:49.130Z"
   },
   {
    "duration": 43,
    "start_time": "2023-06-03T11:38:49.137Z"
   },
   {
    "duration": 10,
    "start_time": "2023-06-03T11:38:49.181Z"
   },
   {
    "duration": 37,
    "start_time": "2023-06-03T11:38:49.192Z"
   },
   {
    "duration": 186,
    "start_time": "2023-06-03T11:38:49.232Z"
   },
   {
    "duration": 168,
    "start_time": "2023-06-03T11:38:49.420Z"
   },
   {
    "duration": 5,
    "start_time": "2023-06-03T11:38:49.589Z"
   },
   {
    "duration": 399,
    "start_time": "2023-06-03T11:38:49.596Z"
   },
   {
    "duration": 920,
    "start_time": "2023-06-03T11:38:49.997Z"
   },
   {
    "duration": 1359,
    "start_time": "2023-06-03T11:38:50.920Z"
   },
   {
    "duration": 165,
    "start_time": "2023-06-03T11:38:52.280Z"
   },
   {
    "duration": 1200,
    "start_time": "2023-06-03T11:38:52.446Z"
   },
   {
    "duration": 1841,
    "start_time": "2023-06-03T11:38:53.648Z"
   },
   {
    "duration": 794,
    "start_time": "2023-06-03T11:38:55.491Z"
   },
   {
    "duration": 40,
    "start_time": "2023-06-03T11:38:56.287Z"
   },
   {
    "duration": 0,
    "start_time": "2023-06-03T11:38:56.329Z"
   },
   {
    "duration": 0,
    "start_time": "2023-06-03T11:38:56.331Z"
   },
   {
    "duration": 0,
    "start_time": "2023-06-03T11:38:56.332Z"
   },
   {
    "duration": 35,
    "start_time": "2023-06-03T11:39:26.441Z"
   },
   {
    "duration": 28,
    "start_time": "2023-06-03T11:39:36.058Z"
   },
   {
    "duration": 122,
    "start_time": "2023-06-03T11:40:09.418Z"
   },
   {
    "duration": 27,
    "start_time": "2023-06-03T11:40:45.906Z"
   },
   {
    "duration": 116,
    "start_time": "2023-06-03T11:41:03.210Z"
   },
   {
    "duration": 153,
    "start_time": "2023-06-03T11:41:26.213Z"
   },
   {
    "duration": 127,
    "start_time": "2023-06-03T11:42:00.411Z"
   },
   {
    "duration": 89,
    "start_time": "2023-06-03T11:42:19.828Z"
   },
   {
    "duration": 90,
    "start_time": "2023-06-03T11:43:44.724Z"
   },
   {
    "duration": 21,
    "start_time": "2023-06-03T11:43:50.313Z"
   },
   {
    "duration": 25,
    "start_time": "2023-06-03T11:43:55.493Z"
   },
   {
    "duration": 36,
    "start_time": "2023-06-03T11:44:04.464Z"
   },
   {
    "duration": 104,
    "start_time": "2023-06-03T11:44:08.015Z"
   },
   {
    "duration": 29,
    "start_time": "2023-06-03T11:48:32.233Z"
   },
   {
    "duration": 30,
    "start_time": "2023-06-03T11:48:41.744Z"
   },
   {
    "duration": 128,
    "start_time": "2023-06-03T11:48:48.416Z"
   },
   {
    "duration": 128,
    "start_time": "2023-06-03T11:48:54.177Z"
   },
   {
    "duration": 201,
    "start_time": "2023-06-03T11:48:59.805Z"
   },
   {
    "duration": 123,
    "start_time": "2023-06-03T11:50:00.273Z"
   },
   {
    "duration": 89,
    "start_time": "2023-06-03T11:50:27.376Z"
   },
   {
    "duration": 89,
    "start_time": "2023-06-03T11:50:39.310Z"
   },
   {
    "duration": 92,
    "start_time": "2023-06-03T11:50:43.501Z"
   },
   {
    "duration": 144,
    "start_time": "2023-06-03T11:51:58.373Z"
   },
   {
    "duration": 116,
    "start_time": "2023-06-03T11:56:27.160Z"
   },
   {
    "duration": 133,
    "start_time": "2023-06-03T12:02:37.746Z"
   },
   {
    "duration": 31,
    "start_time": "2023-06-03T12:03:15.970Z"
   },
   {
    "duration": 118,
    "start_time": "2023-06-03T12:03:23.551Z"
   },
   {
    "duration": 120,
    "start_time": "2023-06-03T12:03:56.127Z"
   },
   {
    "duration": 129,
    "start_time": "2023-06-03T12:10:37.997Z"
   },
   {
    "duration": 92,
    "start_time": "2023-06-03T12:11:38.641Z"
   },
   {
    "duration": 117,
    "start_time": "2023-06-03T12:11:45.761Z"
   },
   {
    "duration": 117,
    "start_time": "2023-06-03T12:11:53.720Z"
   },
   {
    "duration": 116,
    "start_time": "2023-06-03T12:12:28.644Z"
   },
   {
    "duration": 58,
    "start_time": "2023-06-03T12:13:48.473Z"
   },
   {
    "duration": 89,
    "start_time": "2023-06-03T12:14:30.934Z"
   },
   {
    "duration": 95,
    "start_time": "2023-06-03T12:15:44.429Z"
   },
   {
    "duration": 181,
    "start_time": "2023-06-03T12:16:16.918Z"
   },
   {
    "duration": 89,
    "start_time": "2023-06-03T12:16:27.404Z"
   },
   {
    "duration": 97,
    "start_time": "2023-06-03T12:18:49.905Z"
   },
   {
    "duration": 92,
    "start_time": "2023-06-03T12:18:53.723Z"
   },
   {
    "duration": 94,
    "start_time": "2023-06-03T12:18:56.538Z"
   },
   {
    "duration": 90,
    "start_time": "2023-06-03T12:19:23.772Z"
   },
   {
    "duration": 106,
    "start_time": "2023-06-03T12:19:28.473Z"
   },
   {
    "duration": 88,
    "start_time": "2023-06-03T12:19:33.423Z"
   },
   {
    "duration": 103,
    "start_time": "2023-06-03T12:26:37.152Z"
   },
   {
    "duration": 94,
    "start_time": "2023-06-03T12:26:43.413Z"
   },
   {
    "duration": 88,
    "start_time": "2023-06-03T12:26:50.328Z"
   },
   {
    "duration": 176,
    "start_time": "2023-06-03T12:44:20.944Z"
   },
   {
    "duration": 84,
    "start_time": "2023-06-03T12:45:19.415Z"
   },
   {
    "duration": 90,
    "start_time": "2023-06-03T12:45:26.956Z"
   },
   {
    "duration": 54,
    "start_time": "2023-06-03T12:46:04.631Z"
   },
   {
    "duration": 91,
    "start_time": "2023-06-03T12:46:24.016Z"
   },
   {
    "duration": 91,
    "start_time": "2023-06-03T12:46:41.931Z"
   },
   {
    "duration": 100,
    "start_time": "2023-06-03T12:46:48.040Z"
   },
   {
    "duration": 202,
    "start_time": "2023-06-03T13:08:26.944Z"
   },
   {
    "duration": 76,
    "start_time": "2023-06-03T13:09:12.109Z"
   },
   {
    "duration": 92,
    "start_time": "2023-06-03T13:09:16.000Z"
   },
   {
    "duration": 5,
    "start_time": "2023-06-03T13:09:32.230Z"
   },
   {
    "duration": 112,
    "start_time": "2023-06-03T13:09:56.490Z"
   },
   {
    "duration": 45,
    "start_time": "2023-06-03T13:10:17.762Z"
   },
   {
    "duration": 49,
    "start_time": "2023-06-03T13:10:26.522Z"
   },
   {
    "duration": 53,
    "start_time": "2023-06-03T13:10:30.789Z"
   },
   {
    "duration": 110,
    "start_time": "2023-06-03T13:10:44.771Z"
   },
   {
    "duration": 93,
    "start_time": "2023-06-03T13:12:53.358Z"
   },
   {
    "duration": 99,
    "start_time": "2023-06-03T13:13:08.741Z"
   },
   {
    "duration": 92,
    "start_time": "2023-06-03T13:13:23.101Z"
   },
   {
    "duration": 95,
    "start_time": "2023-06-03T13:13:27.562Z"
   },
   {
    "duration": 90,
    "start_time": "2023-06-03T13:13:30.396Z"
   },
   {
    "duration": 102,
    "start_time": "2023-06-03T13:13:47.048Z"
   },
   {
    "duration": 95,
    "start_time": "2023-06-03T13:14:05.810Z"
   },
   {
    "duration": 92,
    "start_time": "2023-06-03T13:14:15.939Z"
   },
   {
    "duration": 95,
    "start_time": "2023-06-03T13:14:26.411Z"
   },
   {
    "duration": 1409,
    "start_time": "2023-06-03T16:03:51.648Z"
   },
   {
    "duration": 1612,
    "start_time": "2023-06-03T16:03:53.059Z"
   },
   {
    "duration": 6,
    "start_time": "2023-06-03T16:03:54.672Z"
   },
   {
    "duration": 16,
    "start_time": "2023-06-03T16:03:54.679Z"
   },
   {
    "duration": 13,
    "start_time": "2023-06-03T16:03:54.696Z"
   },
   {
    "duration": 21,
    "start_time": "2023-06-03T16:03:54.710Z"
   },
   {
    "duration": 5,
    "start_time": "2023-06-03T16:03:54.732Z"
   },
   {
    "duration": 10,
    "start_time": "2023-06-03T16:03:54.738Z"
   },
   {
    "duration": 8,
    "start_time": "2023-06-03T16:03:54.750Z"
   },
   {
    "duration": 4,
    "start_time": "2023-06-03T16:03:54.759Z"
   },
   {
    "duration": 5,
    "start_time": "2023-06-03T16:03:54.764Z"
   },
   {
    "duration": 5,
    "start_time": "2023-06-03T16:03:54.770Z"
   },
   {
    "duration": 67,
    "start_time": "2023-06-03T16:03:54.777Z"
   },
   {
    "duration": 150,
    "start_time": "2023-06-03T16:03:54.846Z"
   },
   {
    "duration": 154,
    "start_time": "2023-06-03T16:03:54.998Z"
   },
   {
    "duration": 5,
    "start_time": "2023-06-03T16:03:55.153Z"
   },
   {
    "duration": 347,
    "start_time": "2023-06-03T16:03:55.159Z"
   },
   {
    "duration": 854,
    "start_time": "2023-06-03T16:03:55.508Z"
   },
   {
    "duration": 1117,
    "start_time": "2023-06-03T16:03:56.364Z"
   },
   {
    "duration": 144,
    "start_time": "2023-06-03T16:03:57.483Z"
   },
   {
    "duration": 1085,
    "start_time": "2023-06-03T16:03:57.630Z"
   },
   {
    "duration": 1836,
    "start_time": "2023-06-03T16:03:58.725Z"
   },
   {
    "duration": 801,
    "start_time": "2023-06-03T16:04:00.563Z"
   },
   {
    "duration": 98,
    "start_time": "2023-06-03T16:04:01.366Z"
   },
   {
    "duration": 107,
    "start_time": "2023-06-03T16:04:01.465Z"
   },
   {
    "duration": 106,
    "start_time": "2023-06-03T16:04:01.574Z"
   },
   {
    "duration": 6,
    "start_time": "2023-06-03T16:19:38.816Z"
   },
   {
    "duration": 1219,
    "start_time": "2023-06-03T16:20:15.012Z"
   },
   {
    "duration": 1065,
    "start_time": "2023-06-03T16:20:16.233Z"
   },
   {
    "duration": 6,
    "start_time": "2023-06-03T16:20:17.300Z"
   },
   {
    "duration": 18,
    "start_time": "2023-06-03T16:20:17.308Z"
   },
   {
    "duration": 18,
    "start_time": "2023-06-03T16:20:17.328Z"
   },
   {
    "duration": 11,
    "start_time": "2023-06-03T16:20:17.348Z"
   },
   {
    "duration": 4,
    "start_time": "2023-06-03T16:20:17.361Z"
   },
   {
    "duration": 8,
    "start_time": "2023-06-03T16:20:17.367Z"
   },
   {
    "duration": 9,
    "start_time": "2023-06-03T16:20:17.377Z"
   },
   {
    "duration": 4,
    "start_time": "2023-06-03T16:20:17.388Z"
   },
   {
    "duration": 39,
    "start_time": "2023-06-03T16:20:17.393Z"
   },
   {
    "duration": 7,
    "start_time": "2023-06-03T16:20:17.433Z"
   },
   {
    "duration": 41,
    "start_time": "2023-06-03T16:20:17.442Z"
   },
   {
    "duration": 153,
    "start_time": "2023-06-03T16:20:17.485Z"
   },
   {
    "duration": 142,
    "start_time": "2023-06-03T16:20:17.639Z"
   },
   {
    "duration": 4,
    "start_time": "2023-06-03T16:20:17.783Z"
   },
   {
    "duration": 359,
    "start_time": "2023-06-03T16:20:17.789Z"
   },
   {
    "duration": 822,
    "start_time": "2023-06-03T16:20:18.150Z"
   },
   {
    "duration": 1152,
    "start_time": "2023-06-03T16:20:18.974Z"
   },
   {
    "duration": 149,
    "start_time": "2023-06-03T16:20:20.128Z"
   },
   {
    "duration": 1100,
    "start_time": "2023-06-03T16:20:20.279Z"
   },
   {
    "duration": 1757,
    "start_time": "2023-06-03T16:20:21.381Z"
   },
   {
    "duration": 699,
    "start_time": "2023-06-03T16:20:23.140Z"
   },
   {
    "duration": 100,
    "start_time": "2023-06-03T16:20:23.841Z"
   },
   {
    "duration": 99,
    "start_time": "2023-06-03T16:20:23.943Z"
   },
   {
    "duration": 103,
    "start_time": "2023-06-03T16:20:24.043Z"
   },
   {
    "duration": 6,
    "start_time": "2023-06-03T16:20:24.147Z"
   },
   {
    "duration": 102,
    "start_time": "2023-06-03T16:21:07.149Z"
   },
   {
    "duration": 9,
    "start_time": "2023-06-03T16:21:21.512Z"
   },
   {
    "duration": 8,
    "start_time": "2023-06-03T16:27:36.564Z"
   },
   {
    "duration": 9,
    "start_time": "2023-06-03T16:28:18.311Z"
   },
   {
    "duration": 6,
    "start_time": "2023-06-03T16:38:17.748Z"
   },
   {
    "duration": 7,
    "start_time": "2023-06-03T16:38:39.595Z"
   },
   {
    "duration": 6,
    "start_time": "2023-06-03T16:38:45.504Z"
   },
   {
    "duration": 8,
    "start_time": "2023-06-03T16:41:42.140Z"
   },
   {
    "duration": 16,
    "start_time": "2023-06-03T16:42:57.341Z"
   },
   {
    "duration": 8,
    "start_time": "2023-06-03T16:43:05.639Z"
   },
   {
    "duration": 13,
    "start_time": "2023-06-03T16:43:27.606Z"
   },
   {
    "duration": 14,
    "start_time": "2023-06-03T16:45:29.445Z"
   },
   {
    "duration": 69,
    "start_time": "2023-06-03T16:47:40.090Z"
   },
   {
    "duration": 76,
    "start_time": "2023-06-03T16:47:51.044Z"
   },
   {
    "duration": 8,
    "start_time": "2023-06-03T16:49:20.751Z"
   },
   {
    "duration": 11,
    "start_time": "2023-06-03T16:49:32.253Z"
   },
   {
    "duration": 14,
    "start_time": "2023-06-03T16:51:10.157Z"
   },
   {
    "duration": 14,
    "start_time": "2023-06-03T16:54:49.150Z"
   },
   {
    "duration": 1197,
    "start_time": "2023-06-03T17:25:27.014Z"
   },
   {
    "duration": 9123,
    "start_time": "2023-06-03T17:25:28.213Z"
   },
   {
    "duration": 7,
    "start_time": "2023-06-03T17:25:37.338Z"
   },
   {
    "duration": 21,
    "start_time": "2023-06-03T17:25:37.346Z"
   },
   {
    "duration": 13,
    "start_time": "2023-06-03T17:25:37.369Z"
   },
   {
    "duration": 10,
    "start_time": "2023-06-03T17:25:37.383Z"
   },
   {
    "duration": 4,
    "start_time": "2023-06-03T17:25:37.394Z"
   },
   {
    "duration": 7,
    "start_time": "2023-06-03T17:25:37.400Z"
   },
   {
    "duration": 37,
    "start_time": "2023-06-03T17:25:37.408Z"
   },
   {
    "duration": 4,
    "start_time": "2023-06-03T17:25:37.446Z"
   },
   {
    "duration": 6,
    "start_time": "2023-06-03T17:25:37.452Z"
   },
   {
    "duration": 5,
    "start_time": "2023-06-03T17:25:37.459Z"
   },
   {
    "duration": 32,
    "start_time": "2023-06-03T17:25:37.466Z"
   },
   {
    "duration": 175,
    "start_time": "2023-06-03T17:25:37.500Z"
   },
   {
    "duration": 160,
    "start_time": "2023-06-03T17:25:37.676Z"
   },
   {
    "duration": 5,
    "start_time": "2023-06-03T17:25:37.838Z"
   },
   {
    "duration": 378,
    "start_time": "2023-06-03T17:25:37.845Z"
   },
   {
    "duration": 865,
    "start_time": "2023-06-03T17:25:38.225Z"
   },
   {
    "duration": 1245,
    "start_time": "2023-06-03T17:25:39.092Z"
   },
   {
    "duration": 148,
    "start_time": "2023-06-03T17:25:40.339Z"
   },
   {
    "duration": 1152,
    "start_time": "2023-06-03T17:25:40.489Z"
   },
   {
    "duration": 1949,
    "start_time": "2023-06-03T17:25:41.643Z"
   },
   {
    "duration": 838,
    "start_time": "2023-06-03T17:25:43.594Z"
   },
   {
    "duration": 93,
    "start_time": "2023-06-03T17:25:44.433Z"
   },
   {
    "duration": 109,
    "start_time": "2023-06-03T17:25:44.528Z"
   },
   {
    "duration": 98,
    "start_time": "2023-06-03T17:25:44.639Z"
   },
   {
    "duration": 13,
    "start_time": "2023-06-03T17:25:44.739Z"
   },
   {
    "duration": 94,
    "start_time": "2023-06-03T17:32:13.434Z"
   },
   {
    "duration": 255,
    "start_time": "2023-06-03T17:32:18.438Z"
   },
   {
    "duration": 109,
    "start_time": "2023-06-03T17:35:34.872Z"
   },
   {
    "duration": 15,
    "start_time": "2023-06-03T17:35:52.335Z"
   },
   {
    "duration": 18,
    "start_time": "2023-06-03T17:36:04.559Z"
   },
   {
    "duration": 9,
    "start_time": "2023-06-03T17:36:41.864Z"
   },
   {
    "duration": 293,
    "start_time": "2023-06-03T17:36:49.063Z"
   },
   {
    "duration": 362,
    "start_time": "2023-06-03T17:37:03.509Z"
   },
   {
    "duration": 123,
    "start_time": "2023-06-03T17:37:19.175Z"
   },
   {
    "duration": 408,
    "start_time": "2023-06-03T17:37:26.639Z"
   },
   {
    "duration": 149,
    "start_time": "2023-06-03T17:38:53.024Z"
   },
   {
    "duration": 347,
    "start_time": "2023-06-03T17:39:00.292Z"
   },
   {
    "duration": 96,
    "start_time": "2023-06-03T17:39:06.199Z"
   },
   {
    "duration": 750,
    "start_time": "2023-06-03T17:40:18.898Z"
   },
   {
    "duration": 833,
    "start_time": "2023-06-03T17:42:02.742Z"
   },
   {
    "duration": 722,
    "start_time": "2023-06-03T17:42:11.840Z"
   },
   {
    "duration": 758,
    "start_time": "2023-06-03T17:42:46.039Z"
   },
   {
    "duration": 842,
    "start_time": "2023-06-03T17:42:55.752Z"
   },
   {
    "duration": 345,
    "start_time": "2023-06-03T17:43:23.000Z"
   },
   {
    "duration": 347,
    "start_time": "2023-06-03T17:43:27.106Z"
   },
   {
    "duration": 323,
    "start_time": "2023-06-03T17:43:31.878Z"
   },
   {
    "duration": 47,
    "start_time": "2023-06-04T18:10:03.095Z"
   },
   {
    "duration": 1327,
    "start_time": "2023-06-04T18:10:09.410Z"
   },
   {
    "duration": 1249,
    "start_time": "2023-06-04T18:10:10.740Z"
   },
   {
    "duration": 7,
    "start_time": "2023-06-04T18:10:11.991Z"
   },
   {
    "duration": 14,
    "start_time": "2023-06-04T18:10:12.000Z"
   },
   {
    "duration": 15,
    "start_time": "2023-06-04T18:10:12.015Z"
   },
   {
    "duration": 12,
    "start_time": "2023-06-04T18:10:12.052Z"
   },
   {
    "duration": 11,
    "start_time": "2023-06-04T18:10:12.065Z"
   },
   {
    "duration": 17,
    "start_time": "2023-06-04T18:10:12.077Z"
   },
   {
    "duration": 16,
    "start_time": "2023-06-04T18:10:12.095Z"
   },
   {
    "duration": 6,
    "start_time": "2023-06-04T18:10:12.114Z"
   },
   {
    "duration": 20,
    "start_time": "2023-06-04T18:10:12.122Z"
   },
   {
    "duration": 22,
    "start_time": "2023-06-04T18:10:12.144Z"
   },
   {
    "duration": 48,
    "start_time": "2023-06-04T18:10:12.167Z"
   },
   {
    "duration": 157,
    "start_time": "2023-06-04T18:10:12.216Z"
   },
   {
    "duration": 190,
    "start_time": "2023-06-04T18:10:12.375Z"
   },
   {
    "duration": 5,
    "start_time": "2023-06-04T18:10:12.567Z"
   },
   {
    "duration": 407,
    "start_time": "2023-06-04T18:10:12.574Z"
   },
   {
    "duration": 919,
    "start_time": "2023-06-04T18:10:12.983Z"
   },
   {
    "duration": 1302,
    "start_time": "2023-06-04T18:10:13.904Z"
   },
   {
    "duration": 170,
    "start_time": "2023-06-04T18:10:15.208Z"
   },
   {
    "duration": 1225,
    "start_time": "2023-06-04T18:10:15.380Z"
   },
   {
    "duration": 308,
    "start_time": "2023-06-04T18:10:16.607Z"
   },
   {
    "duration": 1985,
    "start_time": "2023-06-04T18:10:16.917Z"
   },
   {
    "duration": 859,
    "start_time": "2023-06-04T18:10:18.903Z"
   },
   {
    "duration": 325,
    "start_time": "2023-06-04T18:10:19.764Z"
   },
   {
    "duration": 110,
    "start_time": "2023-06-04T18:10:20.090Z"
   },
   {
    "duration": 104,
    "start_time": "2023-06-04T18:10:20.202Z"
   },
   {
    "duration": 114,
    "start_time": "2023-06-04T18:10:20.310Z"
   },
   {
    "duration": 28,
    "start_time": "2023-06-04T18:10:20.425Z"
   },
   {
    "duration": 459,
    "start_time": "2023-06-04T18:11:02.173Z"
   },
   {
    "duration": 324,
    "start_time": "2023-06-04T18:11:41.939Z"
   },
   {
    "duration": 314,
    "start_time": "2023-06-04T18:11:50.466Z"
   },
   {
    "duration": 355,
    "start_time": "2023-06-04T18:34:14.085Z"
   },
   {
    "duration": 188,
    "start_time": "2023-06-04T18:35:44.251Z"
   },
   {
    "duration": 202,
    "start_time": "2023-06-04T18:38:02.510Z"
   },
   {
    "duration": 281,
    "start_time": "2023-06-04T18:39:43.418Z"
   },
   {
    "duration": 292,
    "start_time": "2023-06-04T18:44:44.403Z"
   },
   {
    "duration": 133,
    "start_time": "2023-06-04T18:45:00.141Z"
   },
   {
    "duration": 124,
    "start_time": "2023-06-04T18:47:29.164Z"
   },
   {
    "duration": 121,
    "start_time": "2023-06-04T18:47:44.412Z"
   },
   {
    "duration": 1629,
    "start_time": "2023-06-04T18:47:58.837Z"
   },
   {
    "duration": 107,
    "start_time": "2023-06-04T18:52:14.192Z"
   },
   {
    "duration": 1668,
    "start_time": "2023-06-04T18:52:21.071Z"
   },
   {
    "duration": 1737,
    "start_time": "2023-06-04T18:52:58.642Z"
   },
   {
    "duration": 1565,
    "start_time": "2023-06-04T18:54:06.433Z"
   },
   {
    "duration": 1977,
    "start_time": "2023-06-04T18:54:32.223Z"
   },
   {
    "duration": 2262,
    "start_time": "2023-06-04T19:04:23.677Z"
   },
   {
    "duration": 2208,
    "start_time": "2023-06-04T19:09:53.699Z"
   },
   {
    "duration": 100,
    "start_time": "2023-06-04T19:11:17.011Z"
   },
   {
    "duration": 2086,
    "start_time": "2023-06-04T19:11:24.216Z"
   },
   {
    "duration": 2140,
    "start_time": "2023-06-04T19:12:50.547Z"
   },
   {
    "duration": 2100,
    "start_time": "2023-06-04T19:13:11.565Z"
   },
   {
    "duration": 2206,
    "start_time": "2023-06-04T19:13:26.712Z"
   },
   {
    "duration": 2067,
    "start_time": "2023-06-04T19:13:56.717Z"
   },
   {
    "duration": 5089,
    "start_time": "2023-06-04T19:15:32.085Z"
   },
   {
    "duration": 4788,
    "start_time": "2023-06-04T19:16:11.045Z"
   },
   {
    "duration": 68,
    "start_time": "2023-06-05T18:25:51.258Z"
   },
   {
    "duration": 1655,
    "start_time": "2023-06-05T18:25:57.355Z"
   },
   {
    "duration": 1279,
    "start_time": "2023-06-05T18:25:59.012Z"
   },
   {
    "duration": 7,
    "start_time": "2023-06-05T18:26:00.292Z"
   },
   {
    "duration": 54,
    "start_time": "2023-06-05T18:26:00.301Z"
   },
   {
    "duration": 25,
    "start_time": "2023-06-05T18:26:00.357Z"
   },
   {
    "duration": 13,
    "start_time": "2023-06-05T18:26:00.384Z"
   },
   {
    "duration": 18,
    "start_time": "2023-06-05T18:26:00.399Z"
   },
   {
    "duration": 19,
    "start_time": "2023-06-05T18:26:00.419Z"
   },
   {
    "duration": 26,
    "start_time": "2023-06-05T18:26:00.440Z"
   },
   {
    "duration": 22,
    "start_time": "2023-06-05T18:26:00.470Z"
   },
   {
    "duration": 35,
    "start_time": "2023-06-05T18:26:00.494Z"
   },
   {
    "duration": 73,
    "start_time": "2023-06-05T18:26:00.531Z"
   },
   {
    "duration": 94,
    "start_time": "2023-06-05T18:26:00.606Z"
   },
   {
    "duration": 210,
    "start_time": "2023-06-05T18:26:00.702Z"
   },
   {
    "duration": 216,
    "start_time": "2023-06-05T18:26:00.914Z"
   },
   {
    "duration": 6,
    "start_time": "2023-06-05T18:26:01.132Z"
   },
   {
    "duration": 487,
    "start_time": "2023-06-05T18:26:01.141Z"
   },
   {
    "duration": 1026,
    "start_time": "2023-06-05T18:26:01.630Z"
   },
   {
    "duration": 1320,
    "start_time": "2023-06-05T18:26:02.658Z"
   },
   {
    "duration": 0,
    "start_time": "2023-06-05T18:28:57.896Z"
   },
   {
    "duration": 508,
    "start_time": "2023-06-05T18:29:25.286Z"
   },
   {
    "duration": 12,
    "start_time": "2023-06-05T18:29:41.963Z"
   },
   {
    "duration": 170,
    "start_time": "2023-06-05T18:29:45.224Z"
   },
   {
    "duration": 809,
    "start_time": "2023-06-05T18:30:01.242Z"
   },
   {
    "duration": 200,
    "start_time": "2023-06-05T18:31:51.543Z"
   },
   {
    "duration": 185,
    "start_time": "2023-06-05T18:33:04.872Z"
   },
   {
    "duration": 39,
    "start_time": "2023-06-05T18:35:28.094Z"
   },
   {
    "duration": 186,
    "start_time": "2023-06-05T18:35:39.189Z"
   },
   {
    "duration": 222,
    "start_time": "2023-06-05T18:36:22.541Z"
   },
   {
    "duration": 237,
    "start_time": "2023-06-05T18:37:36.468Z"
   },
   {
    "duration": 318,
    "start_time": "2023-06-05T18:38:21.092Z"
   },
   {
    "duration": 228,
    "start_time": "2023-06-05T18:39:03.374Z"
   },
   {
    "duration": 241,
    "start_time": "2023-06-05T18:39:25.841Z"
   },
   {
    "duration": 242,
    "start_time": "2023-06-05T18:39:30.593Z"
   },
   {
    "duration": 373,
    "start_time": "2023-06-05T18:40:27.500Z"
   },
   {
    "duration": 337,
    "start_time": "2023-06-05T18:41:20.091Z"
   },
   {
    "duration": 314,
    "start_time": "2023-06-05T18:41:37.742Z"
   },
   {
    "duration": 198,
    "start_time": "2023-06-05T18:44:35.325Z"
   },
   {
    "duration": 199,
    "start_time": "2023-06-05T18:44:44.101Z"
   },
   {
    "duration": 304,
    "start_time": "2023-06-05T18:44:49.853Z"
   },
   {
    "duration": 1379,
    "start_time": "2023-06-05T18:50:28.785Z"
   },
   {
    "duration": 7824,
    "start_time": "2023-06-05T18:50:30.167Z"
   },
   {
    "duration": 6,
    "start_time": "2023-06-05T18:50:37.993Z"
   },
   {
    "duration": 40,
    "start_time": "2023-06-05T18:50:38.002Z"
   },
   {
    "duration": 48,
    "start_time": "2023-06-05T18:50:38.044Z"
   },
   {
    "duration": 131,
    "start_time": "2023-06-05T18:50:38.095Z"
   },
   {
    "duration": 7,
    "start_time": "2023-06-05T18:50:38.227Z"
   },
   {
    "duration": 14,
    "start_time": "2023-06-05T18:50:38.235Z"
   },
   {
    "duration": 30,
    "start_time": "2023-06-05T18:50:38.251Z"
   },
   {
    "duration": 5,
    "start_time": "2023-06-05T18:50:38.284Z"
   },
   {
    "duration": 6,
    "start_time": "2023-06-05T18:50:38.291Z"
   },
   {
    "duration": 7,
    "start_time": "2023-06-05T18:50:38.298Z"
   },
   {
    "duration": 42,
    "start_time": "2023-06-05T18:50:38.307Z"
   },
   {
    "duration": 197,
    "start_time": "2023-06-05T18:50:38.351Z"
   },
   {
    "duration": 167,
    "start_time": "2023-06-05T18:50:38.550Z"
   },
   {
    "duration": 7,
    "start_time": "2023-06-05T18:50:38.719Z"
   },
   {
    "duration": 281,
    "start_time": "2023-06-05T18:50:38.727Z"
   },
   {
    "duration": 303,
    "start_time": "2023-06-05T18:50:39.011Z"
   },
   {
    "duration": 314,
    "start_time": "2023-06-05T18:50:39.316Z"
   },
   {
    "duration": 1065,
    "start_time": "2023-06-05T18:50:39.631Z"
   },
   {
    "duration": 846,
    "start_time": "2023-06-05T18:50:40.699Z"
   },
   {
    "duration": 163,
    "start_time": "2023-06-05T18:50:41.546Z"
   },
   {
    "duration": 1245,
    "start_time": "2023-06-05T18:50:41.711Z"
   },
   {
    "duration": 4936,
    "start_time": "2023-06-05T18:50:42.958Z"
   },
   {
    "duration": 316,
    "start_time": "2023-06-05T18:50:47.896Z"
   },
   {
    "duration": 2706,
    "start_time": "2023-06-05T18:50:48.214Z"
   },
   {
    "duration": 0,
    "start_time": "2023-06-05T18:50:50.922Z"
   },
   {
    "duration": 0,
    "start_time": "2023-06-05T18:50:50.923Z"
   },
   {
    "duration": 0,
    "start_time": "2023-06-05T18:50:50.925Z"
   },
   {
    "duration": 0,
    "start_time": "2023-06-05T18:50:50.926Z"
   },
   {
    "duration": 0,
    "start_time": "2023-06-05T18:50:50.927Z"
   },
   {
    "duration": 0,
    "start_time": "2023-06-05T18:50:50.929Z"
   },
   {
    "duration": 0,
    "start_time": "2023-06-05T18:50:50.930Z"
   },
   {
    "duration": 89,
    "start_time": "2023-06-05T18:52:30.981Z"
   },
   {
    "duration": 1273,
    "start_time": "2023-06-05T18:55:09.239Z"
   },
   {
    "duration": 955,
    "start_time": "2023-06-05T18:55:10.514Z"
   },
   {
    "duration": 8,
    "start_time": "2023-06-05T18:55:11.471Z"
   },
   {
    "duration": 22,
    "start_time": "2023-06-05T18:55:11.481Z"
   },
   {
    "duration": 19,
    "start_time": "2023-06-05T18:55:11.506Z"
   },
   {
    "duration": 45,
    "start_time": "2023-06-05T18:55:11.527Z"
   },
   {
    "duration": 6,
    "start_time": "2023-06-05T18:55:11.574Z"
   },
   {
    "duration": 17,
    "start_time": "2023-06-05T18:55:11.582Z"
   },
   {
    "duration": 10,
    "start_time": "2023-06-05T18:55:11.601Z"
   },
   {
    "duration": 16,
    "start_time": "2023-06-05T18:55:11.613Z"
   },
   {
    "duration": 30,
    "start_time": "2023-06-05T18:55:11.631Z"
   },
   {
    "duration": 7,
    "start_time": "2023-06-05T18:55:11.663Z"
   },
   {
    "duration": 37,
    "start_time": "2023-06-05T18:55:11.671Z"
   },
   {
    "duration": 191,
    "start_time": "2023-06-05T18:55:11.711Z"
   },
   {
    "duration": 166,
    "start_time": "2023-06-05T18:55:11.904Z"
   },
   {
    "duration": 6,
    "start_time": "2023-06-05T18:55:12.071Z"
   },
   {
    "duration": 242,
    "start_time": "2023-06-05T18:55:12.079Z"
   },
   {
    "duration": 239,
    "start_time": "2023-06-05T18:55:12.323Z"
   },
   {
    "duration": 316,
    "start_time": "2023-06-05T18:55:12.564Z"
   },
   {
    "duration": 1054,
    "start_time": "2023-06-05T18:55:12.882Z"
   },
   {
    "duration": 810,
    "start_time": "2023-06-05T18:55:13.938Z"
   },
   {
    "duration": 165,
    "start_time": "2023-06-05T18:55:14.750Z"
   },
   {
    "duration": 1273,
    "start_time": "2023-06-05T18:55:14.916Z"
   },
   {
    "duration": 5008,
    "start_time": "2023-06-05T18:55:16.191Z"
   },
   {
    "duration": 309,
    "start_time": "2023-06-05T18:55:21.202Z"
   },
   {
    "duration": 2399,
    "start_time": "2023-06-05T18:55:21.513Z"
   },
   {
    "duration": 0,
    "start_time": "2023-06-05T18:55:23.914Z"
   },
   {
    "duration": 0,
    "start_time": "2023-06-05T18:55:23.916Z"
   },
   {
    "duration": 0,
    "start_time": "2023-06-05T18:55:23.917Z"
   },
   {
    "duration": 0,
    "start_time": "2023-06-05T18:55:23.919Z"
   },
   {
    "duration": 0,
    "start_time": "2023-06-05T18:55:23.920Z"
   },
   {
    "duration": 0,
    "start_time": "2023-06-05T18:55:23.922Z"
   },
   {
    "duration": 0,
    "start_time": "2023-06-05T18:55:23.923Z"
   },
   {
    "duration": 74,
    "start_time": "2023-06-05T19:05:53.026Z"
   },
   {
    "duration": 5329,
    "start_time": "2023-06-05T19:14:37.077Z"
   },
   {
    "duration": 5104,
    "start_time": "2023-06-05T19:19:22.388Z"
   },
   {
    "duration": 3659,
    "start_time": "2023-06-05T19:19:48.865Z"
   },
   {
    "duration": 4766,
    "start_time": "2023-06-05T19:20:04.496Z"
   },
   {
    "duration": 5305,
    "start_time": "2023-06-05T19:20:14.860Z"
   },
   {
    "duration": 5445,
    "start_time": "2023-06-05T19:20:24.288Z"
   },
   {
    "duration": 5096,
    "start_time": "2023-06-05T19:22:38.422Z"
   },
   {
    "duration": 291,
    "start_time": "2023-06-05T19:23:55.289Z"
   },
   {
    "duration": 1618,
    "start_time": "2023-06-05T19:25:05.099Z"
   },
   {
    "duration": 1347,
    "start_time": "2023-06-05T19:26:00.509Z"
   },
   {
    "duration": 1243,
    "start_time": "2023-06-05T19:26:33.620Z"
   },
   {
    "duration": 1221,
    "start_time": "2023-06-05T19:26:57.288Z"
   },
   {
    "duration": 1364,
    "start_time": "2023-06-05T19:27:13.392Z"
   },
   {
    "duration": 1480,
    "start_time": "2023-06-05T19:31:31.259Z"
   },
   {
    "duration": 1539,
    "start_time": "2023-06-05T19:33:36.779Z"
   },
   {
    "duration": 1402,
    "start_time": "2023-06-05T19:33:53.180Z"
   },
   {
    "duration": 75,
    "start_time": "2023-06-05T19:34:10.690Z"
   },
   {
    "duration": 1509,
    "start_time": "2023-06-05T19:34:14.250Z"
   },
   {
    "duration": 1441,
    "start_time": "2023-06-05T19:35:03.057Z"
   },
   {
    "duration": 1364,
    "start_time": "2023-06-05T19:35:47.696Z"
   },
   {
    "duration": 1496,
    "start_time": "2023-06-05T19:37:18.408Z"
   },
   {
    "duration": 159,
    "start_time": "2023-06-05T19:37:26.888Z"
   },
   {
    "duration": 1416,
    "start_time": "2023-06-05T19:37:32.814Z"
   },
   {
    "duration": 1369,
    "start_time": "2023-06-05T19:38:16.687Z"
   },
   {
    "duration": 1444,
    "start_time": "2023-06-05T19:38:28.887Z"
   },
   {
    "duration": 1328,
    "start_time": "2023-06-05T19:40:17.037Z"
   },
   {
    "duration": 923,
    "start_time": "2023-06-05T19:40:18.367Z"
   },
   {
    "duration": 7,
    "start_time": "2023-06-05T19:40:19.292Z"
   },
   {
    "duration": 15,
    "start_time": "2023-06-05T19:40:19.301Z"
   },
   {
    "duration": 44,
    "start_time": "2023-06-05T19:40:19.318Z"
   },
   {
    "duration": 13,
    "start_time": "2023-06-05T19:40:19.364Z"
   },
   {
    "duration": 5,
    "start_time": "2023-06-05T19:40:19.379Z"
   },
   {
    "duration": 14,
    "start_time": "2023-06-05T19:40:19.385Z"
   },
   {
    "duration": 25,
    "start_time": "2023-06-05T19:40:19.400Z"
   },
   {
    "duration": 7,
    "start_time": "2023-06-05T19:40:19.427Z"
   },
   {
    "duration": 25,
    "start_time": "2023-06-05T19:40:19.435Z"
   },
   {
    "duration": 8,
    "start_time": "2023-06-05T19:40:19.462Z"
   },
   {
    "duration": 42,
    "start_time": "2023-06-05T19:40:19.471Z"
   },
   {
    "duration": 183,
    "start_time": "2023-06-05T19:40:19.515Z"
   },
   {
    "duration": 173,
    "start_time": "2023-06-05T19:40:19.700Z"
   },
   {
    "duration": 6,
    "start_time": "2023-06-05T19:40:19.875Z"
   },
   {
    "duration": 238,
    "start_time": "2023-06-05T19:40:19.883Z"
   },
   {
    "duration": 224,
    "start_time": "2023-06-05T19:40:20.122Z"
   },
   {
    "duration": 308,
    "start_time": "2023-06-05T19:40:20.348Z"
   },
   {
    "duration": 1034,
    "start_time": "2023-06-05T19:40:20.658Z"
   },
   {
    "duration": 783,
    "start_time": "2023-06-05T19:40:21.695Z"
   },
   {
    "duration": 164,
    "start_time": "2023-06-05T19:40:22.480Z"
   },
   {
    "duration": 1352,
    "start_time": "2023-06-05T19:40:22.645Z"
   },
   {
    "duration": 1512,
    "start_time": "2023-06-05T19:40:23.998Z"
   },
   {
    "duration": 793,
    "start_time": "2023-06-05T19:40:25.512Z"
   },
   {
    "duration": 344,
    "start_time": "2023-06-05T19:40:26.308Z"
   },
   {
    "duration": 102,
    "start_time": "2023-06-05T19:40:26.654Z"
   },
   {
    "duration": 128,
    "start_time": "2023-06-05T19:40:26.759Z"
   },
   {
    "duration": 0,
    "start_time": "2023-06-05T19:40:26.889Z"
   },
   {
    "duration": 0,
    "start_time": "2023-06-05T19:40:26.890Z"
   },
   {
    "duration": 1092,
    "start_time": "2023-06-05T19:42:36.325Z"
   },
   {
    "duration": 1049,
    "start_time": "2023-06-05T19:42:58.740Z"
   },
   {
    "duration": 1068,
    "start_time": "2023-06-05T19:46:26.034Z"
   },
   {
    "duration": 1005,
    "start_time": "2023-06-05T19:59:23.282Z"
   },
   {
    "duration": 1286,
    "start_time": "2023-06-05T19:59:47.412Z"
   },
   {
    "duration": 348,
    "start_time": "2023-06-05T20:06:57.712Z"
   },
   {
    "duration": 32,
    "start_time": "2023-06-05T20:12:06.423Z"
   },
   {
    "duration": 374,
    "start_time": "2023-06-05T20:12:12.925Z"
   },
   {
    "duration": 116,
    "start_time": "2023-06-05T20:12:15.783Z"
   },
   {
    "duration": 97,
    "start_time": "2023-06-05T20:12:18.580Z"
   },
   {
    "duration": 1265,
    "start_time": "2023-06-05T20:12:30.983Z"
   },
   {
    "duration": 901,
    "start_time": "2023-06-05T20:12:32.251Z"
   },
   {
    "duration": 7,
    "start_time": "2023-06-05T20:12:33.153Z"
   },
   {
    "duration": 15,
    "start_time": "2023-06-05T20:12:33.162Z"
   },
   {
    "duration": 16,
    "start_time": "2023-06-05T20:12:33.179Z"
   },
   {
    "duration": 17,
    "start_time": "2023-06-05T20:12:33.197Z"
   },
   {
    "duration": 6,
    "start_time": "2023-06-05T20:12:33.217Z"
   },
   {
    "duration": 14,
    "start_time": "2023-06-05T20:12:33.258Z"
   },
   {
    "duration": 10,
    "start_time": "2023-06-05T20:12:33.274Z"
   },
   {
    "duration": 5,
    "start_time": "2023-06-05T20:12:33.287Z"
   },
   {
    "duration": 6,
    "start_time": "2023-06-05T20:12:33.294Z"
   },
   {
    "duration": 9,
    "start_time": "2023-06-05T20:12:33.301Z"
   },
   {
    "duration": 82,
    "start_time": "2023-06-05T20:12:33.311Z"
   },
   {
    "duration": 170,
    "start_time": "2023-06-05T20:12:33.394Z"
   },
   {
    "duration": 155,
    "start_time": "2023-06-05T20:12:33.565Z"
   },
   {
    "duration": 5,
    "start_time": "2023-06-05T20:12:33.722Z"
   },
   {
    "duration": 213,
    "start_time": "2023-06-05T20:12:33.729Z"
   },
   {
    "duration": 226,
    "start_time": "2023-06-05T20:12:33.944Z"
   },
   {
    "duration": 296,
    "start_time": "2023-06-05T20:12:34.172Z"
   },
   {
    "duration": 1048,
    "start_time": "2023-06-05T20:12:34.470Z"
   },
   {
    "duration": 778,
    "start_time": "2023-06-05T20:12:35.520Z"
   },
   {
    "duration": 171,
    "start_time": "2023-06-05T20:12:36.300Z"
   },
   {
    "duration": 1305,
    "start_time": "2023-06-05T20:12:36.473Z"
   },
   {
    "duration": 1138,
    "start_time": "2023-06-05T20:12:37.779Z"
   },
   {
    "duration": 817,
    "start_time": "2023-06-05T20:12:38.920Z"
   },
   {
    "duration": 337,
    "start_time": "2023-06-05T20:12:39.739Z"
   },
   {
    "duration": 380,
    "start_time": "2023-06-05T20:12:40.078Z"
   },
   {
    "duration": 112,
    "start_time": "2023-06-05T20:12:40.462Z"
   },
   {
    "duration": 109,
    "start_time": "2023-06-05T20:12:40.576Z"
   },
   {
    "duration": 126,
    "start_time": "2023-06-05T20:12:40.687Z"
   },
   {
    "duration": 19,
    "start_time": "2023-06-05T20:12:40.816Z"
   },
   {
    "duration": 171,
    "start_time": "2023-06-05T20:35:51.240Z"
   },
   {
    "duration": 1188,
    "start_time": "2023-06-05T21:08:35.375Z"
   },
   {
    "duration": 1154,
    "start_time": "2023-06-05T21:08:36.565Z"
   },
   {
    "duration": 5,
    "start_time": "2023-06-05T21:08:37.721Z"
   },
   {
    "duration": 17,
    "start_time": "2023-06-05T21:08:37.728Z"
   },
   {
    "duration": 15,
    "start_time": "2023-06-05T21:08:37.746Z"
   },
   {
    "duration": 11,
    "start_time": "2023-06-05T21:08:37.762Z"
   },
   {
    "duration": 5,
    "start_time": "2023-06-05T21:08:37.774Z"
   },
   {
    "duration": 9,
    "start_time": "2023-06-05T21:08:37.780Z"
   },
   {
    "duration": 9,
    "start_time": "2023-06-05T21:08:37.790Z"
   },
   {
    "duration": 16,
    "start_time": "2023-06-05T21:08:37.801Z"
   },
   {
    "duration": 7,
    "start_time": "2023-06-05T21:08:37.819Z"
   },
   {
    "duration": 31,
    "start_time": "2023-06-05T21:08:37.828Z"
   },
   {
    "duration": 35,
    "start_time": "2023-06-05T21:08:37.860Z"
   },
   {
    "duration": 170,
    "start_time": "2023-06-05T21:08:37.897Z"
   },
   {
    "duration": 159,
    "start_time": "2023-06-05T21:08:38.069Z"
   },
   {
    "duration": 5,
    "start_time": "2023-06-05T21:08:38.230Z"
   },
   {
    "duration": 241,
    "start_time": "2023-06-05T21:08:38.237Z"
   },
   {
    "duration": 213,
    "start_time": "2023-06-05T21:08:38.480Z"
   },
   {
    "duration": 349,
    "start_time": "2023-06-05T21:08:38.695Z"
   },
   {
    "duration": 1001,
    "start_time": "2023-06-05T21:08:39.047Z"
   },
   {
    "duration": 747,
    "start_time": "2023-06-05T21:08:40.050Z"
   },
   {
    "duration": 168,
    "start_time": "2023-06-05T21:08:40.798Z"
   },
   {
    "duration": 1224,
    "start_time": "2023-06-05T21:08:40.968Z"
   },
   {
    "duration": 1005,
    "start_time": "2023-06-05T21:08:42.194Z"
   },
   {
    "duration": 792,
    "start_time": "2023-06-05T21:08:43.201Z"
   },
   {
    "duration": 295,
    "start_time": "2023-06-05T21:08:43.995Z"
   },
   {
    "duration": 367,
    "start_time": "2023-06-05T21:08:44.292Z"
   },
   {
    "duration": 104,
    "start_time": "2023-06-05T21:08:44.662Z"
   },
   {
    "duration": 99,
    "start_time": "2023-06-05T21:08:44.768Z"
   },
   {
    "duration": 101,
    "start_time": "2023-06-05T21:08:44.868Z"
   },
   {
    "duration": 14,
    "start_time": "2023-06-05T21:08:44.970Z"
   }
  ],
  "kernelspec": {
   "display_name": "Python 3 (ipykernel)",
   "language": "python",
   "name": "python3"
  },
  "language_info": {
   "codemirror_mode": {
    "name": "ipython",
    "version": 3
   },
   "file_extension": ".py",
   "mimetype": "text/x-python",
   "name": "python",
   "nbconvert_exporter": "python",
   "pygments_lexer": "ipython3",
   "version": "3.9.13"
  },
  "toc": {
   "base_numbering": 1,
   "nav_menu": {},
   "number_sections": true,
   "sideBar": true,
   "skip_h1_title": true,
   "title_cell": "Table of Contents",
   "title_sidebar": "Contents",
   "toc_cell": false,
   "toc_position": {
    "height": "571.667px",
    "left": "608px",
    "top": "110.547px",
    "width": "295px"
   },
   "toc_section_display": true,
   "toc_window_display": true
  }
 },
 "nbformat": 4,
 "nbformat_minor": 2
}
