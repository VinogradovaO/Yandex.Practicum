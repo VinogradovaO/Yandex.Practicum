{
 "cells": [
  {
   "cell_type": "markdown",
   "metadata": {},
   "source": [
    "**ПРОЕКТ ПО ТЕМЕ: ПРИНЯТИЕ РЕШЕНИЙ В БИЗНЕСЕ**"
   ]
  },
  {
   "cell_type": "markdown",
   "metadata": {},
   "source": [
    "**Описание проекта:** Мы работаем в крупном интернет-магазине. Вместе с отделом маркетинга мы подготовили список гипотез для увеличения выручки.\n",
    "\n",
    "\n",
    "**Задача проекта:** Необходимо приоритизировать гипотезы, запустить A/B-тест и проанализировать результаты. \n",
    "\n",
    "\n",
    "**Описание исходных данных:**\n",
    "\n",
    "Проект будет состоять из двух частей:\n",
    " 1. В первой части будет представлен файл с гипотезами, который включает в себя:\n",
    "* `Hypothesis` — краткое описание гипотезы;\n",
    "* `Reach` — охват пользователей по 10-балльной шкале;\n",
    "* `Impact` — влияние на пользователей по 10-балльной шкале;\n",
    "* `Confidence` — уверенность в гипотезе по 10-балльной шкале;\n",
    "* `Efforts` — затраты ресурсов на проверку гипотезы по 10-балльной шкале. Чем больше значение Efforts, тем дороже проверка гипотезы.\n",
    "\n",
    "2. Во второй части представлены два файла:\n",
    "\n",
    "   2.1 **Orders**-данные о заказах\n",
    "   * `transactionId` — идентификатор заказа;\n",
    "   * `visitorId` — идентификатор пользователя, совершившего заказ;\n",
    "   * `date` — дата, когда был совершён заказ;\n",
    "   * `revenue` — выручка заказа;\n",
    "   * `group` — группа A/B-теста, в которую попал заказ.\n",
    "   2.2 **Visitors**-данные о пользователях\n",
    "   * `date` — дата;\n",
    "   * `group` — группа A/B-теста;\n",
    "   * `visitors` — количество пользователей в указанную дату в указанной группе A/B-теста\n",
    "    \n",
    "**План исследования:**\n",
    "Исследование будет состоять из двух частей:\n",
    "1. В первой части мы получим данные о гипотезах и приоритизируем их\n",
    "2. Во второй части:\n",
    "   * Получим данные, обработаем и изучим их;\n",
    "   * Запустим A/B тест\n",
    "   * Проанализируем результаты"
   ]
  },
  {
   "cell_type": "markdown",
   "metadata": {},
   "source": [
    "## Первая часть. Приортизиция гипотез"
   ]
  },
  {
   "cell_type": "markdown",
   "metadata": {},
   "source": [
    "### Гипотезы"
   ]
  },
  {
   "cell_type": "code",
   "execution_count": 1,
   "metadata": {},
   "outputs": [],
   "source": [
    "import pandas as pd \n",
    "import datetime as dt\n",
    "import numpy as np\n",
    "import matplotlib.pyplot as plt\n",
    "from pandas.plotting import register_matplotlib_converters\n",
    "import warnings\n",
    "import scipy.stats as stats\n",
    "#Импортируем библиотеки"
   ]
  },
  {
   "cell_type": "code",
   "execution_count": 2,
   "metadata": {},
   "outputs": [
    {
     "data": {
      "text/html": [
       "<div>\n",
       "<style scoped>\n",
       "    .dataframe tbody tr th:only-of-type {\n",
       "        vertical-align: middle;\n",
       "    }\n",
       "\n",
       "    .dataframe tbody tr th {\n",
       "        vertical-align: top;\n",
       "    }\n",
       "\n",
       "    .dataframe thead th {\n",
       "        text-align: right;\n",
       "    }\n",
       "</style>\n",
       "<table border=\"1\" class=\"dataframe\">\n",
       "  <thead>\n",
       "    <tr style=\"text-align: right;\">\n",
       "      <th></th>\n",
       "      <th>hypothesis</th>\n",
       "      <th>reach</th>\n",
       "      <th>impact</th>\n",
       "      <th>confidence</th>\n",
       "      <th>efforts</th>\n",
       "    </tr>\n",
       "  </thead>\n",
       "  <tbody>\n",
       "    <tr>\n",
       "      <th>1</th>\n",
       "      <td>Добавить два новых канала привлечения трафика, что позволит привлекать на 30% больше пользователей</td>\n",
       "      <td>3</td>\n",
       "      <td>10</td>\n",
       "      <td>8</td>\n",
       "      <td>6</td>\n",
       "    </tr>\n",
       "    <tr>\n",
       "      <th>2</th>\n",
       "      <td>Запустить собственную службу доставки, что сократит срок доставки заказов</td>\n",
       "      <td>2</td>\n",
       "      <td>5</td>\n",
       "      <td>4</td>\n",
       "      <td>10</td>\n",
       "    </tr>\n",
       "    <tr>\n",
       "      <th>3</th>\n",
       "      <td>Добавить блоки рекомендаций товаров на сайт интернет магазина, чтобы повысить конверсию и средний чек заказа</td>\n",
       "      <td>8</td>\n",
       "      <td>3</td>\n",
       "      <td>7</td>\n",
       "      <td>3</td>\n",
       "    </tr>\n",
       "    <tr>\n",
       "      <th>4</th>\n",
       "      <td>Изменить структура категорий, что увеличит конверсию, т.к. пользователи быстрее найдут нужный товар</td>\n",
       "      <td>8</td>\n",
       "      <td>3</td>\n",
       "      <td>3</td>\n",
       "      <td>8</td>\n",
       "    </tr>\n",
       "    <tr>\n",
       "      <th>5</th>\n",
       "      <td>Изменить цвет фона главной страницы, чтобы увеличить вовлеченность пользователей</td>\n",
       "      <td>3</td>\n",
       "      <td>1</td>\n",
       "      <td>1</td>\n",
       "      <td>1</td>\n",
       "    </tr>\n",
       "    <tr>\n",
       "      <th>6</th>\n",
       "      <td>Добавить страницу отзывов клиентов о магазине, что позволит увеличить количество заказов</td>\n",
       "      <td>3</td>\n",
       "      <td>2</td>\n",
       "      <td>2</td>\n",
       "      <td>3</td>\n",
       "    </tr>\n",
       "    <tr>\n",
       "      <th>7</th>\n",
       "      <td>Показать на главной странице баннеры с актуальными акциями и распродажами, чтобы увеличить конверсию</td>\n",
       "      <td>5</td>\n",
       "      <td>3</td>\n",
       "      <td>8</td>\n",
       "      <td>3</td>\n",
       "    </tr>\n",
       "    <tr>\n",
       "      <th>8</th>\n",
       "      <td>Добавить форму подписки на все основные страницы, чтобы собрать базу клиентов для email-рассылок</td>\n",
       "      <td>10</td>\n",
       "      <td>7</td>\n",
       "      <td>8</td>\n",
       "      <td>5</td>\n",
       "    </tr>\n",
       "    <tr>\n",
       "      <th>9</th>\n",
       "      <td>Запустить акцию, дающую скидку на товар в день рождения</td>\n",
       "      <td>1</td>\n",
       "      <td>9</td>\n",
       "      <td>9</td>\n",
       "      <td>5</td>\n",
       "    </tr>\n",
       "  </tbody>\n",
       "</table>\n",
       "</div>"
      ],
      "text/plain": [
       "                                                                                                     hypothesis  reach  impact  confidence  efforts\n",
       "1            Добавить два новых канала привлечения трафика, что позволит привлекать на 30% больше пользователей      3      10           8        6\n",
       "2                                     Запустить собственную службу доставки, что сократит срок доставки заказов      2       5           4       10\n",
       "3  Добавить блоки рекомендаций товаров на сайт интернет магазина, чтобы повысить конверсию и средний чек заказа      8       3           7        3\n",
       "4           Изменить структура категорий, что увеличит конверсию, т.к. пользователи быстрее найдут нужный товар      8       3           3        8\n",
       "5                              Изменить цвет фона главной страницы, чтобы увеличить вовлеченность пользователей      3       1           1        1\n",
       "6                      Добавить страницу отзывов клиентов о магазине, что позволит увеличить количество заказов      3       2           2        3\n",
       "7          Показать на главной странице баннеры с актуальными акциями и распродажами, чтобы увеличить конверсию      5       3           8        3\n",
       "8              Добавить форму подписки на все основные страницы, чтобы собрать базу клиентов для email-рассылок     10       7           8        5\n",
       "9                                                       Запустить акцию, дающую скидку на товар в день рождения      1       9           9        5"
      ]
     },
     "execution_count": 2,
     "metadata": {},
     "output_type": "execute_result"
    }
   ],
   "source": [
    "hypotheses = pd.read_csv('/datasets/hypothesis.csv', sep=',') #получаем данные из файла\n",
    "hypotheses.columns = hypotheses.columns.str.lower() #приводим названия столбцов к нижнему регистру\n",
    "hypotheses.index += 1 #меняем нумерацию строк\n",
    "pd.set_option('max_colwidth', 120) #изменяем масштаб столбца\n",
    "pd.set_option('display.width', 500)\n",
    "hypotheses"
   ]
  },
  {
   "cell_type": "markdown",
   "metadata": {},
   "source": [
    "В даных представлена информация о 9 подготовленных гипотезах, а также параметры `Reach`(охват пользователей) , `Impact` (влияние на пользователей), `Confidence` (уверенность в гипотезе) и `Effors`(затраты ресурсов на проверку гипотезы) измеренные по 10-бальной шкале. Проведение А/В тестов для всех гипотез очень затратно. Поэтому необходимо приоритизировать гипотезы и выбрать ту, которую будем тестиировать"
   ]
  },
  {
   "cell_type": "markdown",
   "metadata": {},
   "source": [
    "### Применение фреймворка ICE и RICE"
   ]
  },
  {
   "cell_type": "markdown",
   "metadata": {},
   "source": [
    "Для выявления самой перспективной гипотезы будем использовать популярные методы ICE и RICE."
   ]
  },
  {
   "cell_type": "code",
   "execution_count": 3,
   "metadata": {},
   "outputs": [
    {
     "data": {
      "text/html": [
       "<div>\n",
       "<style scoped>\n",
       "    .dataframe tbody tr th:only-of-type {\n",
       "        vertical-align: middle;\n",
       "    }\n",
       "\n",
       "    .dataframe tbody tr th {\n",
       "        vertical-align: top;\n",
       "    }\n",
       "\n",
       "    .dataframe thead th {\n",
       "        text-align: right;\n",
       "    }\n",
       "</style>\n",
       "<table border=\"1\" class=\"dataframe\">\n",
       "  <thead>\n",
       "    <tr style=\"text-align: right;\">\n",
       "      <th></th>\n",
       "      <th>hypothesis</th>\n",
       "      <th>ICE</th>\n",
       "    </tr>\n",
       "  </thead>\n",
       "  <tbody>\n",
       "    <tr>\n",
       "      <th>9</th>\n",
       "      <td>Запустить акцию, дающую скидку на товар в день рождения</td>\n",
       "      <td>16.20</td>\n",
       "    </tr>\n",
       "    <tr>\n",
       "      <th>1</th>\n",
       "      <td>Добавить два новых канала привлечения трафика, что позволит привлекать на 30% больше пользователей</td>\n",
       "      <td>13.33</td>\n",
       "    </tr>\n",
       "    <tr>\n",
       "      <th>8</th>\n",
       "      <td>Добавить форму подписки на все основные страницы, чтобы собрать базу клиентов для email-рассылок</td>\n",
       "      <td>11.20</td>\n",
       "    </tr>\n",
       "    <tr>\n",
       "      <th>7</th>\n",
       "      <td>Показать на главной странице баннеры с актуальными акциями и распродажами, чтобы увеличить конверсию</td>\n",
       "      <td>8.00</td>\n",
       "    </tr>\n",
       "    <tr>\n",
       "      <th>3</th>\n",
       "      <td>Добавить блоки рекомендаций товаров на сайт интернет магазина, чтобы повысить конверсию и средний чек заказа</td>\n",
       "      <td>7.00</td>\n",
       "    </tr>\n",
       "    <tr>\n",
       "      <th>2</th>\n",
       "      <td>Запустить собственную службу доставки, что сократит срок доставки заказов</td>\n",
       "      <td>2.00</td>\n",
       "    </tr>\n",
       "    <tr>\n",
       "      <th>6</th>\n",
       "      <td>Добавить страницу отзывов клиентов о магазине, что позволит увеличить количество заказов</td>\n",
       "      <td>1.33</td>\n",
       "    </tr>\n",
       "    <tr>\n",
       "      <th>4</th>\n",
       "      <td>Изменить структура категорий, что увеличит конверсию, т.к. пользователи быстрее найдут нужный товар</td>\n",
       "      <td>1.12</td>\n",
       "    </tr>\n",
       "    <tr>\n",
       "      <th>5</th>\n",
       "      <td>Изменить цвет фона главной страницы, чтобы увеличить вовлеченность пользователей</td>\n",
       "      <td>1.00</td>\n",
       "    </tr>\n",
       "  </tbody>\n",
       "</table>\n",
       "</div>"
      ],
      "text/plain": [
       "                                                                                                     hypothesis    ICE\n",
       "9                                                       Запустить акцию, дающую скидку на товар в день рождения  16.20\n",
       "1            Добавить два новых канала привлечения трафика, что позволит привлекать на 30% больше пользователей  13.33\n",
       "8              Добавить форму подписки на все основные страницы, чтобы собрать базу клиентов для email-рассылок  11.20\n",
       "7          Показать на главной странице баннеры с актуальными акциями и распродажами, чтобы увеличить конверсию   8.00\n",
       "3  Добавить блоки рекомендаций товаров на сайт интернет магазина, чтобы повысить конверсию и средний чек заказа   7.00\n",
       "2                                     Запустить собственную службу доставки, что сократит срок доставки заказов   2.00\n",
       "6                      Добавить страницу отзывов клиентов о магазине, что позволит увеличить количество заказов   1.33\n",
       "4           Изменить структура категорий, что увеличит конверсию, т.к. пользователи быстрее найдут нужный товар   1.12\n",
       "5                              Изменить цвет фона главной страницы, чтобы увеличить вовлеченность пользователей   1.00"
      ]
     },
     "metadata": {},
     "output_type": "display_data"
    },
    {
     "data": {
      "text/html": [
       "<div>\n",
       "<style scoped>\n",
       "    .dataframe tbody tr th:only-of-type {\n",
       "        vertical-align: middle;\n",
       "    }\n",
       "\n",
       "    .dataframe tbody tr th {\n",
       "        vertical-align: top;\n",
       "    }\n",
       "\n",
       "    .dataframe thead th {\n",
       "        text-align: right;\n",
       "    }\n",
       "</style>\n",
       "<table border=\"1\" class=\"dataframe\">\n",
       "  <thead>\n",
       "    <tr style=\"text-align: right;\">\n",
       "      <th></th>\n",
       "      <th>hypothesis</th>\n",
       "      <th>RICE</th>\n",
       "    </tr>\n",
       "  </thead>\n",
       "  <tbody>\n",
       "    <tr>\n",
       "      <th>8</th>\n",
       "      <td>Добавить форму подписки на все основные страницы, чтобы собрать базу клиентов для email-рассылок</td>\n",
       "      <td>112.0</td>\n",
       "    </tr>\n",
       "    <tr>\n",
       "      <th>3</th>\n",
       "      <td>Добавить блоки рекомендаций товаров на сайт интернет магазина, чтобы повысить конверсию и средний чек заказа</td>\n",
       "      <td>56.0</td>\n",
       "    </tr>\n",
       "    <tr>\n",
       "      <th>1</th>\n",
       "      <td>Добавить два новых канала привлечения трафика, что позволит привлекать на 30% больше пользователей</td>\n",
       "      <td>40.0</td>\n",
       "    </tr>\n",
       "    <tr>\n",
       "      <th>7</th>\n",
       "      <td>Показать на главной странице баннеры с актуальными акциями и распродажами, чтобы увеличить конверсию</td>\n",
       "      <td>40.0</td>\n",
       "    </tr>\n",
       "    <tr>\n",
       "      <th>9</th>\n",
       "      <td>Запустить акцию, дающую скидку на товар в день рождения</td>\n",
       "      <td>16.2</td>\n",
       "    </tr>\n",
       "    <tr>\n",
       "      <th>4</th>\n",
       "      <td>Изменить структура категорий, что увеличит конверсию, т.к. пользователи быстрее найдут нужный товар</td>\n",
       "      <td>9.0</td>\n",
       "    </tr>\n",
       "    <tr>\n",
       "      <th>2</th>\n",
       "      <td>Запустить собственную службу доставки, что сократит срок доставки заказов</td>\n",
       "      <td>4.0</td>\n",
       "    </tr>\n",
       "    <tr>\n",
       "      <th>6</th>\n",
       "      <td>Добавить страницу отзывов клиентов о магазине, что позволит увеличить количество заказов</td>\n",
       "      <td>4.0</td>\n",
       "    </tr>\n",
       "    <tr>\n",
       "      <th>5</th>\n",
       "      <td>Изменить цвет фона главной страницы, чтобы увеличить вовлеченность пользователей</td>\n",
       "      <td>3.0</td>\n",
       "    </tr>\n",
       "  </tbody>\n",
       "</table>\n",
       "</div>"
      ],
      "text/plain": [
       "                                                                                                     hypothesis   RICE\n",
       "8              Добавить форму подписки на все основные страницы, чтобы собрать базу клиентов для email-рассылок  112.0\n",
       "3  Добавить блоки рекомендаций товаров на сайт интернет магазина, чтобы повысить конверсию и средний чек заказа   56.0\n",
       "1            Добавить два новых канала привлечения трафика, что позволит привлекать на 30% больше пользователей   40.0\n",
       "7          Показать на главной странице баннеры с актуальными акциями и распродажами, чтобы увеличить конверсию   40.0\n",
       "9                                                       Запустить акцию, дающую скидку на товар в день рождения   16.2\n",
       "4           Изменить структура категорий, что увеличит конверсию, т.к. пользователи быстрее найдут нужный товар    9.0\n",
       "2                                     Запустить собственную службу доставки, что сократит срок доставки заказов    4.0\n",
       "6                      Добавить страницу отзывов клиентов о магазине, что позволит увеличить количество заказов    4.0\n",
       "5                              Изменить цвет фона главной страницы, чтобы увеличить вовлеченность пользователей    3.0"
      ]
     },
     "metadata": {},
     "output_type": "display_data"
    }
   ],
   "source": [
    "hypotheses['ICE']=((hypotheses['impact']*hypotheses['confidence'])/hypotheses['efforts']). round(2)\n",
    "#расчет значения ICE\n",
    "\n",
    "hypotheses['RICE']=(hypotheses['reach']*hypotheses['impact']*hypotheses['confidence'])/hypotheses['efforts'] \n",
    "#расчет значения RICE\n",
    "\n",
    "display(hypotheses[['hypothesis','ICE']].sort_values(by='ICE', ascending=False))\n",
    "#вывод на экран двух столбцов с номером гипотезы и параметром ICE, упорядоченные по убыванию параметра ICE\n",
    "\n",
    "\n",
    "display(hypotheses[['hypothesis','RICE']].sort_values(by='RICE', ascending=False))\n",
    "#вывод на экран двух столбцов с номером гипотезы и параметром RICE, упорядоченные по убыванию параметра RICE\n"
   ]
  },
  {
   "cell_type": "markdown",
   "metadata": {},
   "source": [
    "**Вывод:** Пареметры ICE и RICE являются одними из самых популярных методов приоритезации. При расчете параметра ICE берут такие показали как  impact(влияние), confidence(уверенность), effort(простота). У это метода есть модификация RICE, в которой также добавляется такой показатель как reach(охват). Все параметры расчитываются обычно по 10-бальной шкале.\n",
    "\n",
    "При расчете параметра ICE, самой перспективной оказалась 9 гипотеза, а на втором месте 1 гипотеза. Тогда как при расчете параметра RICE гипотеза номер 8 стала более преспективной. Произошло это потому что ее параметр Reach равен 10, т.е. данная гипотеза охватит всех пользоватаелей, тогда как у 9 гипотезы охват пользователей равен всего 10%. Для приоретизации гипотез важным показатем является какое кол-во пользователей она застронет. Поэтому возьмем во внимание именно параметр RICE\n",
    "\n",
    "Для проведения A/B теста целесообразней выбрать гипотезу пол номером 8 : \n",
    "\n",
    "*`Добавить форму подписки на все основные страницы, чтобы собрать базу клиентов для email-рассылок`*"
   ]
  },
  {
   "cell_type": "markdown",
   "metadata": {},
   "source": [
    "## Вторая часть. Анализ A/B-теста"
   ]
  },
  {
   "cell_type": "markdown",
   "metadata": {},
   "source": [
    "Мы провели A/B-тест и получили результаты, которые описаны в файлах `Orders`и `Visitors`.\n",
    "До начала анлиза А/В теста получим данные из файлов, проанализируем и проведем предобработку"
   ]
  },
  {
   "cell_type": "markdown",
   "metadata": {},
   "source": [
    "### Данные для анализа"
   ]
  },
  {
   "cell_type": "markdown",
   "metadata": {},
   "source": [
    "#### Выгрузка и изучение исходных данных"
   ]
  },
  {
   "cell_type": "code",
   "execution_count": 4,
   "metadata": {},
   "outputs": [
    {
     "data": {
      "text/html": [
       "<div>\n",
       "<style scoped>\n",
       "    .dataframe tbody tr th:only-of-type {\n",
       "        vertical-align: middle;\n",
       "    }\n",
       "\n",
       "    .dataframe tbody tr th {\n",
       "        vertical-align: top;\n",
       "    }\n",
       "\n",
       "    .dataframe thead th {\n",
       "        text-align: right;\n",
       "    }\n",
       "</style>\n",
       "<table border=\"1\" class=\"dataframe\">\n",
       "  <thead>\n",
       "    <tr style=\"text-align: right;\">\n",
       "      <th></th>\n",
       "      <th>transactionId</th>\n",
       "      <th>visitorId</th>\n",
       "      <th>date</th>\n",
       "      <th>revenue</th>\n",
       "      <th>group</th>\n",
       "    </tr>\n",
       "  </thead>\n",
       "  <tbody>\n",
       "    <tr>\n",
       "      <th>0</th>\n",
       "      <td>3667963787</td>\n",
       "      <td>3312258926</td>\n",
       "      <td>2019-08-15</td>\n",
       "      <td>1650</td>\n",
       "      <td>B</td>\n",
       "    </tr>\n",
       "    <tr>\n",
       "      <th>1</th>\n",
       "      <td>2804400009</td>\n",
       "      <td>3642806036</td>\n",
       "      <td>2019-08-15</td>\n",
       "      <td>730</td>\n",
       "      <td>B</td>\n",
       "    </tr>\n",
       "    <tr>\n",
       "      <th>2</th>\n",
       "      <td>2961555356</td>\n",
       "      <td>4069496402</td>\n",
       "      <td>2019-08-15</td>\n",
       "      <td>400</td>\n",
       "      <td>A</td>\n",
       "    </tr>\n",
       "    <tr>\n",
       "      <th>3</th>\n",
       "      <td>3797467345</td>\n",
       "      <td>1196621759</td>\n",
       "      <td>2019-08-15</td>\n",
       "      <td>9759</td>\n",
       "      <td>B</td>\n",
       "    </tr>\n",
       "    <tr>\n",
       "      <th>4</th>\n",
       "      <td>2282983706</td>\n",
       "      <td>2322279887</td>\n",
       "      <td>2019-08-15</td>\n",
       "      <td>2308</td>\n",
       "      <td>B</td>\n",
       "    </tr>\n",
       "  </tbody>\n",
       "</table>\n",
       "</div>"
      ],
      "text/plain": [
       "   transactionId   visitorId        date  revenue group\n",
       "0     3667963787  3312258926  2019-08-15     1650     B\n",
       "1     2804400009  3642806036  2019-08-15      730     B\n",
       "2     2961555356  4069496402  2019-08-15      400     A\n",
       "3     3797467345  1196621759  2019-08-15     9759     B\n",
       "4     2282983706  2322279887  2019-08-15     2308     B"
      ]
     },
     "metadata": {},
     "output_type": "display_data"
    },
    {
     "name": "stdout",
     "output_type": "stream",
     "text": [
      "<class 'pandas.core.frame.DataFrame'>\n",
      "RangeIndex: 1197 entries, 0 to 1196\n",
      "Data columns (total 5 columns):\n",
      " #   Column         Non-Null Count  Dtype \n",
      "---  ------         --------------  ----- \n",
      " 0   transactionId  1197 non-null   int64 \n",
      " 1   visitorId      1197 non-null   int64 \n",
      " 2   date           1197 non-null   object\n",
      " 3   revenue        1197 non-null   int64 \n",
      " 4   group          1197 non-null   object\n",
      "dtypes: int64(3), object(2)\n",
      "memory usage: 46.9+ KB\n"
     ]
    },
    {
     "data": {
      "text/plain": [
       "None"
      ]
     },
     "metadata": {},
     "output_type": "display_data"
    },
    {
     "data": {
      "text/html": [
       "<div>\n",
       "<style scoped>\n",
       "    .dataframe tbody tr th:only-of-type {\n",
       "        vertical-align: middle;\n",
       "    }\n",
       "\n",
       "    .dataframe tbody tr th {\n",
       "        vertical-align: top;\n",
       "    }\n",
       "\n",
       "    .dataframe thead th {\n",
       "        text-align: right;\n",
       "    }\n",
       "</style>\n",
       "<table border=\"1\" class=\"dataframe\">\n",
       "  <thead>\n",
       "    <tr style=\"text-align: right;\">\n",
       "      <th></th>\n",
       "      <th>date</th>\n",
       "      <th>group</th>\n",
       "      <th>visitors</th>\n",
       "    </tr>\n",
       "  </thead>\n",
       "  <tbody>\n",
       "    <tr>\n",
       "      <th>0</th>\n",
       "      <td>2019-08-01</td>\n",
       "      <td>A</td>\n",
       "      <td>719</td>\n",
       "    </tr>\n",
       "    <tr>\n",
       "      <th>1</th>\n",
       "      <td>2019-08-02</td>\n",
       "      <td>A</td>\n",
       "      <td>619</td>\n",
       "    </tr>\n",
       "    <tr>\n",
       "      <th>2</th>\n",
       "      <td>2019-08-03</td>\n",
       "      <td>A</td>\n",
       "      <td>507</td>\n",
       "    </tr>\n",
       "    <tr>\n",
       "      <th>3</th>\n",
       "      <td>2019-08-04</td>\n",
       "      <td>A</td>\n",
       "      <td>717</td>\n",
       "    </tr>\n",
       "    <tr>\n",
       "      <th>4</th>\n",
       "      <td>2019-08-05</td>\n",
       "      <td>A</td>\n",
       "      <td>756</td>\n",
       "    </tr>\n",
       "  </tbody>\n",
       "</table>\n",
       "</div>"
      ],
      "text/plain": [
       "         date group  visitors\n",
       "0  2019-08-01     A       719\n",
       "1  2019-08-02     A       619\n",
       "2  2019-08-03     A       507\n",
       "3  2019-08-04     A       717\n",
       "4  2019-08-05     A       756"
      ]
     },
     "metadata": {},
     "output_type": "display_data"
    },
    {
     "name": "stdout",
     "output_type": "stream",
     "text": [
      "<class 'pandas.core.frame.DataFrame'>\n",
      "RangeIndex: 62 entries, 0 to 61\n",
      "Data columns (total 3 columns):\n",
      " #   Column    Non-Null Count  Dtype \n",
      "---  ------    --------------  ----- \n",
      " 0   date      62 non-null     object\n",
      " 1   group     62 non-null     object\n",
      " 2   visitors  62 non-null     int64 \n",
      "dtypes: int64(1), object(2)\n",
      "memory usage: 1.6+ KB\n"
     ]
    },
    {
     "data": {
      "text/plain": [
       "None"
      ]
     },
     "metadata": {},
     "output_type": "display_data"
    },
    {
     "data": {
      "text/plain": [
       "'Колличество дубликатов в датафремйе visitors:'"
      ]
     },
     "metadata": {},
     "output_type": "display_data"
    },
    {
     "data": {
      "text/plain": [
       "0"
      ]
     },
     "metadata": {},
     "output_type": "display_data"
    },
    {
     "data": {
      "text/plain": [
       "'Колличество дубликатов в датафремйе orders:'"
      ]
     },
     "metadata": {},
     "output_type": "display_data"
    },
    {
     "data": {
      "text/plain": [
       "0"
      ]
     },
     "metadata": {},
     "output_type": "display_data"
    },
    {
     "data": {
      "text/html": [
       "<div>\n",
       "<style scoped>\n",
       "    .dataframe tbody tr th:only-of-type {\n",
       "        vertical-align: middle;\n",
       "    }\n",
       "\n",
       "    .dataframe tbody tr th {\n",
       "        vertical-align: top;\n",
       "    }\n",
       "\n",
       "    .dataframe thead th {\n",
       "        text-align: right;\n",
       "    }\n",
       "</style>\n",
       "<table border=\"1\" class=\"dataframe\">\n",
       "  <thead>\n",
       "    <tr style=\"text-align: right;\">\n",
       "      <th></th>\n",
       "      <th>visitors</th>\n",
       "    </tr>\n",
       "  </thead>\n",
       "  <tbody>\n",
       "    <tr>\n",
       "      <th>count</th>\n",
       "      <td>62.000000</td>\n",
       "    </tr>\n",
       "    <tr>\n",
       "      <th>mean</th>\n",
       "      <td>607.290323</td>\n",
       "    </tr>\n",
       "    <tr>\n",
       "      <th>std</th>\n",
       "      <td>114.400560</td>\n",
       "    </tr>\n",
       "    <tr>\n",
       "      <th>min</th>\n",
       "      <td>361.000000</td>\n",
       "    </tr>\n",
       "    <tr>\n",
       "      <th>25%</th>\n",
       "      <td>534.000000</td>\n",
       "    </tr>\n",
       "    <tr>\n",
       "      <th>50%</th>\n",
       "      <td>624.500000</td>\n",
       "    </tr>\n",
       "    <tr>\n",
       "      <th>75%</th>\n",
       "      <td>710.500000</td>\n",
       "    </tr>\n",
       "    <tr>\n",
       "      <th>max</th>\n",
       "      <td>770.000000</td>\n",
       "    </tr>\n",
       "  </tbody>\n",
       "</table>\n",
       "</div>"
      ],
      "text/plain": [
       "         visitors\n",
       "count   62.000000\n",
       "mean   607.290323\n",
       "std    114.400560\n",
       "min    361.000000\n",
       "25%    534.000000\n",
       "50%    624.500000\n",
       "75%    710.500000\n",
       "max    770.000000"
      ]
     },
     "metadata": {},
     "output_type": "display_data"
    },
    {
     "data": {
      "text/html": [
       "<div>\n",
       "<style scoped>\n",
       "    .dataframe tbody tr th:only-of-type {\n",
       "        vertical-align: middle;\n",
       "    }\n",
       "\n",
       "    .dataframe tbody tr th {\n",
       "        vertical-align: top;\n",
       "    }\n",
       "\n",
       "    .dataframe thead th {\n",
       "        text-align: right;\n",
       "    }\n",
       "</style>\n",
       "<table border=\"1\" class=\"dataframe\">\n",
       "  <thead>\n",
       "    <tr style=\"text-align: right;\">\n",
       "      <th></th>\n",
       "      <th>transactionId</th>\n",
       "      <th>visitorId</th>\n",
       "      <th>revenue</th>\n",
       "    </tr>\n",
       "  </thead>\n",
       "  <tbody>\n",
       "    <tr>\n",
       "      <th>count</th>\n",
       "      <td>1.197000e+03</td>\n",
       "      <td>1.197000e+03</td>\n",
       "      <td>1.197000e+03</td>\n",
       "    </tr>\n",
       "    <tr>\n",
       "      <th>mean</th>\n",
       "      <td>2.155621e+09</td>\n",
       "      <td>2.165960e+09</td>\n",
       "      <td>8.348006e+03</td>\n",
       "    </tr>\n",
       "    <tr>\n",
       "      <th>std</th>\n",
       "      <td>1.229085e+09</td>\n",
       "      <td>1.236014e+09</td>\n",
       "      <td>3.919113e+04</td>\n",
       "    </tr>\n",
       "    <tr>\n",
       "      <th>min</th>\n",
       "      <td>1.062393e+06</td>\n",
       "      <td>5.114589e+06</td>\n",
       "      <td>5.000000e+01</td>\n",
       "    </tr>\n",
       "    <tr>\n",
       "      <th>25%</th>\n",
       "      <td>1.166776e+09</td>\n",
       "      <td>1.111826e+09</td>\n",
       "      <td>1.220000e+03</td>\n",
       "    </tr>\n",
       "    <tr>\n",
       "      <th>50%</th>\n",
       "      <td>2.145194e+09</td>\n",
       "      <td>2.217985e+09</td>\n",
       "      <td>2.978000e+03</td>\n",
       "    </tr>\n",
       "    <tr>\n",
       "      <th>75%</th>\n",
       "      <td>3.237740e+09</td>\n",
       "      <td>3.177606e+09</td>\n",
       "      <td>8.290000e+03</td>\n",
       "    </tr>\n",
       "    <tr>\n",
       "      <th>max</th>\n",
       "      <td>4.293856e+09</td>\n",
       "      <td>4.283872e+09</td>\n",
       "      <td>1.294500e+06</td>\n",
       "    </tr>\n",
       "  </tbody>\n",
       "</table>\n",
       "</div>"
      ],
      "text/plain": [
       "       transactionId     visitorId       revenue\n",
       "count   1.197000e+03  1.197000e+03  1.197000e+03\n",
       "mean    2.155621e+09  2.165960e+09  8.348006e+03\n",
       "std     1.229085e+09  1.236014e+09  3.919113e+04\n",
       "min     1.062393e+06  5.114589e+06  5.000000e+01\n",
       "25%     1.166776e+09  1.111826e+09  1.220000e+03\n",
       "50%     2.145194e+09  2.217985e+09  2.978000e+03\n",
       "75%     3.237740e+09  3.177606e+09  8.290000e+03\n",
       "max     4.293856e+09  4.283872e+09  1.294500e+06"
      ]
     },
     "metadata": {},
     "output_type": "display_data"
    }
   ],
   "source": [
    "orders = pd.read_csv('/datasets/orders.csv', sep=',') #получаем данные о заказах\n",
    "visitors = pd.read_csv('/datasets/visitors.csv', sep=',') #получаем данные о пользователях\n",
    "\n",
    "display(orders.head())\n",
    "display(orders.info())\n",
    "\n",
    "display(visitors.head())\n",
    "display(visitors.info())\n",
    "\n",
    "#выводим первые 5 строк каждого датафрйема и общую информацию\n",
    "\n",
    "display('Колличество дубликатов в датафремйе visitors:',visitors.duplicated().sum())\n",
    "display('Колличество дубликатов в датафремйе orders:',orders.duplicated().sum())\n",
    "#проверяем данные на наличие дубликатов\n",
    "\n",
    "display(visitors.describe()) #Описание числовых данных в датафрйеме visitors\n",
    "display(orders.describe())#Описание числовых данных в датафрйеме orders"
   ]
  },
  {
   "cell_type": "markdown",
   "metadata": {},
   "source": [
    "После получения общей информации о данных, можно сказать следующее:\n",
    "* При первой визуальной оценке датафреймов видно, что данные подходят к цели нашего анализа,\n",
    "* В датафреймах нет пропусков, т.к. колличество строк в датафрейме совпадает с колличеством строк в каждом столбце\n",
    "* Названия столбцов соответствует их содержанию, но не приведено к единому стилю. Столбцы в датарфйреме о заказах необходимо переимменовать\n",
    "* Тип данных в столбцах соответствует содержанию во всех столбцах, кроме тех что связаны с датами. Тип данных в этих столбцах изменим на datetime.\n",
    "* Дубликатов в данных нет\n",
    "* Критичные аномалии и нулевые значения в данных также отсутствуют"
   ]
  },
  {
   "cell_type": "markdown",
   "metadata": {},
   "source": [
    "#### Предобработка данных"
   ]
  },
  {
   "cell_type": "code",
   "execution_count": 5,
   "metadata": {},
   "outputs": [
    {
     "data": {
      "text/plain": [
       "'Наименование столбцов в датафрйеме orders:'"
      ]
     },
     "metadata": {},
     "output_type": "display_data"
    },
    {
     "data": {
      "text/plain": [
       "Index(['transaction_id', 'visitor_id', 'date', 'revenue', 'group'], dtype='object')"
      ]
     },
     "metadata": {},
     "output_type": "display_data"
    }
   ],
   "source": [
    "orders = orders.rename(columns={'transactionId': 'transaction_id',\n",
    "                               'visitorId': 'visitor_id'}) \n",
    "#переимнование столбцов\n",
    "display('Наименование столбцов в датафрйеме orders:',orders.columns)\n",
    "#проверяем"
   ]
  },
  {
   "cell_type": "code",
   "execution_count": 6,
   "metadata": {},
   "outputs": [],
   "source": [
    "orders['date'] = pd.to_datetime(orders['date'])\n",
    "visitors['date'] = pd.to_datetime(visitors['date'])\n",
    "#Изменяем тип данных на datetime в столбцах где содерджится информация о датах"
   ]
  },
  {
   "cell_type": "markdown",
   "metadata": {},
   "source": [
    "**Вывод:**\n",
    "Получив данные из двух датафреймов о заакзах и пользователях, можно сказать следующее о качестве исходных данных:\n",
    "* Данные подходят для дальнейшего анализа\n",
    "* В данных нет критичных аномалий, дубик\n",
    "* Некоторые столбцы мы переименовали, привели к нижнему регистру и добавили знак '_'\n",
    "* Также имзенили типы данных, что поможет нам в дальнешем анализе"
   ]
  },
  {
   "cell_type": "markdown",
   "metadata": {},
   "source": [
    "### Анализ А/В теста"
   ]
  },
  {
   "cell_type": "markdown",
   "metadata": {},
   "source": [
    "#### График кумулятивной выручки по группам"
   ]
  },
  {
   "cell_type": "code",
   "execution_count": 7,
   "metadata": {},
   "outputs": [
    {
     "data": {
      "text/html": [
       "<div>\n",
       "<style scoped>\n",
       "    .dataframe tbody tr th:only-of-type {\n",
       "        vertical-align: middle;\n",
       "    }\n",
       "\n",
       "    .dataframe tbody tr th {\n",
       "        vertical-align: top;\n",
       "    }\n",
       "\n",
       "    .dataframe thead th {\n",
       "        text-align: right;\n",
       "    }\n",
       "</style>\n",
       "<table border=\"1\" class=\"dataframe\">\n",
       "  <thead>\n",
       "    <tr style=\"text-align: right;\">\n",
       "      <th></th>\n",
       "      <th>date</th>\n",
       "      <th>group</th>\n",
       "      <th>orders</th>\n",
       "      <th>buyers</th>\n",
       "      <th>revenue</th>\n",
       "      <th>visitors</th>\n",
       "    </tr>\n",
       "  </thead>\n",
       "  <tbody>\n",
       "    <tr>\n",
       "      <th>0</th>\n",
       "      <td>2019-08-01</td>\n",
       "      <td>A</td>\n",
       "      <td>24</td>\n",
       "      <td>20</td>\n",
       "      <td>148579</td>\n",
       "      <td>719</td>\n",
       "    </tr>\n",
       "    <tr>\n",
       "      <th>1</th>\n",
       "      <td>2019-08-01</td>\n",
       "      <td>B</td>\n",
       "      <td>21</td>\n",
       "      <td>20</td>\n",
       "      <td>101217</td>\n",
       "      <td>713</td>\n",
       "    </tr>\n",
       "    <tr>\n",
       "      <th>2</th>\n",
       "      <td>2019-08-02</td>\n",
       "      <td>A</td>\n",
       "      <td>44</td>\n",
       "      <td>38</td>\n",
       "      <td>242401</td>\n",
       "      <td>1338</td>\n",
       "    </tr>\n",
       "    <tr>\n",
       "      <th>3</th>\n",
       "      <td>2019-08-02</td>\n",
       "      <td>B</td>\n",
       "      <td>45</td>\n",
       "      <td>43</td>\n",
       "      <td>266748</td>\n",
       "      <td>1294</td>\n",
       "    </tr>\n",
       "    <tr>\n",
       "      <th>4</th>\n",
       "      <td>2019-08-03</td>\n",
       "      <td>A</td>\n",
       "      <td>68</td>\n",
       "      <td>62</td>\n",
       "      <td>354874</td>\n",
       "      <td>1845</td>\n",
       "    </tr>\n",
       "  </tbody>\n",
       "</table>\n",
       "</div>"
      ],
      "text/plain": [
       "        date group  orders  buyers  revenue  visitors\n",
       "0 2019-08-01     A      24      20   148579       719\n",
       "1 2019-08-01     B      21      20   101217       713\n",
       "2 2019-08-02     A      44      38   242401      1338\n",
       "3 2019-08-02     B      45      43   266748      1294\n",
       "4 2019-08-03     A      68      62   354874      1845"
      ]
     },
     "metadata": {},
     "output_type": "display_data"
    },
    {
     "name": "stdout",
     "output_type": "stream",
     "text": [
      "Максимальная дата в кумулятивынх данных равна максимальной дате в исходных данных, датафрейм создан корректно\n",
      "Минимальная дата в кумулятивынх данных равна минимальной дате в исходных данных, датафрейм создан корректно\n"
     ]
    }
   ],
   "source": [
    "# создаем массив уникальных пар значений дат и групп теста\n",
    "datesGroups = orders[['date','group']].drop_duplicates()\n",
    "\n",
    "# получаем агрегированные кумулятивные по дням данные о заказах \n",
    "ordersAggregated = datesGroups.apply(lambda x: orders[np.logical_and(orders['date'] <= x['date'], orders['group'] == x['group'])].agg({'date' : 'max', 'group' : 'max', 'transaction_id' : 'nunique', 'visitor_id' : 'nunique', 'revenue' : 'sum'}), axis=1).sort_values(by=['date','group'])\n",
    "\n",
    "# получаем агрегированные кумулятивные по дням данные о посетителях интернет-магазина \n",
    "visitorsAggregated = datesGroups.apply(lambda x: visitors[np.logical_and(visitors['date'] <= x['date'], visitors['group'] == x['group'])].agg({'date' : 'max', 'group' : 'max', 'visitors' : 'sum'}), axis=1).sort_values(by=['date','group'])\n",
    "\n",
    "# объединяем кумулятивные данные в одной таблице и присваиваем ее столбцам понятные названия\n",
    "cumulativeData = ordersAggregated.merge(visitorsAggregated, left_on=['date', 'group'], right_on=['date', 'group'])\n",
    "cumulativeData.columns = ['date', 'group', 'orders', 'buyers', 'revenue', 'visitors']\n",
    "\n",
    "display(cumulativeData.head(5));\n",
    "\n",
    "#проверяем корректность созданного датафрейма\n",
    "if orders['date'].max()== cumulativeData['date'].max():\n",
    "    print('Максимальная дата в кумулятивынх данных равна максимальной дате в исходных данных, датафрейм создан корректно')\n",
    "else:\n",
    "    print('Датафрейм создан не корректно')\n",
    "    \n",
    "if orders['date'].min()== cumulativeData['date'].min():\n",
    "    print('Минимальная дата в кумулятивынх данных равна минимальной дате в исходных данных, датафрейм создан корректно')\n",
    "else:\n",
    "    print('Датафрейм создан не корректно')\n",
    "    "
   ]
  },
  {
   "cell_type": "code",
   "execution_count": 8,
   "metadata": {},
   "outputs": [
    {
     "data": {
      "image/png": "[encoded data removed]",
      "text/plain": [
       "<Figure size 1080x504 with 1 Axes>"
      ]
     },
     "metadata": {
      "needs_background": "light"
     },
     "output_type": "display_data"
    }
   ],
   "source": [
    "\n",
    "\n",
    "# датафрейм с кумулятивным количеством заказов и кумулятивной выручкой по дням в группе А\n",
    "cumulativeRevenueA = cumulativeData[cumulativeData['group']=='A'][['date','revenue', 'orders']]\n",
    "\n",
    "# датафрейм с кумулятивным количеством заказов и кумулятивной выручкой по дням в группе B\n",
    "cumulativeRevenueB = cumulativeData[cumulativeData['group']=='B'][['date','revenue', 'orders']]\n",
    "\n",
    "\n",
    "# Строим график выручки по груупам А и В\n",
    "plt.figure(figsize=(15,7))\n",
    "plt.plot(cumulativeRevenueA['date'], cumulativeRevenueA['revenue'], label='Группа A')\n",
    "plt.plot(cumulativeRevenueB['date'], cumulativeRevenueB['revenue'], label='Группа B')\n",
    "plt.legend()\n",
    "plt.title('Кумулятивная выручка по группам')\n",
    "plt.xlabel('Дата')\n",
    "plt.ylabel('Выручка, млн.руб.')\n",
    "plt.show;"
   ]
  },
  {
   "cell_type": "markdown",
   "metadata": {},
   "source": [
    "**Вывод:**\n",
    "\n",
    "Выручка практически всегда увеличивается в течение всего теста. Это хорошо.\n",
    "Также график выручки группы В в одной точке резко вырос. Это может сигнализировать о резком росте числа заказов, либо о появлении дороготоящих заказов."
   ]
  },
  {
   "cell_type": "markdown",
   "metadata": {},
   "source": [
    "#### График кумулятивного среднего чека"
   ]
  },
  {
   "cell_type": "code",
   "execution_count": 9,
   "metadata": {},
   "outputs": [
    {
     "data": {
      "image/png": "[encoded data removed]",
      "text/plain": [
       "<Figure size 1080x504 with 1 Axes>"
      ]
     },
     "metadata": {
      "needs_background": "light"
     },
     "output_type": "display_data"
    }
   ],
   "source": [
    "# Строим график среднего чека по груупам А и В\n",
    "plt.figure(figsize=(15,7))\n",
    "plt.plot(cumulativeRevenueA['date'], cumulativeRevenueA['revenue']/cumulativeRevenueA['orders'], label='A')\n",
    "plt.plot(cumulativeRevenueB['date'], cumulativeRevenueB['revenue']/cumulativeRevenueB['orders'], label='B')\n",
    "plt.legend() \n",
    "plt.title('Кумулятивный средний чек по группам')\n",
    "plt.xlabel('Дата')\n",
    "plt.ylabel('Средний чек,руб.')\n",
    "plt.show()"
   ]
  },
  {
   "cell_type": "markdown",
   "metadata": {},
   "source": [
    "**Вывод:** Средний чек у двух групп скачет в первые две недели проведения теста, есть сниежния и увеличения среднего чека у обеих групп. Средний чек группы А стибилизировался после 13.08 и он стал стабильно ниже среднего чека группы В. После 17.08 средний чек у группы В резко вырос, что скорее всего связано с тем что в эту группу попали дорогостоящие заказы, что также подтверждается всплеском выручки с этого же момента."
   ]
  },
  {
   "cell_type": "markdown",
   "metadata": {},
   "source": [
    "#### График относительного изменения кумулятивного среднего чека группы B к группе A"
   ]
  },
  {
   "cell_type": "code",
   "execution_count": 10,
   "metadata": {},
   "outputs": [
    {
     "data": {
      "image/png": "[encoded data removed]",
      "text/plain": [
       "<Figure size 1080x504 with 1 Axes>"
      ]
     },
     "metadata": {
      "needs_background": "light"
     },
     "output_type": "display_data"
    }
   ],
   "source": [
    "# собираем данные в одном датафрейме\n",
    "mergedCumulativeRevenue = cumulativeRevenueA.merge(cumulativeRevenueB, left_on='date', right_on='date', how='left', suffixes=['A', 'B'])\n",
    "\n",
    "# cтроим отношение средних чеков\n",
    "plt.figure(figsize=(15,7))\n",
    "plt.plot(mergedCumulativeRevenue['date'], (mergedCumulativeRevenue['revenueB']/mergedCumulativeRevenue['ordersB'])/(mergedCumulativeRevenue['revenueA']/mergedCumulativeRevenue['ordersA'])-1)\n",
    "plt.axhline(y=0, color='black', linestyle='--')\n",
    "plt.title('Относительное изменение кумулятивного среднего чека группы B к группе A')\n",
    "plt.xlabel('Дата')\n",
    "plt.ylabel('Прирост')\n",
    "plt.show()"
   ]
  },
  {
   "cell_type": "markdown",
   "metadata": {},
   "source": [
    "**Вывод:** В график относительного изменения между двумя группами есть резкие увеличения и также резкие снижения. Этот график также подтверждает, что в группам появились дорогостоящие заказы, которе скорее всего являются явными выбросами."
   ]
  },
  {
   "cell_type": "markdown",
   "metadata": {},
   "source": [
    "#### График кумулятивного среднего количества заказов на посетителя по группам"
   ]
  },
  {
   "cell_type": "code",
   "execution_count": 11,
   "metadata": {},
   "outputs": [
    {
     "data": {
      "image/png": "[encoded data removed]",
      "text/plain": [
       "<Figure size 1080x504 with 1 Axes>"
      ]
     },
     "metadata": {
      "needs_background": "light"
     },
     "output_type": "display_data"
    }
   ],
   "source": [
    "# считаем кумулятивную конверсию\n",
    "cumulativeData['conversion'] = cumulativeData['orders']/cumulativeData['visitors']\n",
    "\n",
    "# отделяем данные по группе A\n",
    "cumulativeDataA = cumulativeData[cumulativeData['group']=='A']\n",
    "\n",
    "# отделяем данные по группе B\n",
    "cumulativeDataB = cumulativeData[cumulativeData['group']=='B']\n",
    "\n",
    "# строим графики\n",
    "plt.figure(figsize=(15,7))\n",
    "plt.plot(cumulativeDataA['date'], cumulativeDataA['conversion'], label='A')\n",
    "plt.plot(cumulativeDataB['date'], cumulativeDataB['conversion'], label='B')\n",
    "plt.legend()\n",
    "plt.title('Кумулятивное среднее колличество заказов на посетителя по группа А и В')\n",
    "plt.xlabel('Дата')\n",
    "plt.ylabel('Среднее колличество заказов на посетителя')\n",
    "plt.show()"
   ]
  },
  {
   "cell_type": "markdown",
   "metadata": {},
   "source": [
    "**Вывод:** Среднее колличество заказов на посетителя резко выросло в начале теста у обоих групп.После 5 августа в группы В резко выросло колличество заказов и стабилизировалось к концу тестирования. У группы А все наоборот-среднее колличество заказов резко снизилось и было стабильно низким до конца тестирования."
   ]
  },
  {
   "cell_type": "markdown",
   "metadata": {},
   "source": [
    "#### График относительного изменения кумулятивного среднего количества заказов на посетителя группы B к группе A. "
   ]
  },
  {
   "cell_type": "code",
   "execution_count": 12,
   "metadata": {},
   "outputs": [
    {
     "data": {
      "image/png": "[encoded data removed]",
      "text/plain": [
       "<Figure size 1080x504 with 1 Axes>"
      ]
     },
     "metadata": {
      "needs_background": "light"
     },
     "output_type": "display_data"
    }
   ],
   "source": [
    "mergedCumulativeConversions = cumulativeDataA[['date','conversion']].merge(cumulativeDataB[['date','conversion']], left_on='date', right_on='date', how='left', suffixes=['A', 'B'])\n",
    "#строим график относительного изменения\n",
    "plt.figure(figsize=(15,7))\n",
    "plt.plot(mergedCumulativeConversions['date'], mergedCumulativeConversions['conversionB']/mergedCumulativeConversions['conversionA']-1)\n",
    "plt.axhline(y=0, color='black', linestyle='--')\n",
    "plt.axhline(y=0.15, color='grey', linestyle='--')\n",
    "plt.title('Изменение кумулятивного среднего колличества заказов на посетителя группы B относительно группы A')\n",
    "plt.xlabel('Дата')\n",
    "plt.ylabel('Прирост')\n",
    "plt.show()"
   ]
  },
  {
   "cell_type": "markdown",
   "metadata": {},
   "source": [
    "**Вывод:** С начала тестирования прирост количества заказов группы В резко вырос относительно группы А, далее было падение и стабильный рост. К концу тестирования прирост стабилизировался и стал стабильно выше относительно группы А. Вохможно это было связно с резким увеличением коллчиества заказов в группе В или появлению в этой группе каких-то аномальных значений"
   ]
  },
  {
   "cell_type": "markdown",
   "metadata": {},
   "source": [
    "#### График количества заказов по пользователям.\n"
   ]
  },
  {
   "cell_type": "code",
   "execution_count": 13,
   "metadata": {
    "scrolled": false
   },
   "outputs": [
    {
     "data": {
      "text/html": [
       "<div>\n",
       "<style scoped>\n",
       "    .dataframe tbody tr th:only-of-type {\n",
       "        vertical-align: middle;\n",
       "    }\n",
       "\n",
       "    .dataframe tbody tr th {\n",
       "        vertical-align: top;\n",
       "    }\n",
       "\n",
       "    .dataframe thead th {\n",
       "        text-align: right;\n",
       "    }\n",
       "</style>\n",
       "<table border=\"1\" class=\"dataframe\">\n",
       "  <thead>\n",
       "    <tr style=\"text-align: right;\">\n",
       "      <th></th>\n",
       "      <th>visitor_id</th>\n",
       "      <th>orders</th>\n",
       "    </tr>\n",
       "  </thead>\n",
       "  <tbody>\n",
       "    <tr>\n",
       "      <th>1023</th>\n",
       "      <td>4256040402</td>\n",
       "      <td>11</td>\n",
       "    </tr>\n",
       "    <tr>\n",
       "      <th>591</th>\n",
       "      <td>2458001652</td>\n",
       "      <td>11</td>\n",
       "    </tr>\n",
       "    <tr>\n",
       "      <th>569</th>\n",
       "      <td>2378935119</td>\n",
       "      <td>9</td>\n",
       "    </tr>\n",
       "    <tr>\n",
       "      <th>487</th>\n",
       "      <td>2038680547</td>\n",
       "      <td>8</td>\n",
       "    </tr>\n",
       "    <tr>\n",
       "      <th>44</th>\n",
       "      <td>199603092</td>\n",
       "      <td>5</td>\n",
       "    </tr>\n",
       "    <tr>\n",
       "      <th>744</th>\n",
       "      <td>3062433592</td>\n",
       "      <td>5</td>\n",
       "    </tr>\n",
       "    <tr>\n",
       "      <th>55</th>\n",
       "      <td>237748145</td>\n",
       "      <td>5</td>\n",
       "    </tr>\n",
       "    <tr>\n",
       "      <th>917</th>\n",
       "      <td>3803269165</td>\n",
       "      <td>5</td>\n",
       "    </tr>\n",
       "    <tr>\n",
       "      <th>299</th>\n",
       "      <td>1230306981</td>\n",
       "      <td>5</td>\n",
       "    </tr>\n",
       "    <tr>\n",
       "      <th>897</th>\n",
       "      <td>3717692402</td>\n",
       "      <td>5</td>\n",
       "    </tr>\n",
       "  </tbody>\n",
       "</table>\n",
       "</div>"
      ],
      "text/plain": [
       "      visitor_id  orders\n",
       "1023  4256040402      11\n",
       "591   2458001652      11\n",
       "569   2378935119       9\n",
       "487   2038680547       8\n",
       "44     199603092       5\n",
       "744   3062433592       5\n",
       "55     237748145       5\n",
       "917   3803269165       5\n",
       "299   1230306981       5\n",
       "897   3717692402       5"
      ]
     },
     "metadata": {},
     "output_type": "display_data"
    },
    {
     "data": {
      "image/png": "[encoded data removed]",
      "text/plain": [
       "<Figure size 720x360 with 1 Axes>"
      ]
     },
     "metadata": {
      "needs_background": "light"
     },
     "output_type": "display_data"
    }
   ],
   "source": [
    "#группируем в таблицу по пользователям, сортируем по колл-ву заказов\n",
    "ordersByUsers = (\n",
    "    orders.groupby('visitor_id', as_index=False)\n",
    "    .agg({'transaction_id': 'nunique'})\n",
    ")\n",
    "#переименовывам столбцы\n",
    "ordersByUsers.columns = ['visitor_id', 'orders']\n",
    "#вывод на экран таблицу с колличеством заказов у пользователей\n",
    "display(ordersByUsers.sort_values(by='orders', ascending=False).head(10))\n",
    "#Cтротм график по колличетсву заказов на пользователя\n",
    "x_values = pd.Series(range(0, len(ordersByUsers['orders'])))\n",
    "plt.figure(figsize=(10,5))\n",
    "plt.scatter(x_values, ordersByUsers['orders']) \n",
    "plt.title('Количество заказов по пользователям')\n",
    "plt.xlabel('Кол-во пользователей')\n",
    "plt.ylabel('Кол-во заказов')\n",
    "plt.show()\n"
   ]
  },
  {
   "cell_type": "markdown",
   "metadata": {},
   "source": [
    "**Вывод:** Большинство пользователей совершали до 2 заказов, также есть достаточное количество пользователей которые делали 3-4 заказа. А вот пользователей с кол-вом заказов больше 4 уже редкие и их можно считать выбросами в данных,т.к. они единичны. Но все таки в основном большинство пользователей делало не более 2 заказов."
   ]
  },
  {
   "cell_type": "markdown",
   "metadata": {},
   "source": [
    "#### 95-й и 99-й перцентили количества заказов на пользователя"
   ]
  },
  {
   "cell_type": "code",
   "execution_count": 14,
   "metadata": {},
   "outputs": [
    {
     "name": "stdout",
     "output_type": "stream",
     "text": [
      "[2. 4.]\n"
     ]
    },
    {
     "data": {
      "text/plain": [
       "2.0"
      ]
     },
     "execution_count": 14,
     "metadata": {},
     "output_type": "execute_result"
    }
   ],
   "source": [
    "#Посчитаем выборочные перцентили количества заказов на одного пользователя:\n",
    "print(np.percentile(ordersByUsers['orders'], [95, 99]))\n",
    "percentile_95_orders=np.percentile(ordersByUsers['orders'], 95).round()\n",
    "percentile_95_orders"
   ]
  },
  {
   "cell_type": "markdown",
   "metadata": {},
   "source": [
    "**Вывод:** Не более 1% пользователей делают больше 4 заказов, и не более 5% пользователей делают более 2 заказов. Разумно выбрать 2 заказа на одного пользователя за верхнюю границу числа заказов, и отсеять аномальных пользователей по ней."
   ]
  },
  {
   "cell_type": "markdown",
   "metadata": {},
   "source": [
    "#### График стоимостей заказов"
   ]
  },
  {
   "cell_type": "code",
   "execution_count": 15,
   "metadata": {},
   "outputs": [
    {
     "data": {
      "image/png": "[encoded data removed]",
      "text/plain": [
       "<Figure size 720x360 with 1 Axes>"
      ]
     },
     "metadata": {
      "needs_background": "light"
     },
     "output_type": "display_data"
    }
   ],
   "source": [
    "#построим график стоимости заказов\n",
    "x_values = pd.Series(range(0, len(orders['revenue'])))\n",
    "plt.figure(figsize=(10,5))\n",
    "plt.scatter(x_values, orders['revenue']) \n",
    "plt.title('Стоимость заказов по пользователям')\n",
    "plt.xlabel('Кол-во пользователей')\n",
    "plt.ylabel('Стоимость заказов')\n",
    "plt.show()"
   ]
  },
  {
   "cell_type": "markdown",
   "metadata": {},
   "source": [
    "**Вывод** На графике суммы заказов подавляющее большинство заказов находится в диапазоне до 20000 р. Однако есть 2 заказа со стоимостью заказов более 1,2 млн и выше 20000. Эти заказы единичны и их можно считать выбросами"
   ]
  },
  {
   "cell_type": "markdown",
   "metadata": {},
   "source": [
    "#### 95-й и 99-й перцентили стоимости заказов"
   ]
  },
  {
   "cell_type": "code",
   "execution_count": 16,
   "metadata": {},
   "outputs": [
    {
     "name": "stdout",
     "output_type": "stream",
     "text": [
      "[28000.  58233.2]\n"
     ]
    },
    {
     "data": {
      "text/plain": [
       "28000.0"
      ]
     },
     "execution_count": 16,
     "metadata": {},
     "output_type": "execute_result"
    }
   ],
   "source": [
    "#Посчитаем выборочные перцентили количества заказов на одного пользователя:\n",
    "print(np.percentile(orders['revenue'], [95, 99]))\n",
    "percentile_95=np.percentile(orders['revenue'], 95).round()\n",
    "percentile_95"
   ]
  },
  {
   "cell_type": "markdown",
   "metadata": {},
   "source": [
    "**Вывод:** Не более чем у 1% пользователей Стоимость заказов не превышает 58233 р, и у не болееч чем 5% пользователей стоимость заказов не превышает 28000 р. Исходя и графика стоимости заказов и полученных персентилей разумнее выбрать верхнюю границу как 28000. Заказы со стоимостью выше этой уже достатоно редкие"
   ]
  },
  {
   "cell_type": "markdown",
   "metadata": {},
   "source": [
    "\n",
    "#### Статистическую значимость различий в среднем количестве заказов на посетителя между группами по «сырым» данным"
   ]
  },
  {
   "cell_type": "markdown",
   "metadata": {},
   "source": [
    "Посчитаем статистическую значимость различий в среднем числе заказов на пользователя и среднем чеке между группами по «сырым» данным — без удаления аномальных пользователей. \n",
    "\n",
    "Для тестирования используем критерий Манна-Уитни\n",
    "\n",
    "Уровень статистической значимости-0,05\n",
    "\n",
    "Сформулируем гипотезы:\n",
    "\n",
    "`Нулевая:` ***Статистически значимых различий в среднем количестве заказов на посетителя между группами по \"сырым\" данным нет.*** \n",
    "\n",
    "`Альтернативная:` ***Статистически значимые различия в среднем количестве заказов на посетителя между группами по \"сырым\" данным есть***"
   ]
  },
  {
   "cell_type": "markdown",
   "metadata": {},
   "source": [
    "-------------"
   ]
  },
  {
   "cell_type": "code",
   "execution_count": 17,
   "metadata": {},
   "outputs": [
    {
     "name": "stdout",
     "output_type": "stream",
     "text": [
      "Статистическая значимость: 0.01679\n",
      "Относительный прирост среднего кол-ва заказов 0.138\n"
     ]
    }
   ],
   "source": [
    "#подготовим данные\n",
    "\n",
    "\n",
    "visitorsADaily = visitors[visitors['group'] == 'A'][['date', 'visitors']]\n",
    "visitorsADaily.columns = ['date', 'visitorsPerDateA']\n",
    "\n",
    "\n",
    "\n",
    "visitorsBDaily = visitors[visitors['group'] == 'B'][['date', 'visitors']]\n",
    "visitorsBDaily.columns = ['date', 'visitorsPerDateB']\n",
    "\n",
    "\n",
    "ordersADaily = (\n",
    "    orders[orders['group'] == 'A'][['date', 'transaction_id', 'visitor_id', 'revenue']]\n",
    "    .groupby('date', as_index=False)\n",
    "    .agg({'transaction_id': pd.Series.nunique, 'revenue': 'sum'})\n",
    ")\n",
    "ordersADaily.columns = ['date', 'ordersPerDateA', 'revenuePerDateA']\n",
    "\n",
    "\n",
    "ordersBDaily = (\n",
    "    orders[orders['group'] == 'B'][['date', 'transaction_id', 'visitor_id', 'revenue']]\n",
    "    .groupby('date', as_index=False)\n",
    "    .agg({'transaction_id': pd.Series.nunique, 'revenue': 'sum'})\n",
    ")\n",
    "ordersBDaily.columns = ['date', 'ordersPerDateB', 'revenuePerDateB']\n",
    "\n",
    "\n",
    "\n",
    "data = (\n",
    "    ordersADaily.merge(\n",
    "        ordersBDaily, left_on='date', right_on='date', how='left'\n",
    "    )\n",
    "    .merge(visitorsADaily, left_on='date', right_on='date', how='left')\n",
    "    .merge(visitorsBDaily, left_on='date', right_on='date', how='left')\n",
    ")\n",
    "\n",
    "\n",
    "ordersByUsersA = (\n",
    "    orders[orders['group'] == 'A']\n",
    "    .groupby('visitor_id', as_index=False)\n",
    "    .agg({'transaction_id': pd.Series.nunique})\n",
    ")\n",
    "ordersByUsersA.columns = ['visitor_id', 'orders']\n",
    "\n",
    "ordersByUsersB = (\n",
    "    orders[orders['group'] == 'B']\n",
    "    .groupby('visitor_id', as_index=False)\n",
    "    .agg({'transaction_id': pd.Series.nunique})\n",
    ")\n",
    "ordersByUsersB.columns = ['visitor_id', 'orders']\n",
    "\n",
    "sampleA = pd.concat(\n",
    "    [\n",
    "        ordersByUsersA['orders'],\n",
    "        pd.Series(\n",
    "            0,\n",
    "            index=np.arange(\n",
    "                data['visitorsPerDateA'].sum() - len(ordersByUsersA['orders'])\n",
    "            ),\n",
    "            name='orders',\n",
    "        ),\n",
    "    ],\n",
    "    axis=0,\n",
    ")\n",
    "\n",
    "sampleB = pd.concat(\n",
    "    [\n",
    "        ordersByUsersB['orders'],\n",
    "        pd.Series(\n",
    "            0,\n",
    "            index=np.arange(\n",
    "                data['visitorsPerDateB'].sum() - len(ordersByUsersB['orders'])\n",
    "            ),\n",
    "            name='orders',\n",
    "        ),\n",
    "    ],\n",
    "    axis=0,\n",
    ")\n",
    "\n",
    "print('Статистическая значимость:',\"{0:.5f}\".format(stats.mannwhitneyu(sampleA, sampleB)[1]))\n",
    "\n",
    "print('Относительный прирост среднего кол-ва заказов',\"{0:.3f}\".format((data['ordersPerDateB'].sum()/data['visitorsPerDateB'].sum())/(data['ordersPerDateA'].sum()/data['visitorsPerDateA'].sum())-1))"
   ]
  },
  {
   "cell_type": "markdown",
   "metadata": {},
   "source": [
    "**Вывод:** \n",
    "\n",
    "* При расчете статистической значимости, применив тест Манна-Уитни, получили значение p-value значительно меньше 0.05, поэтому нулевую гипотезу отвергаем. Это означает, что в среднем количестве заказов между группами есть весомые различия.\n",
    "* Относительный прирост среднего количества заказов группы В к группе А равен 13.8%"
   ]
  },
  {
   "cell_type": "markdown",
   "metadata": {},
   "source": [
    "#### Статистическая значимость различий в среднем чеке заказа между группами по «сырым» данным"
   ]
  },
  {
   "cell_type": "markdown",
   "metadata": {},
   "source": [
    "Также проверим статистическую значимость различий в среднем чеке между группами.\n",
    "Сформулируем гипотезы:\n",
    "\n",
    "`Нулевая гипотеза:` ***различий в среднем чеке между группами нет***\n",
    "\n",
    "`Альтернативная гипотеза:` ***различия в среднем чеке между группами есть***"
   ]
  },
  {
   "cell_type": "code",
   "execution_count": 18,
   "metadata": {},
   "outputs": [
    {
     "name": "stdout",
     "output_type": "stream",
     "text": [
      "Статистическая значимость: 0.729\n",
      "Относительное различие среднего чека 0.259\n"
     ]
    }
   ],
   "source": [
    "print('Статистическая значимость:','{0:.3f}'.format(stats.mannwhitneyu(orders[orders['group']=='A']['revenue'], orders[orders['group']=='B']['revenue'])[1]))\n",
    "print('Относительное различие среднего чека','{0:.3f}'.format(orders[orders['group']=='B']['revenue'].mean()/orders[orders['group']=='A']['revenue'].mean()-1))"
   ]
  },
  {
   "cell_type": "markdown",
   "metadata": {},
   "source": [
    "**Вывод:** \n",
    "* При расчете статистической значимости, применив тест Манна-Уитни, получили значение p-value значительно выше 0.05, поэтому нулевую гипотезу подтверждаем. Это означает, что различий в среднем чеке между группами нет\n",
    "* Относительное различие среднего чека между группами составляет 25%"
   ]
  },
  {
   "cell_type": "markdown",
   "metadata": {},
   "source": [
    "#### Статистическая значимость различий в среднем количестве заказов на посетителя между группами по «очищенным» данным. "
   ]
  },
  {
   "cell_type": "markdown",
   "metadata": {},
   "source": [
    "Проверим статистичекую значимость различий в среднем количестве заказов на посетителя с \"очищенными\" от выбросов данными.\n",
    "\n",
    "Сформулируем гипотезы:\n",
    "\n",
    "`Нулевая:` ***Статистически значимых различий в среднем количестве заказов на посетителя между группами по \"очищенным\" данным нет.***\n",
    "\n",
    "`Алетернативная:` ***Статистически значимые различия в среднем количестве заказов на посетителя между группами по \"очищенным\" данным есть***"
   ]
  },
  {
   "cell_type": "code",
   "execution_count": 19,
   "metadata": {},
   "outputs": [
    {
     "name": "stdout",
     "output_type": "stream",
     "text": [
      "Статистическая значимость: 0.01304\n",
      "Относительный прирост среднего кол-ва заказов 0.173\n"
     ]
    }
   ],
   "source": [
    "\n",
    "usersWithManyOrders = pd.concat(\n",
    "    [\n",
    "        ordersByUsersA[ordersByUsersA['orders'] > percentile_95_orders]['visitor_id'],\n",
    "        ordersByUsersB[ordersByUsersB['orders'] > percentile_95_orders]['visitor_id'],\n",
    "    ],\n",
    "    axis=0,\n",
    ")\n",
    "usersWithExpensiveOrders = orders[orders['revenue'] > percentile_95]['visitor_id']\n",
    "abnormalUsers = (\n",
    "    pd.concat([usersWithManyOrders, usersWithExpensiveOrders], axis=0)\n",
    "    .drop_duplicates()\n",
    "    .sort_values()\n",
    ")\n",
    "\n",
    "sampleAFiltered = pd.concat(\n",
    "    [\n",
    "        ordersByUsersA[\n",
    "            np.logical_not(ordersByUsersA['visitor_id'].isin(abnormalUsers))\n",
    "        ]['orders'],\n",
    "        pd.Series(\n",
    "            0,\n",
    "            index=np.arange(\n",
    "                data['visitorsPerDateA'].sum() - len(ordersByUsersA['orders'])\n",
    "            ),\n",
    "            name='orders',\n",
    "        ),\n",
    "    ],\n",
    "    axis=0,\n",
    ")\n",
    "\n",
    "sampleBFiltered = pd.concat(\n",
    "    [\n",
    "        ordersByUsersB[\n",
    "            np.logical_not(ordersByUsersB['visitor_id'].isin(abnormalUsers))\n",
    "        ]['orders'],\n",
    "        pd.Series(\n",
    "            0,\n",
    "            index=np.arange(\n",
    "                data['visitorsPerDateB'].sum() - len(ordersByUsersB['orders'])\n",
    "            ),\n",
    "            name='orders',\n",
    "        ),\n",
    "    ],\n",
    "    axis=0,\n",
    ") \n",
    "\n",
    "print('Статистическая значимость:','{0:.5f}'.format(stats.mannwhitneyu(sampleAFiltered, sampleBFiltered)[1]))\n",
    "print('Относительный прирост среднего кол-ва заказов','{0:.3f}'.format(sampleBFiltered.mean()/sampleAFiltered.mean()-1)) "
   ]
  },
  {
   "cell_type": "markdown",
   "metadata": {},
   "source": [
    "**Вывод:**\n",
    "* По \"очищенным\" данным значение p-value = 0.01304 (0,01679 по \"сырым\" данным), это также меньше уровня статистической значимости, поэтому гипотезу о том, что различий между группами нет отвергаем. \n",
    "* Относительная разница между группами составила 17.43%- на столько конверсия группы В больше конверсии группы А (13.8% по \"сырым\" данным)\n"
   ]
  },
  {
   "cell_type": "markdown",
   "metadata": {},
   "source": [
    "#### Статистическая значимость различий в среднем чеке заказа между группами по «очищенным» данным."
   ]
  },
  {
   "cell_type": "markdown",
   "metadata": {},
   "source": [
    "Проверим как изменился средний чек после очистки данных\n",
    "\n",
    "Сформулируем гипотезы:\n",
    "\n",
    "`Нулевая:`***статистически значимых различий в среднем чеке заказа между группами нет***\n",
    "\n",
    "`Альтернативная:` ***статистически значимые различия в среднем чеке заказа между группами есть***\n"
   ]
  },
  {
   "cell_type": "code",
   "execution_count": 20,
   "metadata": {},
   "outputs": [
    {
     "name": "stdout",
     "output_type": "stream",
     "text": [
      "Статистическая значимость: 0.738\n",
      "Относительное различие среднего чека -0.020\n"
     ]
    }
   ],
   "source": [
    "print('Статистическая значимость:',\n",
    "    '{0:.3f}'.format(\n",
    "        stats.mannwhitneyu(\n",
    "            orders[\n",
    "                np.logical_and(\n",
    "                    orders['group'] == 'A',\n",
    "                    np.logical_not(orders['visitor_id'].isin(abnormalUsers)),\n",
    "                )\n",
    "            ]['revenue'],\n",
    "            orders[\n",
    "                np.logical_and(\n",
    "                    orders['group'] == 'B',\n",
    "                    np.logical_not(orders['visitor_id'].isin(abnormalUsers)),\n",
    "                )\n",
    "            ]['revenue'],\n",
    "        )[1]\n",
    "    )\n",
    ")\n",
    "\n",
    "print('Относительное различие среднего чека',\n",
    "    \"{0:.3f}\".format(\n",
    "        orders[\n",
    "            np.logical_and(\n",
    "                orders['group'] == 'B',\n",
    "                np.logical_not(orders['visitor_id'].isin(abnormalUsers)),\n",
    "            )\n",
    "        ]['revenue'].mean()\n",
    "        / orders[\n",
    "            np.logical_and(\n",
    "                orders['group'] == 'A',\n",
    "                np.logical_not(orders['visitor_id'].isin(abnormalUsers)),\n",
    "            )\n",
    "        ]['revenue'].mean()\n",
    "        - 1\n",
    "    )\n",
    ")"
   ]
  },
  {
   "cell_type": "markdown",
   "metadata": {},
   "source": [
    "**Вывод:** \n",
    "* По \"очищенным\" данным значение p-value = 0.798 (0,729 по \"сырым\" данным), это также больше уровня статистической значимости, поэтому гипотезу о том, что различий в сумме среднего чека между группами нет подтверждаем\n",
    "* Относительная разница в среднем чеке между группами составила -2%- на столько средний чек группы В больше среднего чека группы А (25.9% по \"сырым\" данным). После очистки данных сильное отличие в среднем чеке между группам ушло."
   ]
  },
  {
   "cell_type": "markdown",
   "metadata": {},
   "source": [
    "### Результаты теста"
   ]
  },
  {
   "cell_type": "markdown",
   "metadata": {},
   "source": [
    "С отделом маркетинга было подготовлено 9 гипотез. С помощью популярных фреймворков ICE и RICE былв выбра приоритетная гипотеза:\n",
    "`Добавить форму подписки на все основные страницы, чтобы собрать базу клиентов для email-рассылок`\n",
    "\n",
    "Был проведение А/В тест по данной гипотезы, в результате которого можно слелать следюющие выводы:\n",
    "* Кумулятивная выручка группы В стабильно выше выручки группы А. Есть большой скачок выручки группы В после 17.08.2019.\n",
    "* Средние чеки в группах нестабильны. Но все же средний чек группы В выше чем у группы А, и резко растет после 17.08.2019\n",
    "* Кумулятивный средний чек группы В стабильно выше, чем у группы А\n",
    "* Подавляющее большинство пользователей слело не более 2 заказов, реже делают 4 заказа и более\n",
    "* У большинсва пользователей сумма заказа не превышает 58000 р. Но при этом есть аномальное значение в группе В, которое вероятно повлияло не резкий скачок среднего чека у группе.\n",
    "\n",
    "\n",
    "Также произвели расчет статистической значимости различий в среднем количестве заказов и в сумме среднего чека между группами по «сырым» и \"очищенным\" от выбросов данным:\n",
    "* Статистическая значимость проверялась тестом Манна-Уитни. Гипотеза о равенсве среднего чека между группами отвергнули. Относительная разница между группами составила 13,8%\n",
    "* После \"очистки\" данных результат оказался таким же: Среднее количество заказов отличается, а относительная разница составила 17,4%ю. Гипотеза о том, что различий в сумме среднего чека между группами нет, не отвергнута.  Относительная разница суммы среднего чека между группами составила -2% (против 25.9% по \"сырым\" данным)\n",
    "\n",
    "`Вывод:`\n",
    "После проведения теста можно сказать, что сумма среднего чека не изменилась. Также результаты тестирования говорят о том, что изменилась конверсия 13-17%. По показателям в тесте выигрвает группа В.\n",
    "Рекомендуем остановить тест, т.к. зафиксировано отсутсвие различий в среднем чеке и повышение среднего кол-ва заказов"
   ]
  },
  {
   "cell_type": "markdown",
   "metadata": {},
   "source": [
    "------------"
   ]
  },
  {
   "cell_type": "code",
   "execution_count": null,
   "metadata": {},
   "outputs": [],
   "source": []
  }
 ],
 "metadata": {
  "ExecuteTimeLog": [
   {
    "duration": 52,
    "start_time": "2023-04-10T17:31:52.239Z"
   },
   {
    "duration": 471,
    "start_time": "2023-04-10T17:33:59.293Z"
   },
   {
    "duration": 33,
    "start_time": "2023-04-10T17:34:09.053Z"
   },
   {
    "duration": 29,
    "start_time": "2023-04-10T17:35:01.889Z"
   },
   {
    "duration": 12,
    "start_time": "2023-04-10T17:37:58.083Z"
   },
   {
    "duration": 12,
    "start_time": "2023-04-10T17:39:25.154Z"
   },
   {
    "duration": 68,
    "start_time": "2023-04-10T17:39:50.494Z"
   },
   {
    "duration": 95,
    "start_time": "2023-04-10T17:40:04.375Z"
   },
   {
    "duration": 92,
    "start_time": "2023-04-10T17:40:24.143Z"
   },
   {
    "duration": 8,
    "start_time": "2023-04-10T17:40:29.758Z"
   },
   {
    "duration": 7,
    "start_time": "2023-04-10T17:40:39.816Z"
   },
   {
    "duration": 13,
    "start_time": "2023-04-10T17:42:36.000Z"
   },
   {
    "duration": 14,
    "start_time": "2023-04-10T17:43:01.068Z"
   },
   {
    "duration": 18,
    "start_time": "2023-04-10T17:43:14.670Z"
   },
   {
    "duration": 460,
    "start_time": "2023-04-10T18:25:30.885Z"
   },
   {
    "duration": 71,
    "start_time": "2023-04-10T18:25:31.347Z"
   },
   {
    "duration": 21,
    "start_time": "2023-04-10T18:25:41.336Z"
   },
   {
    "duration": 18,
    "start_time": "2023-04-10T18:28:11.164Z"
   },
   {
    "duration": 16,
    "start_time": "2023-04-10T18:28:43.800Z"
   },
   {
    "duration": 19,
    "start_time": "2023-04-10T18:28:54.934Z"
   },
   {
    "duration": 476,
    "start_time": "2023-04-10T18:44:19.153Z"
   },
   {
    "duration": 1181,
    "start_time": "2023-04-10T18:44:19.632Z"
   },
   {
    "duration": 32,
    "start_time": "2023-04-10T18:47:05.329Z"
   },
   {
    "duration": 452,
    "start_time": "2023-04-10T18:47:13.834Z"
   },
   {
    "duration": 21,
    "start_time": "2023-04-10T18:47:14.288Z"
   },
   {
    "duration": 75,
    "start_time": "2023-04-10T18:48:29.200Z"
   },
   {
    "duration": 127,
    "start_time": "2023-04-10T18:50:13.310Z"
   },
   {
    "duration": 23,
    "start_time": "2023-04-10T18:51:07.956Z"
   },
   {
    "duration": 33,
    "start_time": "2023-04-10T18:51:21.610Z"
   },
   {
    "duration": 28,
    "start_time": "2023-04-10T18:58:22.011Z"
   },
   {
    "duration": 29,
    "start_time": "2023-04-10T18:58:30.429Z"
   },
   {
    "duration": 503,
    "start_time": "2023-04-10T18:58:44.117Z"
   },
   {
    "duration": 25,
    "start_time": "2023-04-10T18:58:44.622Z"
   },
   {
    "duration": 95,
    "start_time": "2023-04-10T19:03:52.863Z"
   },
   {
    "duration": 28,
    "start_time": "2023-04-10T19:04:16.553Z"
   },
   {
    "duration": 25,
    "start_time": "2023-04-10T19:05:28.010Z"
   },
   {
    "duration": 30,
    "start_time": "2023-04-10T19:05:36.742Z"
   },
   {
    "duration": 37,
    "start_time": "2023-04-10T19:05:51.270Z"
   },
   {
    "duration": 43,
    "start_time": "2023-04-10T19:06:02.307Z"
   },
   {
    "duration": 28,
    "start_time": "2023-04-10T19:11:13.894Z"
   },
   {
    "duration": 28,
    "start_time": "2023-04-10T19:12:17.254Z"
   },
   {
    "duration": 28,
    "start_time": "2023-04-10T19:15:12.829Z"
   },
   {
    "duration": 96,
    "start_time": "2023-04-10T19:32:20.527Z"
   },
   {
    "duration": 48,
    "start_time": "2023-04-10T19:32:28.282Z"
   },
   {
    "duration": 43,
    "start_time": "2023-04-10T19:32:57.902Z"
   },
   {
    "duration": 47,
    "start_time": "2023-04-10T19:33:04.404Z"
   },
   {
    "duration": 118,
    "start_time": "2023-04-10T19:41:20.354Z"
   },
   {
    "duration": 90,
    "start_time": "2023-04-10T19:41:37.742Z"
   },
   {
    "duration": 595,
    "start_time": "2023-04-10T20:03:29.817Z"
   },
   {
    "duration": 20,
    "start_time": "2023-04-10T20:03:30.415Z"
   },
   {
    "duration": 113,
    "start_time": "2023-04-10T20:03:30.437Z"
   },
   {
    "duration": 28,
    "start_time": "2023-04-10T20:05:50.941Z"
   },
   {
    "duration": 457,
    "start_time": "2023-04-10T20:05:58.720Z"
   },
   {
    "duration": 24,
    "start_time": "2023-04-10T20:05:59.179Z"
   },
   {
    "duration": 113,
    "start_time": "2023-04-10T20:05:59.210Z"
   },
   {
    "duration": 3,
    "start_time": "2023-04-10T20:07:56.522Z"
   },
   {
    "duration": 6,
    "start_time": "2023-04-10T20:11:04.337Z"
   },
   {
    "duration": 450,
    "start_time": "2023-04-10T20:15:15.762Z"
   },
   {
    "duration": 20,
    "start_time": "2023-04-10T20:15:16.214Z"
   },
   {
    "duration": 135,
    "start_time": "2023-04-10T20:15:16.236Z"
   },
   {
    "duration": 0,
    "start_time": "2023-04-10T20:15:16.372Z"
   },
   {
    "duration": 0,
    "start_time": "2023-04-10T20:15:16.374Z"
   },
   {
    "duration": 95,
    "start_time": "2023-04-10T20:15:30.349Z"
   },
   {
    "duration": 487,
    "start_time": "2023-04-10T20:17:46.973Z"
   },
   {
    "duration": 20,
    "start_time": "2023-04-10T20:17:47.462Z"
   },
   {
    "duration": 89,
    "start_time": "2023-04-10T20:17:47.484Z"
   },
   {
    "duration": 8,
    "start_time": "2023-04-10T20:17:47.574Z"
   },
   {
    "duration": 7,
    "start_time": "2023-04-10T20:17:47.584Z"
   },
   {
    "duration": 93,
    "start_time": "2023-04-10T20:18:16.029Z"
   },
   {
    "duration": 7,
    "start_time": "2023-04-10T20:18:48.870Z"
   },
   {
    "duration": 5470,
    "start_time": "2023-04-10T20:21:36.148Z"
   },
   {
    "duration": 0,
    "start_time": "2023-04-10T20:21:41.620Z"
   },
   {
    "duration": 0,
    "start_time": "2023-04-10T20:21:41.622Z"
   },
   {
    "duration": 0,
    "start_time": "2023-04-10T20:21:41.623Z"
   },
   {
    "duration": 0,
    "start_time": "2023-04-10T20:21:41.624Z"
   },
   {
    "duration": 440,
    "start_time": "2023-04-10T20:22:08.025Z"
   },
   {
    "duration": 20,
    "start_time": "2023-04-10T20:22:08.467Z"
   },
   {
    "duration": 118,
    "start_time": "2023-04-10T20:22:08.492Z"
   },
   {
    "duration": 6,
    "start_time": "2023-04-10T20:22:08.612Z"
   },
   {
    "duration": 8,
    "start_time": "2023-04-10T20:22:08.620Z"
   },
   {
    "duration": 846,
    "start_time": "2023-04-10T20:30:59.127Z"
   },
   {
    "duration": 45,
    "start_time": "2023-04-10T20:30:59.975Z"
   },
   {
    "duration": 28,
    "start_time": "2023-04-10T20:31:00.022Z"
   },
   {
    "duration": 127,
    "start_time": "2023-04-10T20:31:00.052Z"
   },
   {
    "duration": 24,
    "start_time": "2023-04-10T20:31:00.182Z"
   },
   {
    "duration": 11,
    "start_time": "2023-04-10T20:31:00.209Z"
   },
   {
    "duration": 105,
    "start_time": "2023-04-10T20:34:34.216Z"
   },
   {
    "duration": 802,
    "start_time": "2023-04-10T20:35:56.932Z"
   },
   {
    "duration": 599,
    "start_time": "2023-04-10T20:36:25.930Z"
   },
   {
    "duration": 342,
    "start_time": "2023-04-10T20:38:04.255Z"
   },
   {
    "duration": 699,
    "start_time": "2023-04-10T20:38:26.673Z"
   },
   {
    "duration": 48,
    "start_time": "2023-04-10T20:38:27.374Z"
   },
   {
    "duration": 30,
    "start_time": "2023-04-10T20:38:27.424Z"
   },
   {
    "duration": 110,
    "start_time": "2023-04-10T20:38:27.456Z"
   },
   {
    "duration": 6,
    "start_time": "2023-04-10T20:38:27.569Z"
   },
   {
    "duration": 16,
    "start_time": "2023-04-10T20:38:27.594Z"
   },
   {
    "duration": 402,
    "start_time": "2023-04-10T20:38:27.612Z"
   },
   {
    "duration": 405,
    "start_time": "2023-04-10T20:43:22.156Z"
   },
   {
    "duration": 97,
    "start_time": "2023-04-10T20:44:17.765Z"
   },
   {
    "duration": 85,
    "start_time": "2023-04-10T20:44:32.118Z"
   },
   {
    "duration": 674,
    "start_time": "2023-04-10T20:44:43.862Z"
   },
   {
    "duration": 33,
    "start_time": "2023-04-10T20:44:44.539Z"
   },
   {
    "duration": 36,
    "start_time": "2023-04-10T20:44:44.573Z"
   },
   {
    "duration": 111,
    "start_time": "2023-04-10T20:44:44.611Z"
   },
   {
    "duration": 7,
    "start_time": "2023-04-10T20:44:44.724Z"
   },
   {
    "duration": 12,
    "start_time": "2023-04-10T20:44:44.732Z"
   },
   {
    "duration": 91,
    "start_time": "2023-04-10T20:44:44.746Z"
   },
   {
    "duration": 610,
    "start_time": "2023-04-10T20:45:02.584Z"
   },
   {
    "duration": 1804,
    "start_time": "2023-04-10T20:47:21.722Z"
   },
   {
    "duration": 556,
    "start_time": "2023-04-10T20:49:18.985Z"
   },
   {
    "duration": 715,
    "start_time": "2023-04-10T20:50:21.479Z"
   },
   {
    "duration": 513,
    "start_time": "2023-04-10T20:51:32.305Z"
   },
   {
    "duration": 510,
    "start_time": "2023-04-10T20:53:40.123Z"
   },
   {
    "duration": 498,
    "start_time": "2023-04-10T20:54:35.728Z"
   },
   {
    "duration": 499,
    "start_time": "2023-04-10T20:55:56.254Z"
   },
   {
    "duration": 533,
    "start_time": "2023-04-10T20:56:23.410Z"
   },
   {
    "duration": 534,
    "start_time": "2023-04-10T20:56:39.477Z"
   },
   {
    "duration": 224,
    "start_time": "2023-04-10T21:03:47.250Z"
   },
   {
    "duration": 222,
    "start_time": "2023-04-10T21:03:55.602Z"
   },
   {
    "duration": 881,
    "start_time": "2023-04-11T18:41:15.505Z"
   },
   {
    "duration": 109,
    "start_time": "2023-04-11T18:41:16.389Z"
   },
   {
    "duration": 20,
    "start_time": "2023-04-11T18:41:16.499Z"
   },
   {
    "duration": 245,
    "start_time": "2023-04-11T18:41:16.521Z"
   },
   {
    "duration": 7,
    "start_time": "2023-04-11T18:41:16.767Z"
   },
   {
    "duration": 22,
    "start_time": "2023-04-11T18:41:16.776Z"
   },
   {
    "duration": 621,
    "start_time": "2023-04-11T18:41:16.819Z"
   },
   {
    "duration": 239,
    "start_time": "2023-04-11T18:41:17.442Z"
   },
   {
    "duration": 335,
    "start_time": "2023-04-11T18:50:53.220Z"
   },
   {
    "duration": 375,
    "start_time": "2023-04-11T18:51:16.579Z"
   },
   {
    "duration": 391,
    "start_time": "2023-04-11T18:53:09.886Z"
   },
   {
    "duration": 338,
    "start_time": "2023-04-11T18:55:24.085Z"
   },
   {
    "duration": 340,
    "start_time": "2023-04-11T18:57:13.128Z"
   },
   {
    "duration": 351,
    "start_time": "2023-04-11T19:13:00.444Z"
   },
   {
    "duration": 272,
    "start_time": "2023-04-11T19:14:30.112Z"
   },
   {
    "duration": 393,
    "start_time": "2023-04-11T19:24:38.548Z"
   },
   {
    "duration": 344,
    "start_time": "2023-04-11T19:25:12.268Z"
   },
   {
    "duration": 317,
    "start_time": "2023-04-11T19:25:24.742Z"
   },
   {
    "duration": 338,
    "start_time": "2023-04-11T19:26:21.763Z"
   },
   {
    "duration": 410,
    "start_time": "2023-04-11T19:27:02.754Z"
   },
   {
    "duration": 318,
    "start_time": "2023-04-11T19:27:58.258Z"
   },
   {
    "duration": 298,
    "start_time": "2023-04-11T19:28:04.459Z"
   },
   {
    "duration": 349,
    "start_time": "2023-04-11T19:28:21.397Z"
   },
   {
    "duration": 298,
    "start_time": "2023-04-11T19:28:35.856Z"
   },
   {
    "duration": 303,
    "start_time": "2023-04-11T19:38:02.639Z"
   },
   {
    "duration": 347,
    "start_time": "2023-04-11T19:40:10.902Z"
   },
   {
    "duration": 7,
    "start_time": "2023-04-11T19:47:01.394Z"
   },
   {
    "duration": 145,
    "start_time": "2023-04-11T19:49:00.898Z"
   },
   {
    "duration": 159,
    "start_time": "2023-04-11T19:49:23.357Z"
   },
   {
    "duration": 196,
    "start_time": "2023-04-11T19:57:18.627Z"
   },
   {
    "duration": 681,
    "start_time": "2023-04-11T19:57:31.356Z"
   },
   {
    "duration": 39,
    "start_time": "2023-04-11T19:57:32.039Z"
   },
   {
    "duration": 21,
    "start_time": "2023-04-11T19:57:32.080Z"
   },
   {
    "duration": 118,
    "start_time": "2023-04-11T19:57:32.103Z"
   },
   {
    "duration": 6,
    "start_time": "2023-04-11T19:57:32.223Z"
   },
   {
    "duration": 20,
    "start_time": "2023-04-11T19:57:32.231Z"
   },
   {
    "duration": 599,
    "start_time": "2023-04-11T19:57:32.253Z"
   },
   {
    "duration": 238,
    "start_time": "2023-04-11T19:57:32.853Z"
   },
   {
    "duration": 374,
    "start_time": "2023-04-11T19:57:33.093Z"
   },
   {
    "duration": 350,
    "start_time": "2023-04-11T19:57:33.469Z"
   },
   {
    "duration": 337,
    "start_time": "2023-04-11T19:57:33.822Z"
   },
   {
    "duration": 496,
    "start_time": "2023-04-11T19:57:34.161Z"
   },
   {
    "duration": 0,
    "start_time": "2023-04-11T19:57:34.659Z"
   },
   {
    "duration": 249,
    "start_time": "2023-04-11T20:02:53.924Z"
   },
   {
    "duration": 8,
    "start_time": "2023-04-11T20:03:17.576Z"
   },
   {
    "duration": 121,
    "start_time": "2023-04-11T20:03:30.269Z"
   },
   {
    "duration": 119,
    "start_time": "2023-04-11T20:03:42.386Z"
   },
   {
    "duration": 111,
    "start_time": "2023-04-11T20:03:51.741Z"
   },
   {
    "duration": 157,
    "start_time": "2023-04-11T20:07:33.160Z"
   },
   {
    "duration": 50,
    "start_time": "2023-04-11T20:08:01.806Z"
   },
   {
    "duration": 158,
    "start_time": "2023-04-11T20:08:12.780Z"
   },
   {
    "duration": 160,
    "start_time": "2023-04-11T20:08:24.820Z"
   },
   {
    "duration": 147,
    "start_time": "2023-04-11T20:08:53.484Z"
   },
   {
    "duration": 266,
    "start_time": "2023-04-11T20:12:17.539Z"
   },
   {
    "duration": 222,
    "start_time": "2023-04-11T20:13:46.209Z"
   },
   {
    "duration": 169,
    "start_time": "2023-04-11T20:15:28.718Z"
   },
   {
    "duration": 5,
    "start_time": "2023-04-11T20:20:30.528Z"
   },
   {
    "duration": 6,
    "start_time": "2023-04-11T20:21:43.835Z"
   },
   {
    "duration": 5,
    "start_time": "2023-04-11T20:21:55.848Z"
   },
   {
    "duration": 4,
    "start_time": "2023-04-11T20:22:44.494Z"
   },
   {
    "duration": 4,
    "start_time": "2023-04-11T20:29:24.922Z"
   },
   {
    "duration": 114,
    "start_time": "2023-04-11T20:34:28.008Z"
   },
   {
    "duration": 368,
    "start_time": "2023-04-11T20:37:05.815Z"
   },
   {
    "duration": 1177,
    "start_time": "2023-04-11T20:37:52.523Z"
   },
   {
    "duration": 40,
    "start_time": "2023-04-11T20:37:53.702Z"
   },
   {
    "duration": 21,
    "start_time": "2023-04-11T20:37:53.744Z"
   },
   {
    "duration": 109,
    "start_time": "2023-04-11T20:37:53.767Z"
   },
   {
    "duration": 6,
    "start_time": "2023-04-11T20:37:53.879Z"
   },
   {
    "duration": 32,
    "start_time": "2023-04-11T20:37:53.886Z"
   },
   {
    "duration": 629,
    "start_time": "2023-04-11T20:37:53.920Z"
   },
   {
    "duration": 240,
    "start_time": "2023-04-11T20:37:54.551Z"
   },
   {
    "duration": 385,
    "start_time": "2023-04-11T20:37:54.793Z"
   },
   {
    "duration": 308,
    "start_time": "2023-04-11T20:37:55.180Z"
   },
   {
    "duration": 361,
    "start_time": "2023-04-11T20:37:55.489Z"
   },
   {
    "duration": 169,
    "start_time": "2023-04-11T20:37:55.851Z"
   },
   {
    "duration": 5,
    "start_time": "2023-04-11T20:37:56.021Z"
   },
   {
    "duration": 409,
    "start_time": "2023-04-11T20:37:56.030Z"
   },
   {
    "duration": 365,
    "start_time": "2023-04-11T20:38:18.489Z"
   },
   {
    "duration": 375,
    "start_time": "2023-04-11T20:52:36.467Z"
   },
   {
    "duration": 382,
    "start_time": "2023-04-11T20:53:23.960Z"
   },
   {
    "duration": 12,
    "start_time": "2023-04-11T21:04:42.388Z"
   },
   {
    "duration": 13,
    "start_time": "2023-04-11T21:05:14.783Z"
   },
   {
    "duration": 12,
    "start_time": "2023-04-11T21:05:33.762Z"
   },
   {
    "duration": 1306,
    "start_time": "2023-04-11T21:21:38.949Z"
   },
   {
    "duration": 168,
    "start_time": "2023-04-11T21:22:00.531Z"
   },
   {
    "duration": 219,
    "start_time": "2023-04-11T21:30:45.232Z"
   },
   {
    "duration": 163,
    "start_time": "2023-04-11T21:31:10.258Z"
   },
   {
    "duration": 261,
    "start_time": "2023-04-11T21:31:18.532Z"
   },
   {
    "duration": 294,
    "start_time": "2023-04-11T21:31:30.581Z"
   },
   {
    "duration": 281,
    "start_time": "2023-04-11T21:35:10.413Z"
   },
   {
    "duration": 294,
    "start_time": "2023-04-11T21:37:25.226Z"
   },
   {
    "duration": 1350,
    "start_time": "2023-04-11T21:46:38.199Z"
   },
   {
    "duration": 1113,
    "start_time": "2023-04-11T21:47:08.568Z"
   },
   {
    "duration": 5,
    "start_time": "2023-04-11T21:49:09.972Z"
   },
   {
    "duration": 465,
    "start_time": "2023-04-11T21:54:30.855Z"
   },
   {
    "duration": 378,
    "start_time": "2023-04-11T21:54:40.807Z"
   },
   {
    "duration": 143,
    "start_time": "2023-04-11T22:00:00.496Z"
   },
   {
    "duration": 135,
    "start_time": "2023-04-11T22:00:24.407Z"
   },
   {
    "duration": 132,
    "start_time": "2023-04-11T22:00:38.493Z"
   },
   {
    "duration": 145,
    "start_time": "2023-04-11T22:02:25.301Z"
   },
   {
    "duration": 34,
    "start_time": "2023-04-11T22:06:47.989Z"
   },
   {
    "duration": 37,
    "start_time": "2023-04-11T22:12:46.030Z"
   },
   {
    "duration": 1114,
    "start_time": "2023-04-11T22:21:36.922Z"
   },
   {
    "duration": 14,
    "start_time": "2023-04-11T22:22:05.124Z"
   },
   {
    "duration": 16,
    "start_time": "2023-04-11T22:24:06.638Z"
   },
   {
    "duration": 1118,
    "start_time": "2023-04-11T22:48:11.082Z"
   },
   {
    "duration": 40,
    "start_time": "2023-04-11T22:48:12.202Z"
   },
   {
    "duration": 21,
    "start_time": "2023-04-11T22:48:12.244Z"
   },
   {
    "duration": 106,
    "start_time": "2023-04-11T22:48:12.267Z"
   },
   {
    "duration": 5,
    "start_time": "2023-04-11T22:48:12.375Z"
   },
   {
    "duration": 37,
    "start_time": "2023-04-11T22:48:12.382Z"
   },
   {
    "duration": 630,
    "start_time": "2023-04-11T22:48:12.422Z"
   },
   {
    "duration": 243,
    "start_time": "2023-04-11T22:48:13.054Z"
   },
   {
    "duration": 356,
    "start_time": "2023-04-11T22:48:13.299Z"
   },
   {
    "duration": 311,
    "start_time": "2023-04-11T22:48:13.657Z"
   },
   {
    "duration": 305,
    "start_time": "2023-04-11T22:48:13.970Z"
   },
   {
    "duration": 161,
    "start_time": "2023-04-11T22:48:14.277Z"
   },
   {
    "duration": 4,
    "start_time": "2023-04-11T22:48:14.440Z"
   },
   {
    "duration": 167,
    "start_time": "2023-04-11T22:48:14.445Z"
   },
   {
    "duration": 4,
    "start_time": "2023-04-11T22:48:14.617Z"
   },
   {
    "duration": 377,
    "start_time": "2023-04-11T22:48:14.623Z"
   },
   {
    "duration": 15,
    "start_time": "2023-04-11T22:48:15.002Z"
   },
   {
    "duration": 83,
    "start_time": "2023-04-11T22:48:15.019Z"
   },
   {
    "duration": 13,
    "start_time": "2023-04-11T22:48:15.104Z"
   },
   {
    "duration": 1013,
    "start_time": "2023-04-12T02:23:41.748Z"
   },
   {
    "duration": 87,
    "start_time": "2023-04-12T02:23:42.763Z"
   },
   {
    "duration": 16,
    "start_time": "2023-04-12T02:23:42.851Z"
   },
   {
    "duration": 194,
    "start_time": "2023-04-12T02:23:42.868Z"
   },
   {
    "duration": 4,
    "start_time": "2023-04-12T02:23:43.064Z"
   },
   {
    "duration": 10,
    "start_time": "2023-04-12T02:23:43.070Z"
   },
   {
    "duration": 558,
    "start_time": "2023-04-12T02:23:43.081Z"
   },
   {
    "duration": 208,
    "start_time": "2023-04-12T02:23:43.641Z"
   },
   {
    "duration": 315,
    "start_time": "2023-04-12T02:23:43.851Z"
   },
   {
    "duration": 235,
    "start_time": "2023-04-12T02:23:44.168Z"
   },
   {
    "duration": 340,
    "start_time": "2023-04-12T02:23:44.405Z"
   },
   {
    "duration": 137,
    "start_time": "2023-04-12T02:23:44.747Z"
   },
   {
    "duration": 4,
    "start_time": "2023-04-12T02:23:44.886Z"
   },
   {
    "duration": 145,
    "start_time": "2023-04-12T02:23:44.893Z"
   },
   {
    "duration": 4,
    "start_time": "2023-04-12T02:23:45.040Z"
   },
   {
    "duration": 354,
    "start_time": "2023-04-12T02:23:45.045Z"
   },
   {
    "duration": 12,
    "start_time": "2023-04-12T02:23:45.400Z"
   },
   {
    "duration": 52,
    "start_time": "2023-04-12T02:23:45.416Z"
   },
   {
    "duration": 14,
    "start_time": "2023-04-12T02:23:45.469Z"
   },
   {
    "duration": 51,
    "start_time": "2023-04-12T19:16:13.169Z"
   },
   {
    "duration": 1231,
    "start_time": "2023-04-12T19:16:21.211Z"
   },
   {
    "duration": 87,
    "start_time": "2023-04-12T19:16:22.444Z"
   },
   {
    "duration": 95,
    "start_time": "2023-04-12T19:16:22.532Z"
   },
   {
    "duration": 0,
    "start_time": "2023-04-12T19:16:22.630Z"
   },
   {
    "duration": 0,
    "start_time": "2023-04-12T19:16:22.631Z"
   },
   {
    "duration": 0,
    "start_time": "2023-04-12T19:16:22.633Z"
   },
   {
    "duration": 0,
    "start_time": "2023-04-12T19:16:22.634Z"
   },
   {
    "duration": 0,
    "start_time": "2023-04-12T19:16:22.635Z"
   },
   {
    "duration": 0,
    "start_time": "2023-04-12T19:16:22.636Z"
   },
   {
    "duration": 0,
    "start_time": "2023-04-12T19:16:22.637Z"
   },
   {
    "duration": 0,
    "start_time": "2023-04-12T19:16:22.639Z"
   },
   {
    "duration": 0,
    "start_time": "2023-04-12T19:16:22.640Z"
   },
   {
    "duration": 0,
    "start_time": "2023-04-12T19:16:22.641Z"
   },
   {
    "duration": 0,
    "start_time": "2023-04-12T19:16:22.641Z"
   },
   {
    "duration": 0,
    "start_time": "2023-04-12T19:16:22.643Z"
   },
   {
    "duration": 0,
    "start_time": "2023-04-12T19:16:22.644Z"
   },
   {
    "duration": 0,
    "start_time": "2023-04-12T19:16:22.645Z"
   },
   {
    "duration": 0,
    "start_time": "2023-04-12T19:16:22.647Z"
   },
   {
    "duration": 1,
    "start_time": "2023-04-12T19:16:22.647Z"
   },
   {
    "duration": 19,
    "start_time": "2023-04-12T19:19:20.577Z"
   },
   {
    "duration": 69,
    "start_time": "2023-04-12T19:21:08.720Z"
   },
   {
    "duration": 1061,
    "start_time": "2023-04-12T19:36:58.486Z"
   },
   {
    "duration": 38,
    "start_time": "2023-04-12T19:36:59.549Z"
   },
   {
    "duration": 69,
    "start_time": "2023-04-12T19:36:59.589Z"
   },
   {
    "duration": 263,
    "start_time": "2023-04-12T19:36:59.659Z"
   },
   {
    "duration": 6,
    "start_time": "2023-04-12T19:36:59.924Z"
   },
   {
    "duration": 15,
    "start_time": "2023-04-12T19:36:59.932Z"
   },
   {
    "duration": 645,
    "start_time": "2023-04-12T19:36:59.949Z"
   },
   {
    "duration": 256,
    "start_time": "2023-04-12T19:37:00.596Z"
   },
   {
    "duration": 383,
    "start_time": "2023-04-12T19:37:00.854Z"
   },
   {
    "duration": 281,
    "start_time": "2023-04-12T19:37:01.239Z"
   },
   {
    "duration": 313,
    "start_time": "2023-04-12T19:37:01.522Z"
   },
   {
    "duration": 152,
    "start_time": "2023-04-12T19:37:01.836Z"
   },
   {
    "duration": 4,
    "start_time": "2023-04-12T19:37:01.989Z"
   },
   {
    "duration": 193,
    "start_time": "2023-04-12T19:37:01.994Z"
   },
   {
    "duration": 6,
    "start_time": "2023-04-12T19:37:02.189Z"
   },
   {
    "duration": 370,
    "start_time": "2023-04-12T19:37:02.197Z"
   },
   {
    "duration": 19,
    "start_time": "2023-04-12T19:37:02.568Z"
   },
   {
    "duration": 47,
    "start_time": "2023-04-12T19:37:02.589Z"
   },
   {
    "duration": 18,
    "start_time": "2023-04-12T19:37:02.638Z"
   },
   {
    "duration": 90,
    "start_time": "2023-04-13T19:18:09.860Z"
   },
   {
    "duration": 1784,
    "start_time": "2023-04-13T19:18:16.466Z"
   },
   {
    "duration": 118,
    "start_time": "2023-04-13T19:18:18.252Z"
   },
   {
    "duration": 28,
    "start_time": "2023-04-13T19:18:18.375Z"
   },
   {
    "duration": 265,
    "start_time": "2023-04-13T19:18:18.406Z"
   },
   {
    "duration": 9,
    "start_time": "2023-04-13T19:18:18.673Z"
   },
   {
    "duration": 12,
    "start_time": "2023-04-13T19:18:18.684Z"
   },
   {
    "duration": 426,
    "start_time": "2023-04-13T19:18:18.698Z"
   },
   {
    "duration": 474,
    "start_time": "2023-04-13T19:18:19.126Z"
   },
   {
    "duration": 354,
    "start_time": "2023-04-13T19:18:19.602Z"
   },
   {
    "duration": 395,
    "start_time": "2023-04-13T19:18:19.960Z"
   },
   {
    "duration": 300,
    "start_time": "2023-04-13T19:18:20.356Z"
   },
   {
    "duration": 387,
    "start_time": "2023-04-13T19:18:20.658Z"
   },
   {
    "duration": 203,
    "start_time": "2023-04-13T19:18:21.047Z"
   },
   {
    "duration": 5,
    "start_time": "2023-04-13T19:18:21.251Z"
   },
   {
    "duration": 221,
    "start_time": "2023-04-13T19:18:21.258Z"
   },
   {
    "duration": 5,
    "start_time": "2023-04-13T19:18:21.482Z"
   },
   {
    "duration": 491,
    "start_time": "2023-04-13T19:18:21.489Z"
   },
   {
    "duration": 13,
    "start_time": "2023-04-13T19:18:21.982Z"
   },
   {
    "duration": 78,
    "start_time": "2023-04-13T19:18:21.997Z"
   },
   {
    "duration": 15,
    "start_time": "2023-04-13T19:18:22.077Z"
   },
   {
    "duration": 377,
    "start_time": "2023-04-13T19:19:41.643Z"
   },
   {
    "duration": 473,
    "start_time": "2023-04-13T19:19:54.656Z"
   },
   {
    "duration": 406,
    "start_time": "2023-04-13T19:20:15.562Z"
   },
   {
    "duration": 123,
    "start_time": "2023-04-13T19:23:58.813Z"
   },
   {
    "duration": 279,
    "start_time": "2023-04-13T19:24:09.650Z"
   },
   {
    "duration": 293,
    "start_time": "2023-04-13T19:25:52.045Z"
   },
   {
    "duration": 303,
    "start_time": "2023-04-13T19:26:07.451Z"
   },
   {
    "duration": 237,
    "start_time": "2023-04-13T19:26:48.535Z"
   },
   {
    "duration": 141,
    "start_time": "2023-04-13T19:27:24.097Z"
   },
   {
    "duration": 378,
    "start_time": "2023-04-13T19:29:01.887Z"
   },
   {
    "duration": 310,
    "start_time": "2023-04-13T19:29:36.057Z"
   },
   {
    "duration": 95,
    "start_time": "2023-04-13T19:30:12.710Z"
   },
   {
    "duration": 169,
    "start_time": "2023-04-13T19:38:26.708Z"
   },
   {
    "duration": 1210,
    "start_time": "2023-04-13T19:38:43.993Z"
   },
   {
    "duration": 55,
    "start_time": "2023-04-13T19:38:45.205Z"
   },
   {
    "duration": 24,
    "start_time": "2023-04-13T19:38:45.262Z"
   },
   {
    "duration": 113,
    "start_time": "2023-04-13T19:38:45.288Z"
   },
   {
    "duration": 7,
    "start_time": "2023-04-13T19:38:45.405Z"
   },
   {
    "duration": 23,
    "start_time": "2023-04-13T19:38:45.414Z"
   },
   {
    "duration": 293,
    "start_time": "2023-04-13T19:38:45.440Z"
   },
   {
    "duration": 321,
    "start_time": "2023-04-13T19:38:45.734Z"
   },
   {
    "duration": 233,
    "start_time": "2023-04-13T19:38:46.057Z"
   },
   {
    "duration": 377,
    "start_time": "2023-04-13T19:38:46.292Z"
   },
   {
    "duration": 313,
    "start_time": "2023-04-13T19:38:46.671Z"
   },
   {
    "duration": 352,
    "start_time": "2023-04-13T19:38:46.986Z"
   },
   {
    "duration": 133,
    "start_time": "2023-04-13T19:38:47.340Z"
   },
   {
    "duration": 0,
    "start_time": "2023-04-13T19:38:47.475Z"
   },
   {
    "duration": 0,
    "start_time": "2023-04-13T19:38:47.476Z"
   },
   {
    "duration": 0,
    "start_time": "2023-04-13T19:38:47.476Z"
   },
   {
    "duration": 0,
    "start_time": "2023-04-13T19:38:47.478Z"
   },
   {
    "duration": 0,
    "start_time": "2023-04-13T19:38:47.478Z"
   },
   {
    "duration": 0,
    "start_time": "2023-04-13T19:38:47.480Z"
   },
   {
    "duration": 0,
    "start_time": "2023-04-13T19:38:47.480Z"
   },
   {
    "duration": 25,
    "start_time": "2023-04-13T19:39:55.109Z"
   },
   {
    "duration": 165,
    "start_time": "2023-04-13T19:41:06.412Z"
   },
   {
    "duration": 1045,
    "start_time": "2023-04-13T19:41:12.860Z"
   },
   {
    "duration": 49,
    "start_time": "2023-04-13T19:41:13.907Z"
   },
   {
    "duration": 21,
    "start_time": "2023-04-13T19:41:13.957Z"
   },
   {
    "duration": 115,
    "start_time": "2023-04-13T19:41:13.980Z"
   },
   {
    "duration": 6,
    "start_time": "2023-04-13T19:41:14.097Z"
   },
   {
    "duration": 12,
    "start_time": "2023-04-13T19:41:14.127Z"
   },
   {
    "duration": 288,
    "start_time": "2023-04-13T19:41:14.141Z"
   },
   {
    "duration": 330,
    "start_time": "2023-04-13T19:41:14.430Z"
   },
   {
    "duration": 229,
    "start_time": "2023-04-13T19:41:14.762Z"
   },
   {
    "duration": 355,
    "start_time": "2023-04-13T19:41:14.993Z"
   },
   {
    "duration": 298,
    "start_time": "2023-04-13T19:41:15.350Z"
   },
   {
    "duration": 326,
    "start_time": "2023-04-13T19:41:15.650Z"
   },
   {
    "duration": 163,
    "start_time": "2023-04-13T19:41:15.977Z"
   },
   {
    "duration": 4,
    "start_time": "2023-04-13T19:41:16.142Z"
   },
   {
    "duration": 150,
    "start_time": "2023-04-13T19:41:16.147Z"
   },
   {
    "duration": 4,
    "start_time": "2023-04-13T19:41:16.300Z"
   },
   {
    "duration": 390,
    "start_time": "2023-04-13T19:41:16.305Z"
   },
   {
    "duration": 12,
    "start_time": "2023-04-13T19:41:16.696Z"
   },
   {
    "duration": 34,
    "start_time": "2023-04-13T19:41:16.727Z"
   },
   {
    "duration": 14,
    "start_time": "2023-04-13T19:41:16.762Z"
   },
   {
    "duration": 398,
    "start_time": "2023-04-13T19:42:38.999Z"
   },
   {
    "duration": 254,
    "start_time": "2023-04-13T19:42:49.337Z"
   },
   {
    "duration": 147,
    "start_time": "2023-04-13T19:43:11.234Z"
   },
   {
    "duration": 141,
    "start_time": "2023-04-13T19:43:58.587Z"
   },
   {
    "duration": 89,
    "start_time": "2023-04-13T19:45:03.833Z"
   },
   {
    "duration": 89,
    "start_time": "2023-04-13T19:45:08.966Z"
   },
   {
    "duration": 146,
    "start_time": "2023-04-13T19:47:13.292Z"
   },
   {
    "duration": 75,
    "start_time": "2023-04-13T19:49:46.437Z"
   },
   {
    "duration": 1087,
    "start_time": "2023-04-13T19:50:56.956Z"
   },
   {
    "duration": 34,
    "start_time": "2023-04-13T19:50:58.045Z"
   },
   {
    "duration": 19,
    "start_time": "2023-04-13T19:50:58.080Z"
   },
   {
    "duration": 117,
    "start_time": "2023-04-13T19:50:58.101Z"
   },
   {
    "duration": 7,
    "start_time": "2023-04-13T19:50:58.234Z"
   },
   {
    "duration": 6,
    "start_time": "2023-04-13T19:50:58.243Z"
   },
   {
    "duration": 302,
    "start_time": "2023-04-13T19:50:58.250Z"
   },
   {
    "duration": 318,
    "start_time": "2023-04-13T19:50:58.554Z"
   },
   {
    "duration": 230,
    "start_time": "2023-04-13T19:50:58.873Z"
   },
   {
    "duration": 379,
    "start_time": "2023-04-13T19:50:59.106Z"
   },
   {
    "duration": 297,
    "start_time": "2023-04-13T19:50:59.487Z"
   },
   {
    "duration": 353,
    "start_time": "2023-04-13T19:50:59.785Z"
   },
   {
    "duration": 151,
    "start_time": "2023-04-13T19:51:00.140Z"
   },
   {
    "duration": 5,
    "start_time": "2023-04-13T19:51:00.293Z"
   },
   {
    "duration": 188,
    "start_time": "2023-04-13T19:51:00.300Z"
   },
   {
    "duration": 3,
    "start_time": "2023-04-13T19:51:00.490Z"
   },
   {
    "duration": 445,
    "start_time": "2023-04-13T19:51:00.495Z"
   },
   {
    "duration": 13,
    "start_time": "2023-04-13T19:51:00.942Z"
   },
   {
    "duration": 80,
    "start_time": "2023-04-13T19:51:00.957Z"
   },
   {
    "duration": 14,
    "start_time": "2023-04-13T19:51:01.039Z"
   },
   {
    "duration": 84,
    "start_time": "2023-04-13T19:54:33.017Z"
   },
   {
    "duration": 78,
    "start_time": "2023-04-13T20:04:21.344Z"
   },
   {
    "duration": 230,
    "start_time": "2023-04-13T20:07:57.846Z"
   },
   {
    "duration": 211,
    "start_time": "2023-04-13T20:08:19.642Z"
   },
   {
    "duration": 39,
    "start_time": "2023-04-13T20:08:40.503Z"
   },
   {
    "duration": 88,
    "start_time": "2023-04-13T20:09:07.531Z"
   },
   {
    "duration": 91,
    "start_time": "2023-04-13T20:16:04.590Z"
   },
   {
    "duration": 5,
    "start_time": "2023-04-13T20:18:22.233Z"
   },
   {
    "duration": 5,
    "start_time": "2023-04-13T20:18:32.192Z"
   },
   {
    "duration": 9,
    "start_time": "2023-04-13T20:18:42.335Z"
   },
   {
    "duration": 7,
    "start_time": "2023-04-13T20:18:49.895Z"
   },
   {
    "duration": 7,
    "start_time": "2023-04-13T20:19:05.986Z"
   },
   {
    "duration": 32,
    "start_time": "2023-04-13T20:20:06.033Z"
   },
   {
    "duration": 90,
    "start_time": "2023-04-13T20:21:19.300Z"
   },
   {
    "duration": 70,
    "start_time": "2023-04-13T20:22:54.236Z"
   },
   {
    "duration": 1244,
    "start_time": "2023-04-14T01:02:00.923Z"
   },
   {
    "duration": 70,
    "start_time": "2023-04-14T01:02:02.169Z"
   },
   {
    "duration": 18,
    "start_time": "2023-04-14T01:02:02.241Z"
   },
   {
    "duration": 169,
    "start_time": "2023-04-14T01:02:02.261Z"
   },
   {
    "duration": 5,
    "start_time": "2023-04-14T01:02:02.432Z"
   },
   {
    "duration": 5,
    "start_time": "2023-04-14T01:02:02.438Z"
   },
   {
    "duration": 277,
    "start_time": "2023-04-14T01:02:02.444Z"
   },
   {
    "duration": 297,
    "start_time": "2023-04-14T01:02:02.722Z"
   },
   {
    "duration": 210,
    "start_time": "2023-04-14T01:02:03.021Z"
   },
   {
    "duration": 335,
    "start_time": "2023-04-14T01:02:03.233Z"
   },
   {
    "duration": 246,
    "start_time": "2023-04-14T01:02:03.570Z"
   },
   {
    "duration": 331,
    "start_time": "2023-04-14T01:02:03.818Z"
   },
   {
    "duration": 138,
    "start_time": "2023-04-14T01:02:04.150Z"
   },
   {
    "duration": 3,
    "start_time": "2023-04-14T01:02:04.290Z"
   },
   {
    "duration": 151,
    "start_time": "2023-04-14T01:02:04.294Z"
   },
   {
    "duration": 5,
    "start_time": "2023-04-14T01:02:04.447Z"
   },
   {
    "duration": 117,
    "start_time": "2023-04-14T01:02:04.454Z"
   },
   {
    "duration": 0,
    "start_time": "2023-04-14T01:02:04.573Z"
   },
   {
    "duration": 0,
    "start_time": "2023-04-14T01:02:04.574Z"
   },
   {
    "duration": 0,
    "start_time": "2023-04-14T01:02:04.575Z"
   },
   {
    "duration": 1376,
    "start_time": "2023-04-14T07:48:21.110Z"
   },
   {
    "duration": 70,
    "start_time": "2023-04-14T07:48:22.489Z"
   },
   {
    "duration": 21,
    "start_time": "2023-04-14T07:48:22.561Z"
   },
   {
    "duration": 180,
    "start_time": "2023-04-14T07:48:22.584Z"
   },
   {
    "duration": 7,
    "start_time": "2023-04-14T07:48:22.765Z"
   },
   {
    "duration": 23,
    "start_time": "2023-04-14T07:48:22.774Z"
   },
   {
    "duration": 332,
    "start_time": "2023-04-14T07:48:22.799Z"
   },
   {
    "duration": 344,
    "start_time": "2023-04-14T07:48:23.133Z"
   },
   {
    "duration": 245,
    "start_time": "2023-04-14T07:48:23.479Z"
   },
   {
    "duration": 395,
    "start_time": "2023-04-14T07:48:23.728Z"
   },
   {
    "duration": 315,
    "start_time": "2023-04-14T07:48:24.126Z"
   },
   {
    "duration": 331,
    "start_time": "2023-04-14T07:48:24.443Z"
   },
   {
    "duration": 164,
    "start_time": "2023-04-14T07:48:24.776Z"
   },
   {
    "duration": 5,
    "start_time": "2023-04-14T07:48:24.942Z"
   },
   {
    "duration": 172,
    "start_time": "2023-04-14T07:48:24.948Z"
   },
   {
    "duration": 8,
    "start_time": "2023-04-14T07:48:25.122Z"
   },
   {
    "duration": 142,
    "start_time": "2023-04-14T07:48:25.132Z"
   },
   {
    "duration": 0,
    "start_time": "2023-04-14T07:48:25.276Z"
   },
   {
    "duration": 0,
    "start_time": "2023-04-14T07:48:25.277Z"
   },
   {
    "duration": 0,
    "start_time": "2023-04-14T07:48:25.279Z"
   },
   {
    "duration": 28,
    "start_time": "2023-04-14T07:54:34.514Z"
   },
   {
    "duration": 72,
    "start_time": "2023-04-14T07:55:38.992Z"
   },
   {
    "duration": 1183,
    "start_time": "2023-04-14T07:55:48.597Z"
   },
   {
    "duration": 36,
    "start_time": "2023-04-14T07:55:49.783Z"
   },
   {
    "duration": 23,
    "start_time": "2023-04-14T07:55:49.821Z"
   },
   {
    "duration": 118,
    "start_time": "2023-04-14T07:55:49.846Z"
   },
   {
    "duration": 32,
    "start_time": "2023-04-14T07:55:49.966Z"
   },
   {
    "duration": 7,
    "start_time": "2023-04-14T07:55:50.000Z"
   },
   {
    "duration": 341,
    "start_time": "2023-04-14T07:55:50.009Z"
   },
   {
    "duration": 333,
    "start_time": "2023-04-14T07:55:50.352Z"
   },
   {
    "duration": 269,
    "start_time": "2023-04-14T07:55:50.687Z"
   },
   {
    "duration": 398,
    "start_time": "2023-04-14T07:55:50.960Z"
   },
   {
    "duration": 281,
    "start_time": "2023-04-14T07:55:51.360Z"
   },
   {
    "duration": 374,
    "start_time": "2023-04-14T07:55:51.643Z"
   },
   {
    "duration": 164,
    "start_time": "2023-04-14T07:55:52.018Z"
   },
   {
    "duration": 10,
    "start_time": "2023-04-14T07:55:52.184Z"
   },
   {
    "duration": 191,
    "start_time": "2023-04-14T07:55:52.196Z"
   },
   {
    "duration": 6,
    "start_time": "2023-04-14T07:55:52.389Z"
   },
   {
    "duration": 182,
    "start_time": "2023-04-14T07:55:52.397Z"
   },
   {
    "duration": 0,
    "start_time": "2023-04-14T07:55:52.581Z"
   },
   {
    "duration": 0,
    "start_time": "2023-04-14T07:55:52.582Z"
   },
   {
    "duration": 0,
    "start_time": "2023-04-14T07:55:52.584Z"
   },
   {
    "duration": 26,
    "start_time": "2023-04-14T07:58:29.392Z"
   },
   {
    "duration": 142,
    "start_time": "2023-04-14T07:58:46.922Z"
   },
   {
    "duration": 142,
    "start_time": "2023-04-14T07:59:31.855Z"
   },
   {
    "duration": 186,
    "start_time": "2023-04-14T08:03:10.578Z"
   },
   {
    "duration": 179,
    "start_time": "2023-04-14T08:03:34.550Z"
   },
   {
    "duration": 389,
    "start_time": "2023-04-14T08:03:54.461Z"
   },
   {
    "duration": 380,
    "start_time": "2023-04-14T08:04:08.800Z"
   },
   {
    "duration": 229,
    "start_time": "2023-04-14T08:08:28.121Z"
   },
   {
    "duration": 1160,
    "start_time": "2023-04-14T08:08:36.559Z"
   },
   {
    "duration": 35,
    "start_time": "2023-04-14T08:08:37.721Z"
   },
   {
    "duration": 22,
    "start_time": "2023-04-14T08:08:37.758Z"
   },
   {
    "duration": 98,
    "start_time": "2023-04-14T08:08:37.782Z"
   },
   {
    "duration": 7,
    "start_time": "2023-04-14T08:08:37.882Z"
   },
   {
    "duration": 7,
    "start_time": "2023-04-14T08:08:37.890Z"
   },
   {
    "duration": 346,
    "start_time": "2023-04-14T08:08:37.899Z"
   },
   {
    "duration": 338,
    "start_time": "2023-04-14T08:08:38.247Z"
   },
   {
    "duration": 240,
    "start_time": "2023-04-14T08:08:38.587Z"
   },
   {
    "duration": 322,
    "start_time": "2023-04-14T08:08:38.829Z"
   },
   {
    "duration": 316,
    "start_time": "2023-04-14T08:08:39.153Z"
   },
   {
    "duration": 356,
    "start_time": "2023-04-14T08:08:39.471Z"
   },
   {
    "duration": 159,
    "start_time": "2023-04-14T08:08:39.829Z"
   },
   {
    "duration": 5,
    "start_time": "2023-04-14T08:08:39.992Z"
   },
   {
    "duration": 182,
    "start_time": "2023-04-14T08:08:39.998Z"
   },
   {
    "duration": 11,
    "start_time": "2023-04-14T08:08:40.182Z"
   },
   {
    "duration": 211,
    "start_time": "2023-04-14T08:08:40.195Z"
   },
   {
    "duration": 10,
    "start_time": "2023-04-14T08:08:40.408Z"
   },
   {
    "duration": 31,
    "start_time": "2023-04-14T08:08:40.420Z"
   },
   {
    "duration": 40,
    "start_time": "2023-04-14T08:08:40.453Z"
   },
   {
    "duration": 97,
    "start_time": "2023-04-14T08:09:19.978Z"
   },
   {
    "duration": 1370,
    "start_time": "2023-04-14T08:13:24.076Z"
   },
   {
    "duration": 1144,
    "start_time": "2023-04-14T08:13:33.923Z"
   },
   {
    "duration": 36,
    "start_time": "2023-04-14T08:13:35.069Z"
   },
   {
    "duration": 24,
    "start_time": "2023-04-14T08:13:35.106Z"
   },
   {
    "duration": 124,
    "start_time": "2023-04-14T08:13:35.132Z"
   },
   {
    "duration": 36,
    "start_time": "2023-04-14T08:13:35.258Z"
   },
   {
    "duration": 11,
    "start_time": "2023-04-14T08:13:35.296Z"
   },
   {
    "duration": 327,
    "start_time": "2023-04-14T08:13:35.309Z"
   },
   {
    "duration": 400,
    "start_time": "2023-04-14T08:13:35.638Z"
   },
   {
    "duration": 274,
    "start_time": "2023-04-14T08:13:36.040Z"
   },
   {
    "duration": 355,
    "start_time": "2023-04-14T08:13:36.318Z"
   },
   {
    "duration": 302,
    "start_time": "2023-04-14T08:13:36.675Z"
   },
   {
    "duration": 376,
    "start_time": "2023-04-14T08:13:36.979Z"
   },
   {
    "duration": 173,
    "start_time": "2023-04-14T08:13:37.357Z"
   },
   {
    "duration": 1310,
    "start_time": "2023-04-14T08:13:37.532Z"
   },
   {
    "duration": 0,
    "start_time": "2023-04-14T08:13:38.844Z"
   },
   {
    "duration": 0,
    "start_time": "2023-04-14T08:13:38.845Z"
   },
   {
    "duration": 0,
    "start_time": "2023-04-14T08:13:38.846Z"
   },
   {
    "duration": 0,
    "start_time": "2023-04-14T08:13:38.847Z"
   },
   {
    "duration": 0,
    "start_time": "2023-04-14T08:13:38.848Z"
   },
   {
    "duration": 0,
    "start_time": "2023-04-14T08:13:38.849Z"
   },
   {
    "duration": 7,
    "start_time": "2023-04-14T08:13:50.612Z"
   },
   {
    "duration": 1295,
    "start_time": "2023-04-14T08:13:59.585Z"
   },
   {
    "duration": 38,
    "start_time": "2023-04-14T08:14:00.883Z"
   },
   {
    "duration": 47,
    "start_time": "2023-04-14T08:14:00.923Z"
   },
   {
    "duration": 132,
    "start_time": "2023-04-14T08:14:00.973Z"
   },
   {
    "duration": 8,
    "start_time": "2023-04-14T08:14:01.108Z"
   },
   {
    "duration": 27,
    "start_time": "2023-04-14T08:14:01.118Z"
   },
   {
    "duration": 424,
    "start_time": "2023-04-14T08:14:01.148Z"
   },
   {
    "duration": 370,
    "start_time": "2023-04-14T08:14:01.573Z"
   },
   {
    "duration": 241,
    "start_time": "2023-04-14T08:14:01.945Z"
   },
   {
    "duration": 400,
    "start_time": "2023-04-14T08:14:02.192Z"
   },
   {
    "duration": 295,
    "start_time": "2023-04-14T08:14:02.594Z"
   },
   {
    "duration": 361,
    "start_time": "2023-04-14T08:14:02.891Z"
   },
   {
    "duration": 181,
    "start_time": "2023-04-14T08:14:03.254Z"
   },
   {
    "duration": 10,
    "start_time": "2023-04-14T08:14:03.437Z"
   },
   {
    "duration": 201,
    "start_time": "2023-04-14T08:14:03.449Z"
   },
   {
    "duration": 8,
    "start_time": "2023-04-14T08:14:03.652Z"
   },
   {
    "duration": 265,
    "start_time": "2023-04-14T08:14:03.662Z"
   },
   {
    "duration": 13,
    "start_time": "2023-04-14T08:14:03.929Z"
   },
   {
    "duration": 57,
    "start_time": "2023-04-14T08:14:03.944Z"
   },
   {
    "duration": 16,
    "start_time": "2023-04-14T08:14:04.004Z"
   },
   {
    "duration": 49,
    "start_time": "2023-04-14T08:14:20.011Z"
   },
   {
    "duration": 78,
    "start_time": "2023-04-14T08:14:39.052Z"
   },
   {
    "duration": 104,
    "start_time": "2023-04-14T08:19:54.021Z"
   },
   {
    "duration": 1129,
    "start_time": "2023-04-14T08:21:28.022Z"
   },
   {
    "duration": 33,
    "start_time": "2023-04-14T08:21:29.153Z"
   },
   {
    "duration": 22,
    "start_time": "2023-04-14T08:21:29.189Z"
   },
   {
    "duration": 100,
    "start_time": "2023-04-14T08:21:29.213Z"
   },
   {
    "duration": 7,
    "start_time": "2023-04-14T08:21:29.314Z"
   },
   {
    "duration": 8,
    "start_time": "2023-04-14T08:21:29.323Z"
   },
   {
    "duration": 325,
    "start_time": "2023-04-14T08:21:29.333Z"
   },
   {
    "duration": 339,
    "start_time": "2023-04-14T08:21:29.660Z"
   },
   {
    "duration": 253,
    "start_time": "2023-04-14T08:21:30.000Z"
   },
   {
    "duration": 400,
    "start_time": "2023-04-14T08:21:30.257Z"
   },
   {
    "duration": 326,
    "start_time": "2023-04-14T08:21:30.659Z"
   },
   {
    "duration": 352,
    "start_time": "2023-04-14T08:21:30.988Z"
   },
   {
    "duration": 165,
    "start_time": "2023-04-14T08:21:31.342Z"
   },
   {
    "duration": 7,
    "start_time": "2023-04-14T08:21:31.508Z"
   },
   {
    "duration": 176,
    "start_time": "2023-04-14T08:21:31.517Z"
   },
   {
    "duration": 7,
    "start_time": "2023-04-14T08:21:31.695Z"
   },
   {
    "duration": 213,
    "start_time": "2023-04-14T08:21:31.703Z"
   },
   {
    "duration": 13,
    "start_time": "2023-04-14T08:21:31.917Z"
   },
   {
    "duration": 64,
    "start_time": "2023-04-14T08:21:31.932Z"
   },
   {
    "duration": 15,
    "start_time": "2023-04-14T08:21:31.998Z"
   },
   {
    "duration": 1308,
    "start_time": "2023-04-14T09:01:21.906Z"
   },
   {
    "duration": 66,
    "start_time": "2023-04-14T09:01:23.215Z"
   },
   {
    "duration": 16,
    "start_time": "2023-04-14T09:01:23.283Z"
   },
   {
    "duration": 162,
    "start_time": "2023-04-14T09:01:23.301Z"
   },
   {
    "duration": 5,
    "start_time": "2023-04-14T09:01:23.465Z"
   },
   {
    "duration": 11,
    "start_time": "2023-04-14T09:01:23.472Z"
   },
   {
    "duration": 269,
    "start_time": "2023-04-14T09:01:23.484Z"
   },
   {
    "duration": 273,
    "start_time": "2023-04-14T09:01:23.755Z"
   },
   {
    "duration": 192,
    "start_time": "2023-04-14T09:01:24.035Z"
   },
   {
    "duration": 347,
    "start_time": "2023-04-14T09:01:24.236Z"
   },
   {
    "duration": 251,
    "start_time": "2023-04-14T09:01:24.584Z"
   },
   {
    "duration": 333,
    "start_time": "2023-04-14T09:01:24.836Z"
   },
   {
    "duration": 139,
    "start_time": "2023-04-14T09:01:25.170Z"
   },
   {
    "duration": 5,
    "start_time": "2023-04-14T09:01:25.311Z"
   },
   {
    "duration": 145,
    "start_time": "2023-04-14T09:01:25.318Z"
   },
   {
    "duration": 6,
    "start_time": "2023-04-14T09:01:25.465Z"
   },
   {
    "duration": 182,
    "start_time": "2023-04-14T09:01:25.473Z"
   },
   {
    "duration": 9,
    "start_time": "2023-04-14T09:01:25.656Z"
   },
   {
    "duration": 26,
    "start_time": "2023-04-14T09:01:25.666Z"
   },
   {
    "duration": 11,
    "start_time": "2023-04-14T09:01:25.693Z"
   }
  ],
  "kernelspec": {
   "display_name": "Python 3 (ipykernel)",
   "language": "python",
   "name": "python3"
  },
  "language_info": {
   "codemirror_mode": {
    "name": "ipython",
    "version": 3
   },
   "file_extension": ".py",
   "mimetype": "text/x-python",
   "name": "python",
   "nbconvert_exporter": "python",
   "pygments_lexer": "ipython3",
   "version": "3.9.13"
  },
  "toc": {
   "base_numbering": 1,
   "nav_menu": {},
   "number_sections": true,
   "sideBar": true,
   "skip_h1_title": true,
   "title_cell": "Table of Contents",
   "title_sidebar": "Contents",
   "toc_cell": false,
   "toc_position": {
    "height": "calc(100% - 180px)",
    "left": "10px",
    "top": "150px",
    "width": "331.859px"
   },
   "toc_section_display": true,
   "toc_window_display": true
  }
 },
 "nbformat": 4,
 "nbformat_minor": 2
}
